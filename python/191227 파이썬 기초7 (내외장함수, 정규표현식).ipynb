{
 "cells": [
  {
   "cell_type": "markdown",
   "metadata": {},
   "source": [
    "# 191227 파이썬 기초7"
   ]
  },
  {
   "cell_type": "code",
   "execution_count": 4,
   "metadata": {},
   "outputs": [
    {
     "name": "stdout",
     "output_type": "stream",
     "text": [
      "[1, 2]\n",
      "[1, 2]\n"
     ]
    }
   ],
   "source": [
    "\"\"\"\n",
    "filter(함수, 반복가능자료형): 반복가능자료형 요소가 첫번째 인수인 함수에 입력이 되었을 때\n",
    "변환 값이 참인 경우에 대해서만 필터링해주는 함수\n",
    "\"\"\"\n",
    "# filter함수 없이 양수만 필터링해주는 함수 구현\n",
    "def positive(p):\n",
    "    res = []\n",
    "    for i in p :\n",
    "        if i>0:\n",
    "            res.append(i)\n",
    "    return res\n",
    "print(positive([1,-3,2,-5]))\n",
    "\n",
    "print(list(filter(lambda x:x>0, [1,-3,2,-5]))) # list로 변환 후 출력"
   ]
  },
  {
   "cell_type": "code",
   "execution_count": 13,
   "metadata": {},
   "outputs": [
    {
     "name": "stdout",
     "output_type": "stream",
     "text": [
      "[2, 3, 4, 5]\n",
      "[2, 3, 4, 5]\n",
      "[2, 3, 4, 5]\n",
      "['1', '2', '3', '4']\n"
     ]
    }
   ],
   "source": [
    "target = [1,2,3,4]\n",
    "res = []\n",
    "def add1(n):\n",
    "    return n+1\n",
    "for v in target :\n",
    "    res.append(add1(v))\n",
    "print(res)\n",
    "\n",
    "# map함수 이용\n",
    "print(list(map(add1, target)))\n",
    "print(list(map(lambda x:x+1, target)))\n",
    "\n",
    "print(list(map(str, target)))\n",
    "# 람다 함수는 두고두고 쓸 수 없음 한번만 쓰고 버리는 용도\n",
    "# def로 정의한 함수는 계속적으로 사용 가능"
   ]
  },
  {
   "cell_type": "code",
   "execution_count": 25,
   "metadata": {},
   "outputs": [
    {
     "name": "stdout",
     "output_type": "stream",
     "text": [
      "[2, 4, 6, 8, 10]\n",
      "[2, 4, 6, 8, 10]\n"
     ]
    }
   ],
   "source": [
    "target = list(range(1,11))\n",
    "res = []\n",
    "\n",
    "def is_even(n):\n",
    "    return True if n%2 == 0 else False\n",
    "\n",
    "# filter\n",
    "res = list(filter(is_even, target))\n",
    "\n",
    "# for문\n",
    "# for v in target :\n",
    "#     if is_even(v) :\n",
    "#         res.append(v)\n",
    "print(res)\n",
    "\n",
    "# filter+lambda 조합\n",
    "res = list(filter(lambda x : x %2 == 0 , target))\n",
    "print(res)"
   ]
  },
  {
   "cell_type": "code",
   "execution_count": 27,
   "metadata": {},
   "outputs": [
    {
     "name": "stdout",
     "output_type": "stream",
     "text": [
      "[1, 3]\n"
     ]
    }
   ],
   "source": [
    "# [1,3,-2,-5] 양수만 필터링\n",
    "print(list(filter(lambda x : x>0, [1,3,-2,-5])))"
   ]
  },
  {
   "cell_type": "code",
   "execution_count": 28,
   "metadata": {},
   "outputs": [],
   "source": [
    "# list object is not callable\n",
    "# 변수명 함수명 중복"
   ]
  },
  {
   "cell_type": "code",
   "execution_count": 29,
   "metadata": {},
   "outputs": [
    {
     "data": {
      "text/plain": [
       "'0xfe'"
      ]
     },
     "execution_count": 29,
     "metadata": {},
     "output_type": "execute_result"
    }
   ],
   "source": [
    "# 정수 -> 16진수\n",
    "hex(254)"
   ]
  },
  {
   "cell_type": "code",
   "execution_count": 31,
   "metadata": {},
   "outputs": [
    {
     "name": "stdout",
     "output_type": "stream",
     "text": [
      "140733907968464\n",
      "140733907968464\n"
     ]
    }
   ],
   "source": [
    "a = 3 # 3이 저장된 주소를 a가 갖고 있다는 의미\n",
    "print(id(3))\n",
    "print(id(a))\n",
    "# id(객체) 객체의 메모리 주소값을 돌려주는 함수"
   ]
  },
  {
   "cell_type": "code",
   "execution_count": 35,
   "metadata": {},
   "outputs": [
    {
     "data": {
      "text/plain": [
       "250"
      ]
     },
     "execution_count": 35,
     "metadata": {},
     "output_type": "execute_result"
    }
   ],
   "source": [
    "int('3')\n",
    "int(3.14)\n",
    "int(\"101\",2) # 2진수 101에 대한 10진수 값\n",
    "int(\"FA\",16) # 16진수 FA에 대한 10진수 값"
   ]
  },
  {
   "cell_type": "code",
   "execution_count": 40,
   "metadata": {},
   "outputs": [
    {
     "name": "stdout",
     "output_type": "stream",
     "text": [
      "True\n",
      "False\n"
     ]
    }
   ],
   "source": [
    "# 클래스 -> 객체(인스턴스)\n",
    "# 붕어빵 isinstance 붕어빵기계 => True\n",
    "# 꽃게빵 isinstance 붕어빵기계 => False\n",
    "class 붕어빵기계:\n",
    "    pass\n",
    "class 꽃게빵기계:\n",
    "    pass\n",
    "꽃게빵 = 꽃게빵기계()\n",
    "붕어빵 = 붕어빵기계()\n",
    "print(isinstance(붕어빵, 붕어빵기계))\n",
    "print(isinstance(꽃게빵, 붕어빵기계))"
   ]
  },
  {
   "cell_type": "code",
   "execution_count": 41,
   "metadata": {},
   "outputs": [
    {
     "data": {
      "text/plain": [
       "['t', 'e', 's', 't']"
      ]
     },
     "execution_count": 41,
     "metadata": {},
     "output_type": "execute_result"
    }
   ],
   "source": [
    "# \"test\" => ['t','e','s','t']\n",
    "\n",
    "list(\"test\")"
   ]
  },
  {
   "cell_type": "code",
   "execution_count": 48,
   "metadata": {},
   "outputs": [
    {
     "name": "stdout",
     "output_type": "stream",
     "text": [
      "[2, 4, 6]\n",
      "[2, 4, 6]\n",
      "[2, 4, 6]\n"
     ]
    }
   ],
   "source": [
    "#1 일반적인 함수 구현\n",
    "def two_times(num):\n",
    "    # 구현 부분\n",
    "    res = []\n",
    "    for i in num :\n",
    "        res.append(i*2)\n",
    "    return res\n",
    "\n",
    "res = two_times([1,2,3])\n",
    "print(res) # [2,4,6]\n",
    "\n",
    "def two_times(x) :\n",
    "    return x*2\n",
    "#2 map 함수로 구현\n",
    "print(list(map(two_times, [1,2,3])))\n",
    "print(list(map(lambda x : x*2, [1,2,3])))"
   ]
  },
  {
   "cell_type": "code",
   "execution_count": 49,
   "metadata": {},
   "outputs": [
    {
     "data": {
      "text/plain": [
       "'t'"
      ]
     },
     "execution_count": 49,
     "metadata": {},
     "output_type": "execute_result"
    }
   ],
   "source": [
    "max([1,2,3])\n",
    "max('test') # 아스키 코드 값이 가장 큰 문자 (알파벳 뒤로 갈수록 아스키코드값이 큼)"
   ]
  },
  {
   "cell_type": "code",
   "execution_count": 51,
   "metadata": {},
   "outputs": [
    {
     "data": {
      "text/plain": [
       "'e'"
      ]
     },
     "execution_count": 51,
     "metadata": {},
     "output_type": "execute_result"
    }
   ],
   "source": [
    "max([1,2,3])\n",
    "min('test')"
   ]
  },
  {
   "cell_type": "code",
   "execution_count": 52,
   "metadata": {},
   "outputs": [
    {
     "data": {
      "text/plain": [
       "'0o10'"
      ]
     },
     "execution_count": 52,
     "metadata": {},
     "output_type": "execute_result"
    }
   ],
   "source": [
    "oct(8) # 10진수 8 -> 8진수 10"
   ]
  },
  {
   "cell_type": "code",
   "execution_count": 54,
   "metadata": {},
   "outputs": [
    {
     "data": {
      "text/plain": [
       "16"
      ]
     },
     "execution_count": 54,
     "metadata": {},
     "output_type": "execute_result"
    }
   ],
   "source": [
    "chr(97) # ord함수의 반대\n",
    "ord('a')\n",
    "pow(2,4)"
   ]
  },
  {
   "cell_type": "code",
   "execution_count": 56,
   "metadata": {},
   "outputs": [
    {
     "data": {
      "text/plain": [
       "3.46"
      ]
     },
     "execution_count": 56,
     "metadata": {},
     "output_type": "execute_result"
    }
   ],
   "source": [
    "round(4.6)\n",
    "round(3.4567,2) # 자리수 지정 소수 둘째자리까지"
   ]
  },
  {
   "cell_type": "code",
   "execution_count": 61,
   "metadata": {},
   "outputs": [
    {
     "data": {
      "text/plain": [
       "[1, 2, 3]"
      ]
     },
     "execution_count": 61,
     "metadata": {},
     "output_type": "execute_result"
    }
   ],
   "source": [
    "# list.sort(), sorted(list)\n",
    "# list.sort() : 리스트를 정렬, 반환값은 None\n",
    "# list의 순서가 변경\n",
    "\n",
    "li = [1,3,2]\n",
    "li.sort()\n",
    "li"
   ]
  },
  {
   "cell_type": "code",
   "execution_count": 62,
   "metadata": {},
   "outputs": [
    {
     "name": "stdout",
     "output_type": "stream",
     "text": [
      "[1, 2, 3]\n"
     ]
    }
   ],
   "source": [
    "# sorted(list) : 정렬된 새로운 리스트 반환\n",
    "# 원본 리스트에는 영향이 없음\n",
    "li2 = [1,3,2]\n",
    "print(sorted(li2))\n",
    "# 두 함수 차이점 정리\n",
    "# sort는 원본 리스트 순서가 변경됨\n",
    "# sorted 변경 안됨\n",
    "# 속도 : sort > sorted sorted 사본 리스트가 생성"
   ]
  },
  {
   "cell_type": "code",
   "execution_count": 67,
   "metadata": {},
   "outputs": [
    {
     "data": {
      "text/plain": [
       "[1, 2, 3]"
      ]
     },
     "execution_count": 67,
     "metadata": {},
     "output_type": "execute_result"
    }
   ],
   "source": [
    "sorted(['a', 'c', 'b'])\n",
    "sorted('today')\n",
    "sorted((1,3,2))"
   ]
  },
  {
   "cell_type": "code",
   "execution_count": 72,
   "metadata": {},
   "outputs": [
    {
     "data": {
      "text/plain": [
       "'HI'"
      ]
     },
     "execution_count": 72,
     "metadata": {},
     "output_type": "execute_result"
    }
   ],
   "source": [
    "str(3)\n",
    "str(\"hi\")\n",
    "str(\"hi\".upper()) # 대문자"
   ]
  },
  {
   "cell_type": "code",
   "execution_count": 73,
   "metadata": {},
   "outputs": [
    {
     "data": {
      "text/plain": [
       "6"
      ]
     },
     "execution_count": 73,
     "metadata": {},
     "output_type": "execute_result"
    }
   ],
   "source": [
    "sum([1,2])\n",
    "sum((1,2,3))"
   ]
  },
  {
   "cell_type": "code",
   "execution_count": 77,
   "metadata": {},
   "outputs": [
    {
     "data": {
      "text/plain": [
       "[('a', 'd', 'g'), ('b', 'e', 'h'), ('c', 'f', 'i')]"
      ]
     },
     "execution_count": 77,
     "metadata": {},
     "output_type": "execute_result"
    }
   ],
   "source": [
    "# 자료를 묶어주는 함수\n",
    "list(zip('abc', 'def'))\n",
    "list(zip('abc', 'defg'))\n",
    "list(zip('abc', 'de'))\n",
    "list(zip('abc', 'def', 'ghi'))"
   ]
  },
  {
   "cell_type": "code",
   "execution_count": 79,
   "metadata": {},
   "outputs": [],
   "source": [
    "# pickle : 객체 상태 그대로 저장 / 불러오기 모듈\n",
    "\n",
    "import pickle\n",
    "f = open('test.txt', 'wb') # 객체형태로 지정할 때 binary 모드\n",
    "data = {1: 'python', 2: 'java'} # dict\n",
    "pickle.dump(data, f)\n",
    "f.close()"
   ]
  },
  {
   "cell_type": "code",
   "execution_count": 80,
   "metadata": {},
   "outputs": [
    {
     "name": "stdout",
     "output_type": "stream",
     "text": [
      "{1: 'python', 2: 'java'}\n"
     ]
    }
   ],
   "source": [
    "f = open('test.txt', 'rb')\n",
    "data = pickle.load(f)\n",
    "print(data)"
   ]
  },
  {
   "cell_type": "code",
   "execution_count": 82,
   "metadata": {},
   "outputs": [
    {
     "data": {
      "text/plain": [
       "'test2.txt'"
      ]
     },
     "execution_count": 82,
     "metadata": {},
     "output_type": "execute_result"
    }
   ],
   "source": [
    "import shutil # 파일 복사 모듈\n",
    "\n",
    "shutil.copy(\"test.txt\", \"test2.txt\")"
   ]
  },
  {
   "cell_type": "code",
   "execution_count": 95,
   "metadata": {},
   "outputs": [
    {
     "data": {
      "text/plain": [
       "['c:\\\\Windows\\\\PFRO.log',\n",
       " 'c:\\\\Windows\\\\setupact.log',\n",
       " 'c:\\\\Windows\\\\setuperr.log',\n",
       " 'c:\\\\Windows\\\\WindowsUpdate.log']"
      ]
     },
     "execution_count": 95,
     "metadata": {},
     "output_type": "execute_result"
    }
   ],
   "source": [
    "import glob\n",
    "glob.glob(\"c:\\Windows\\*.log\")"
   ]
  },
  {
   "cell_type": "code",
   "execution_count": 99,
   "metadata": {},
   "outputs": [
    {
     "data": {
      "text/plain": [
       "True"
      ]
     },
     "execution_count": 99,
     "metadata": {},
     "output_type": "execute_result"
    }
   ],
   "source": [
    "import webbrowser\n",
    "webbrowser.open_new('http://www.goolge.com')"
   ]
  },
  {
   "cell_type": "code",
   "execution_count": 105,
   "metadata": {},
   "outputs": [
    {
     "name": "stdout",
     "output_type": "stream",
     "text": [
      "p1:30 20\n",
      "p1:50 40\n",
      "28.284271247461902\n",
      "28.284271247461902\n"
     ]
    }
   ],
   "source": [
    "# 2차원 평면에서 위치를 나타내는 클래스\n",
    "import math\n",
    "class Point2D :\n",
    "    def __init__(self, x, y):\n",
    "        self.x = x \n",
    "        self.y = y\n",
    "        \n",
    "p1 = Point2D(30,20) # 점 1 (x = 30, y = 20)\n",
    "p2 = Point2D(50,40) # 점 2 (x = 50, y = 40)\n",
    "print(\"p1:{} {}\".format(p1.x, p1.y))\n",
    "print(\"p1:{} {}\".format(p2.x, p2.y))\n",
    "\n",
    "# 두 점 사이의 거리 출력 (피타고라스 정리)\n",
    "dis = ((p1.x-p2.x)**2 + (p1.x-p2.x)**2)**0.5\n",
    "dis2 = math.sqrt(pow(p1.x-p2.x,2) + pow(p1.x-p2.x,2)) # math 모듈 사용\n",
    "print(dis)\n",
    "print(dis2)"
   ]
  },
  {
   "cell_type": "code",
   "execution_count": 106,
   "metadata": {},
   "outputs": [
    {
     "data": {
      "text/plain": [
       "['__add__',\n",
       " '__class__',\n",
       " '__contains__',\n",
       " '__delattr__',\n",
       " '__delitem__',\n",
       " '__dir__',\n",
       " '__doc__',\n",
       " '__eq__',\n",
       " '__format__',\n",
       " '__ge__',\n",
       " '__getattribute__',\n",
       " '__getitem__',\n",
       " '__gt__',\n",
       " '__hash__',\n",
       " '__iadd__',\n",
       " '__imul__',\n",
       " '__init__',\n",
       " '__init_subclass__',\n",
       " '__iter__',\n",
       " '__le__',\n",
       " '__len__',\n",
       " '__lt__',\n",
       " '__mul__',\n",
       " '__ne__',\n",
       " '__new__',\n",
       " '__reduce__',\n",
       " '__reduce_ex__',\n",
       " '__repr__',\n",
       " '__reversed__',\n",
       " '__rmul__',\n",
       " '__setattr__',\n",
       " '__setitem__',\n",
       " '__sizeof__',\n",
       " '__str__',\n",
       " '__subclasshook__',\n",
       " 'append',\n",
       " 'clear',\n",
       " 'copy',\n",
       " 'count',\n",
       " 'extend',\n",
       " 'index',\n",
       " 'insert',\n",
       " 'pop',\n",
       " 'remove',\n",
       " 'reverse',\n",
       " 'sort']"
      ]
     },
     "execution_count": 106,
     "metadata": {},
     "output_type": "execute_result"
    }
   ],
   "source": [
    "\"\"\"\n",
    "이터레이터(iterator, 반복자) : 데이터를 차례대로 꺼낼 수 있는 객체\n",
    "for i in range(10)\n",
    "-> 숫자 0~9까지를 차례대로 꺼내는 이터레이터가 있음\n",
    "이터레이터에 의해서 0~9까지의 수가 생성\n",
    "iterable : 반복 가능한 객체 ex ) 문자열, 리스트, 튜플...\n",
    "\"\"\"\n",
    "\n",
    "# 데이터가 이터러블 한지 확인\n",
    "# dir(객체)\n",
    "dir([1,2,3]) # 반복가능 : __iter__이 포함"
   ]
  },
  {
   "cell_type": "code",
   "execution_count": 111,
   "metadata": {},
   "outputs": [],
   "source": [
    "it = [1,2,3].__iter__()"
   ]
  },
  {
   "cell_type": "code",
   "execution_count": 112,
   "metadata": {},
   "outputs": [
    {
     "name": "stdout",
     "output_type": "stream",
     "text": [
      "1\n",
      "2\n",
      "3\n"
     ]
    }
   ],
   "source": [
    "print(it.__next__())\n",
    "print(it.__next__())\n",
    "print(it.__next__())"
   ]
  },
  {
   "cell_type": "code",
   "execution_count": 113,
   "metadata": {},
   "outputs": [
    {
     "name": "stdout",
     "output_type": "stream",
     "text": [
      "1\n",
      "2\n",
      "3\n"
     ]
    }
   ],
   "source": [
    "for i in range(1,4):\n",
    "    print(i)"
   ]
  },
  {
   "cell_type": "code",
   "execution_count": 114,
   "metadata": {},
   "outputs": [
    {
     "data": {
      "text/plain": [
       "'\\n        1) __iter__() 호출\\n        2) __next__() 호출 -> i 변수에 0 저장 -> 프린트\\n        3) __next__() 호출 -> i 변수에 1 저장 -> 프린트\\n        4) __next__() 호출 -> i 변수에 2 저장 -> 에러발생 stop\\nfor i in range(3):\\n    print(i)\\n\\n'"
      ]
     },
     "execution_count": 114,
     "metadata": {},
     "output_type": "execute_result"
    }
   ],
   "source": [
    "\"\"\"\n",
    "        1) __iter__() 호출\n",
    "        2) __next__() 호출 -> i 변수에 0 저장 -> 프린트\n",
    "        3) __next__() 호출 -> i 변수에 1 저장 -> 프린트\n",
    "        4) __next__() 호출 -> i 변수에 2 저장 -> 에러발생 stop\n",
    "for i in range(3):\n",
    "    print(i)\n",
    "\n",
    "\"\"\""
   ]
  },
  {
   "cell_type": "code",
   "execution_count": 129,
   "metadata": {},
   "outputs": [
    {
     "name": "stdout",
     "output_type": "stream",
     "text": [
      "\n",
      "950101-*******\n",
      "970202-*******\n",
      "\n"
     ]
    }
   ],
   "source": [
    "\"\"\"\n",
    "데이터수집(정규표현식) -> 전처리 -> 분석 ...\n",
    "정규표현식 : 문자열을 규칙에 맞춰 정리\n",
    "010-1234-1234\n",
    "\n",
    "텍스트 수집 -> 주민번호 -> 뒷자리를 *로 변경\n",
    "\"\"\"\n",
    "\n",
    "data = \"\"\"\n",
    "kim 950101-1234567\n",
    "lee 970202-2345678\n",
    "\"\"\"\n",
    "result = []\n",
    "word_res = []\n",
    "for line in data.split('\\n'):\n",
    "    word_res = []\n",
    "    for word in line.split(\" \"):\n",
    "        if len(word) == 14 and word[:6].isdigit() and word[7:].isdigit() : # isdigit() : 숫자인지 아닌지 확인해줌\n",
    "            w = word[0:6] + \"-\" + \"*******\"\n",
    "            word_res.append(w)\n",
    "    result.append(\" \".join(word_res))\n",
    "            \n",
    "print(\"\\n\".join(result))"
   ]
  },
  {
   "cell_type": "code",
   "execution_count": 135,
   "metadata": {},
   "outputs": [
    {
     "name": "stdout",
     "output_type": "stream",
     "text": [
      "\n",
      "kim 950101-*******\n",
      "lee 970202-*******\n",
      "\n"
     ]
    }
   ],
   "source": [
    "data = \"\"\"\n",
    "kim 950101-1234567\n",
    "lee 970202-2345678\n",
    "\"\"\"\n",
    "\n",
    "import re\n",
    "# regular express 정규표현식 모듈\n",
    "\n",
    "pattern = re.compile(\"(\\d{6})[-]\\d{7}\")\n",
    "print(pattern.sub(\"\\g<1>-*******\",data))\n"
   ]
  },
  {
   "cell_type": "code",
   "execution_count": 136,
   "metadata": {},
   "outputs": [
    {
     "name": "stdout",
     "output_type": "stream",
     "text": [
      "<re.Match object; span=(0, 5), match='hello'>\n",
      "None\n"
     ]
    }
   ],
   "source": [
    "# 정규 표현식 작성방법\n",
    "# re.match(\"패턴\", \"문자열\"): 주어진 문자열에 지정한 패턴이 있는지 여부를 확인\n",
    "\n",
    "print(re.match(\"hello\", \"hello.world\"))\n",
    "print(re.match(\"hi\", \"hello.world\"))\n",
    "# None이 나오면 패턴이 없는 것"
   ]
  },
  {
   "cell_type": "code",
   "execution_count": null,
   "metadata": {},
   "outputs": [],
   "source": [
    "\"\"\"\n",
    "정규표현식 메타문자(문자의 본래 의미가 아닌, 특정 의미를 갖는 문자)\n",
    "> () {} [] \\ | ? + * $ ^ ...\n",
    "1. [] 메타문자 :  문자와 관련된 정규식 사용\n",
    "[] 대괄호 사이에는 어떤 문자도 올 수 있음\n",
    "ex) 정규표현식 : [abcdef] => 의미 : abcdef 여섯개의 문자 중에서 한 개의 문자와 매치\n",
    "    \"a\"는 정규식에 일치하는 문자가 있으므로 -> 매치됨\n",
    "\"\"\""
   ]
  },
  {
   "cell_type": "code",
   "execution_count": 153,
   "metadata": {},
   "outputs": [
    {
     "name": "stdout",
     "output_type": "stream",
     "text": [
      "<re.Match object; span=(0, 1), match='1'>\n",
      "None\n",
      "<re.Match object; span=(0, 1), match='1'>\n",
      "None\n"
     ]
    }
   ],
   "source": [
    "# [] 예시\n",
    "# print(re.match(\"[abcdef]\", \"a\"))\n",
    "# print(re.match(\"[abcdef]\", \"z\"))\n",
    "# print(re.match(\"[abcdef]\", \"all\"))\n",
    "# print(re.match(\"[abcdef]\", \"sky\"))\n",
    "# print(re.match(\"[abcdef]\", \"best\"))\n",
    "# print(re.match(\"[abcdef]\", \"fgha\"))\n",
    "\n",
    "# print(re.match(\"[a-z]\", \"fgha\"))\n",
    "# # [a-z] : 알파벳 소문자 모두\n",
    "# print(re.match(\"[a-z]\", \"ABC\"))\n",
    "# # [a-z] : 알파벳 소문자 모두\n",
    "# print(re.match(\"[A-Z]\", \"ABC\"))\n",
    "# # [A-Z] : 알파벳 대문자 모두\n",
    "# print(re.match(\"[a-zA-Z]\", \"abc\"))\n",
    "# # [a-zA-Z] : 알파벳 대소문자 모두\n",
    "\n",
    "print(re.match(\"[0-9]\", \"119\"))\n",
    "# [0-9] : 숫자 모두\n",
    "\n",
    "print(re.match(\"[^0-9]\", \"119\"))\n",
    "# [^0-9] : 숫자를 제외한 모두\n",
    "\n",
    "print(re.match(\"\\d\", \"119\"))\n",
    "# \\d : 숫자와 모든 수 [0-9]와 같은 의미\n",
    "print(re.match(\"\\D\", \"119\"))\n",
    "# \\D : 숫자가 아닌 모든 것과 매치 [^0-9]와 같음"
   ]
  },
  {
   "cell_type": "code",
   "execution_count": 164,
   "metadata": {},
   "outputs": [
    {
     "name": "stdout",
     "output_type": "stream",
     "text": [
      "<re.Match object; span=(0, 1), match='t'>\n",
      "None\n",
      "<re.Match object; span=(0, 1), match='대'>\n"
     ]
    }
   ],
   "source": [
    "print(re.match(\"\\w\", \"test\"))\n",
    "# \\w : 문자 숫자 모두 매치\n",
    "# print(re.match(\"[0-9a-zA-Z]\", \"대한민국\"))\n",
    "# print(re.match(\"[^0-9a-zA-Z]\", \"대한민국\"))\n",
    "print(re.match(\"\\W\", \"test\"))\n",
    "\n",
    "print(re.match(\"[가-핳]\", \"대한민국\"))\n",
    "# [가-핳] : 한국어 전체 매치"
   ]
  },
  {
   "cell_type": "code",
   "execution_count": 166,
   "metadata": {},
   "outputs": [
    {
     "name": "stdout",
     "output_type": "stream",
     "text": [
      "None\n",
      "<re.Match object; span=(6, 8), match='hi'>\n"
     ]
    }
   ],
   "source": [
    "\"\"\"\n",
    "^문자열 : 문자열이 맨 앞에 오는지 판단\n",
    "문자열$ : 문자열이 맨 뒤에 오는지 판단\n",
    "search 함수에서 사용\n",
    "\"\"\"\n",
    "print(re.search(\"^hi\", \"hello.hi\"))\n",
    "# hi문자열이 맨 앞에 오는지 판단\n",
    "print(re.search(\"hi$\", \"hello.hi\"))\n",
    "# hi문자열이 맨 뒤에 오는지 판단"
   ]
  },
  {
   "cell_type": "code",
   "execution_count": 172,
   "metadata": {},
   "outputs": [
    {
     "name": "stdout",
     "output_type": "stream",
     "text": [
      "<re.Match object; span=(0, 2), match='hi'>\n",
      "None\n",
      "<re.Match object; span=(0, 5), match='hello'>\n"
     ]
    }
   ],
   "source": [
    "print(re.match(\"hello|hi|good\", \"hi\"))\n",
    "# |(bar) 기호는 '또는' 의미\n",
    "print(re.match(\"hello|hi|good\", \"goo\"))\n",
    "print(re.match(\"hello|hi|good\", \"hello\"))"
   ]
  },
  {
   "cell_type": "code",
   "execution_count": null,
   "metadata": {},
   "outputs": [],
   "source": [
    "# [] 사이의 문자들과 매치\n",
    "\"\"\"\n",
    "정규식 : [abc]\n",
    "의미 : a,b,c 중에서 한 개의 문자와 매치\n",
    "a문자 - 매치, before - 매치\n",
    "\"\"\""
   ]
  },
  {
   "cell_type": "code",
   "execution_count": 181,
   "metadata": {},
   "outputs": [
    {
     "name": "stdout",
     "output_type": "stream",
     "text": [
      "<re.Match object; span=(0, 1), match='1'>\n",
      "<re.Match object; span=(0, 3), match='123'>\n",
      "<re.Match object; span=(0, 2), match='12'>\n",
      "<re.Match object; span=(0, 0), match=''>\n"
     ]
    }
   ],
   "source": [
    "print(re.match(\"[0-9]\", '123'))\n",
    "# 패턴이 문자열에 있는지 확인\n",
    "# span = (0,1)패턴이 매치되는 문자열의 위치\n",
    "\n",
    "print(re.match(\"[0-9]*\", '123'))\n",
    "# *은 숫자가 0개 이상 있는지 판단\n",
    "# 위 코드에서는 숫자 3개가 매치됨\n",
    "\n",
    "print(re.match(\"[0-9]*\", '12a3')) # 2개 매치\n",
    "print(re.match(\"[0-9]*\", 'x12a3')) # 0개 매치"
   ]
  },
  {
   "cell_type": "code",
   "execution_count": 182,
   "metadata": {},
   "outputs": [
    {
     "name": "stdout",
     "output_type": "stream",
     "text": [
      "<re.Match object; span=(0, 0), match=''>\n"
     ]
    }
   ],
   "source": [
    "print(re.match(\"[a-z]*\", \"12a3bc\"))"
   ]
  },
  {
   "cell_type": "code",
   "execution_count": 184,
   "metadata": {},
   "outputs": [
    {
     "name": "stdout",
     "output_type": "stream",
     "text": [
      "None\n",
      "<re.Match object; span=(0, 3), match='abc'>\n"
     ]
    }
   ],
   "source": [
    "print(re.match(\"[a-z]+\", \"12a3bc\"))\n",
    "print(re.match(\"[a-z]+\", \"abc123def\"))\n",
    "# + : 문자가 1개 이상 있는지 판단"
   ]
  },
  {
   "cell_type": "code",
   "execution_count": 196,
   "metadata": {},
   "outputs": [
    {
     "name": "stdout",
     "output_type": "stream",
     "text": [
      "<re.Match object; span=(0, 3), match='aaa'>\n",
      "<re.Match object; span=(0, 1), match='b'>\n",
      "None\n",
      "<re.Match object; span=(0, 2), match='ab'>\n",
      "<re.Match object; span=(0, 3), match='aab'>\n",
      "None\n"
     ]
    }
   ],
   "source": [
    "print(re.match('a*', \"aaab\"))\n",
    "print(re.match('a*b', \"b\"))\n",
    "# a가 0개 이상 있으면서 b로 이어진다면 매치\n",
    "\n",
    "print(re.match('a+b', \"b\"))\n",
    "print(re.match('a+b', \"ab\"))\n",
    "print(re.match('a+b', \"aab\"))\n",
    "print(re.match('a+b', \"aacb\"))"
   ]
  },
  {
   "cell_type": "code",
   "execution_count": 202,
   "metadata": {},
   "outputs": [
    {
     "name": "stdout",
     "output_type": "stream",
     "text": [
      "<re.Match object; span=(0, 6), match='aaaaaa'>\n",
      "<re.Match object; span=(0, 7), match='aaaaaab'>\n",
      "<re.Match object; span=(0, 7), match='aaaaaab'>\n",
      "<re.Match object; span=(0, 7), match='aaaaaab'>\n"
     ]
    }
   ],
   "source": [
    "print(re.match('a*', \"aaaaaab\"))\n",
    "# 패턴이 문자열에 있는지 확인\n",
    "print(re.match('a+b', \"aaaaaab\"))\n",
    "print(re.match('a+b', \"aaaaaabccc\"))\n",
    "print(re.match('a+b*', \"aaaaaabcc\"))"
   ]
  },
  {
   "cell_type": "code",
   "execution_count": 205,
   "metadata": {},
   "outputs": [
    {
     "name": "stdout",
     "output_type": "stream",
     "text": [
      "<re.Match object; span=(0, 3), match='aab'>\n",
      "<re.Match object; span=(0, 5), match='aabbc'>\n",
      "None\n",
      "<re.Match object; span=(0, 7), match='aabbccb'>\n"
     ]
    }
   ],
   "source": [
    "print(re.match(\"a*b\", \"aab\")) # match\n",
    "print(re.match(\"a*b*c\", \"aabbcc\")) # match\n",
    "print(re.match(\"a*b*c+b\", \"aabbcc\")) # None\n",
    "print(re.match(\"a*b*c+b\", \"aabbccb\")) # match"
   ]
  },
  {
   "cell_type": "code",
   "execution_count": 214,
   "metadata": {},
   "outputs": [
    {
     "name": "stdout",
     "output_type": "stream",
     "text": [
      "<re.Match object; span=(0, 1), match='h'>\n",
      "<re.Match object; span=(0, 1), match='h'>\n",
      "<re.Match object; span=(0, 1), match='h'>\n",
      "<re.Match object; span=(0, 0), match=''>\n",
      "<re.Match object; span=(0, 1), match='h'>\n"
     ]
    }
   ],
   "source": [
    "print(re.match(\"h?\", \"h\"))\n",
    "print(re.match(\"h?\", \"hi\"))\n",
    "print(re.match(\"h?\", \"hello\"))\n",
    "print(re.match(\"h?\", \"ello\"))\n",
    "print(re.match(\"h?\", \"hhello\"))\n",
    "# ?는 문자가 0개 또는 1개가 있으면 매치됨\n",
    "# h?는 h문자가 0개 또는 1개가 있으면 매치됨"
   ]
  },
  {
   "cell_type": "code",
   "execution_count": 229,
   "metadata": {},
   "outputs": [
    {
     "name": "stdout",
     "output_type": "stream",
     "text": [
      "<re.Match object; span=(0, 3), match='dog'>\n",
      "None\n",
      "<re.Match object; span=(0, 2), match='dg'>\n",
      "<re.Match object; span=(0, 2), match='dg'>\n",
      "<re.Match object; span=(0, 16), match='dggggggggggggggg'>\n"
     ]
    }
   ],
   "source": [
    "# .은 문자가 1개가 있으면 매치됨\n",
    "# h.은 h문자 다음에 문자가 1개 있으면 매치됨\n",
    "# print(re.match(\"h.\", \"h\"))\n",
    "# print(re.match(\"h.\", \"hello\"))\n",
    "# print(re.match(\"h.l\", \"hello\")) # h+문자+ㅣ모양이 나와야 함\n",
    "# print(re.match(\"a.b\", \"ab\"))\n",
    "# print(re.match(\"a.b\", \"acb\"))\n",
    "# print(re.match(\"a.b\", \"accb\"))\n",
    "\n",
    "print(re.match(\"do*g\", \"dog\"))\n",
    "print(re.match(\"do*g\", \"dokg\"))\n",
    "print(re.match(\"do*g\", \"dg\"))\n",
    "print(re.match(\"do*g\", \"dggggggggggggggg\"))\n",
    "print(re.match(\"do*g+\", \"dggggggggggggggg\"))"
   ]
  },
  {
   "cell_type": "code",
   "execution_count": 242,
   "metadata": {},
   "outputs": [
    {
     "name": "stdout",
     "output_type": "stream",
     "text": [
      "None\n",
      "None\n",
      "None\n",
      "None\n",
      "<re.Match object; span=(0, 4), match='hihi'>\n",
      "<re.Match object; span=(0, 8), match='hihihehe'>\n"
     ]
    }
   ],
   "source": [
    "# a{3} : a가 3개 있는지 확인\n",
    "# print(re.match(\"a{3}\", \"aaabbbccc\"))\n",
    "# print(re.match(\"a{3}b\", \"aaabbbccc\"))\n",
    "# print(re.match(\"a{3}b*\", \"aaabbbccc\"))\n",
    "# print(re.match(\"a{3}b+\", \"aaabbbccc\"))\n",
    "# print(re.match(\"a{3}b+c\", \"aaabbbccc\"))\n",
    "# print(re.match(\"a{3}b+c*\", \"aaabbbccc\"))\n",
    "\n",
    "print(re.match(\"hellohi\", \"hello\"))\n",
    "print(re.match(\"a{3}\", \"aabbbccc\"))\n",
    "\n",
    "# (문자열){횟수} : 문자열이 지정된 횟수만큼 반복\n",
    "print(re.match(\"(hi){2}\", \"hi\")) # hi가 2번 나와야 함\n",
    "print(re.match(\"hi{2}\",\"hi\")) # h+i2번 나와야 함\\\n",
    "print(re.match(\"(hi){2}\", \"hihi\"))\n",
    "print(re.match(\"(hi){2}(he){2}\", \"hihihehe\"))"
   ]
  },
  {
   "cell_type": "code",
   "execution_count": 244,
   "metadata": {},
   "outputs": [
    {
     "name": "stdout",
     "output_type": "stream",
     "text": [
      "<re.Match object; span=(0, 12), match='test.abc.com'>\n"
     ]
    }
   ],
   "source": [
    "# a.b => a + 모든 문자 + b\n",
    "# abc는 매치 안됨\n",
    "\n",
    "# 주의 사항 a[.]b = a + . + b\n",
    "\"[a-z]+[.][a-z]+[.]+com\"\n",
    "print(re.match(\"[a-z]+[.][a-z]+[.]+com\", \"test.abc.com\"))"
   ]
  },
  {
   "cell_type": "code",
   "execution_count": 250,
   "metadata": {},
   "outputs": [
    {
     "name": "stdout",
     "output_type": "stream",
     "text": [
      "<re.Match object; span=(0, 13), match='010-1234-5678'>\n",
      "None\n",
      "<re.Match object; span=(0, 12), match='02-1234-5678'>\n"
     ]
    }
   ],
   "source": [
    "tel1 = \"010-1234-5678\"\n",
    "tel2 = \"02-1234-5678\"\n",
    "print(re.match(\"[0-9]{3}-[0-9]{4}-[0-9]{4}\",tel1))\n",
    "print(re.match(\"[0-9]{3}-[0-9]{4}-[0-9]{4}\",tel2))\n",
    "print(re.match(\"[0-9]{2,3}-[0-9]{3,4}-[0-9]{4}\",tel2))\n",
    "# {2,3} 숫자가 최소 2개 ~ 최대 3개 매치될 수 있음"
   ]
  },
  {
   "cell_type": "code",
   "execution_count": 253,
   "metadata": {},
   "outputs": [
    {
     "name": "stdout",
     "output_type": "stream",
     "text": [
      "비정상번호\n"
     ]
    }
   ],
   "source": [
    "jm = \"990101-1234567\"\n",
    "check = re.match(\"[0-9]{6}-[0-9]{7}\", jm)\n",
    "if check :\n",
    "    print(\"정상번호\")\n",
    "else : \n",
    "    print(\"비정상번호\")"
   ]
  },
  {
   "cell_type": "markdown",
   "metadata": {},
   "source": [
    "## 연습문제"
   ]
  },
  {
   "cell_type": "markdown",
   "metadata": {},
   "source": [
    "커피 자판기 만들기\n",
    "\n",
    "금액 투입\n",
    "커피 선택\n",
    "커피출력\n",
    "잔액 출력\n",
    "동전 : 500, 100, 50, 1000 등등\n",
    "\n",
    "1) 관리자 / 사용자 기능 구현\n",
    "\n",
    "예시)\n",
    "\n",
    "1) 관리자\n",
    "- 커피 재료 준비 (10잔 입력)\n",
    "- 동전 투입 (500:20, 100:50)\n",
    "\n",
    "2) 사용자\n",
    "- 금액 투입\n",
    "- 커피 선택\n",
    "- 잔액 확인 출금? 커피 더 선택?\n",
    "\n",
    "실행 예시)\n",
    "\n",
    "<step 1>\n",
    "\n",
    "선택하세요\n",
    "\n",
    "(1) 관리자 모드 (2) 사용자 모드 (3) 종료\n",
    "\n",
    "입력 1\n",
    "\n",
    "관리자 모드\n",
    "\n",
    "<step 2>\n",
    "\n",
    "(1) 커피재료 (2) 동전 투입 (3) 종료  (or 이전)\n",
    "\n",
    "입력 : 1\n",
    "\n",
    "<step 3>\n",
    "\n",
    "커피 충전 : 10\n",
    "\n",
    "10잔이 충전되었습니다.\n"
   ]
  },
  {
   "cell_type": "code",
   "execution_count": 8,
   "metadata": {},
   "outputs": [],
   "source": [
    "import pickle"
   ]
  },
  {
   "cell_type": "code",
   "execution_count": 12,
   "metadata": {},
   "outputs": [],
   "source": [
    "coffee_set = {'coffee': 0, 'money':{'100' : 0, '500' : 0, '1000' : 0, '5000' : 0, \n",
    "                                    '10000':0}, 'total':0}\n",
    "coffee_set2 = {'coffee': 1, 'money':{'100' : 1, '500' : 0, '1000' : 0, '5000' : 0, \n",
    "                                    '10000':0}, 'total':2}\n",
    "\n",
    "# 커피 자판기 기본 세팅\n",
    "with open('coffee_m.txt', 'wb') as f:\n",
    "    pickle.dump(coffee_set, f)"
   ]
  },
  {
   "cell_type": "code",
   "execution_count": 11,
   "metadata": {},
   "outputs": [
    {
     "name": "stdout",
     "output_type": "stream",
     "text": [
      "어서오세요 사용 모드를 선택해주세요 1. 관리자 모드 2. 사용자 모드 3. 종료: 1\n",
      "관리자 비밀번호를 입력해주세요 : 1234*\n",
      "1. 커피 추가 2. 동전 투입 3. 종료 : 2\n",
      "추가할 동전과 갯수를 입력해주세요 : 100:5\n",
      "추가가 완료되었습니다. 관리자 모드 선택 페이지로 이동합니다.\n",
      "관리자 비밀번호를 입력해주세요 : 1234*\n",
      "관리자 비밀번호를 입력해주세요 : 1\n",
      "관리자 비밀번호를 잊어버리셨습니까? 1. yes 2. no : 1\n",
      "관리자 모드를 종료합니다.\n"
     ]
    }
   ],
   "source": [
    "i = 0\n",
    "\n",
    "def file_save(li):\n",
    "    with open('coffee_m.txt', 'ab') as f:\n",
    "        pickle.dump(li, f)\n",
    "\n",
    "def file_open(file_name):\n",
    "    data_li = []\n",
    "    with open(file_name, 'rb') as f:\n",
    "            a = 0\n",
    "            while a == 0 :\n",
    "                try: \n",
    "                    data=pickle.load(f)\n",
    "                    data_li.append(data)\n",
    "                except :\n",
    "                    a = 1\n",
    "    return data_li\n",
    "\n",
    "mode = input('어서오세요 사용 모드를 선택해주세요 1. 관리자 모드 2. 사용자 모드 3. 종료: ')\n",
    "if mode == '1' :\n",
    "    while True :\n",
    "        pw = input('관리자 비밀번호를 입력해주세요 : ')\n",
    "        if pw == '1234*':\n",
    "            while i == 0:\n",
    "                do = input('1. 커피 추가 2. 동전 투입 3. 종료 : ')\n",
    "                if do == '1' :\n",
    "                    cf = int(input('커피를 몇잔 추가하시겠습니까? : '))\n",
    "                    n_set = file_open('coffee_m.txt')\n",
    "                    last = n_set[-1]\n",
    "                    last['coffee'] = last['coffee'] + cf\n",
    "                    file_save(last)\n",
    "                    print('추가가 완료되었습니다. 관리자 모드 선택 페이지로 이동합니다.')\n",
    "                    continue\n",
    "                    \n",
    "                elif do == '2' :\n",
    "                    mn = input('추가할 동전과 갯수를 입력해주세요 : ')\n",
    "                    mn_li = list(mn.split(','))\n",
    "                    n_set = file_open('coffee_m.txt')\n",
    "                    last = n_set[-1]\n",
    "                    for i in mn_li :\n",
    "                        money, cnt = i.split(':')\n",
    "                        last['money'][money] =  last['money'][money] + int(cnt)\n",
    "                    file_save(last)\n",
    "                    print('추가가 완료되었습니다. 관리자 모드 선택 페이지로 이동합니다.')\n",
    "                    continue\n",
    "\n",
    "                elif do == '3':\n",
    "                    break\n",
    "        else :\n",
    "            pw_ask = input('관리자 비밀번호를 잊어버리셨습니까? 1. yes 2. no : ')\n",
    "            if pw_ask == '1':\n",
    "                print('관리자 모드를 종료합니다.')\n",
    "                break\n",
    "            elif pw_ask == '2':\n",
    "                print('관리자 비밀번호를 재입력 해주세요')\n",
    "                pass"
   ]
  },
  {
   "cell_type": "code",
   "execution_count": null,
   "metadata": {},
   "outputs": [],
   "source": []
  }
 ],
 "metadata": {
  "kernelspec": {
   "display_name": "Python 3",
   "language": "python",
   "name": "python3"
  },
  "language_info": {
   "codemirror_mode": {
    "name": "ipython",
    "version": 3
   },
   "file_extension": ".py",
   "mimetype": "text/x-python",
   "name": "python",
   "nbconvert_exporter": "python",
   "pygments_lexer": "ipython3",
   "version": "3.7.3"
  }
 },
 "nbformat": 4,
 "nbformat_minor": 2
}
