{
 "cells": [
  {
   "cell_type": "markdown",
   "metadata": {},
   "source": [
    "# 191226 파이썬 기초6 (클래스, 내외장함수)"
   ]
  },
  {
   "cell_type": "code",
   "execution_count": null,
   "metadata": {},
   "outputs": [],
   "source": [
    "\"\"\"\n",
    "클래스 : 객체를 표현하기 위한 개념\n",
    "게임에서 기사, 궁수, 마법사 등 직업별로 클래스가 생성됨\n",
    "웹브라우저-스크롤바, 버튼, 체크박스 등 구성요소 모두 클래스임\n",
    "\n",
    "1) 기사 클래스로 홍길동 객체(캐릭터)를 생성\n",
    "2) 체력, 마나, 공격력... 초기값 설정 - 속성\n",
    "3) 달리기, 베기, 찌르기,... 동작 설정 - 메서드\n",
    "\n",
    "* 클래스는 속성과 메서드로 구성됨\n",
    "\n",
    "3 + 4 -> 7 + 3 = 10\n",
    "\"\"\""
   ]
  },
  {
   "cell_type": "code",
   "execution_count": 3,
   "metadata": {},
   "outputs": [
    {
     "name": "stdout",
     "output_type": "stream",
     "text": [
      "3\n",
      "7\n"
     ]
    }
   ],
   "source": [
    "res = 0\n",
    "def add(num) :\n",
    "    global res\n",
    "    res+=num\n",
    "    return res\n",
    "print(add(3))\n",
    "print(add(4))"
   ]
  },
  {
   "cell_type": "code",
   "execution_count": 4,
   "metadata": {},
   "outputs": [
    {
     "name": "stdout",
     "output_type": "stream",
     "text": [
      "3\n",
      "7\n",
      "3\n",
      "10\n"
     ]
    }
   ],
   "source": [
    "# 계산기 2대\n",
    "res1 = 0\n",
    "res2 = 0\n",
    "def add1(num) :\n",
    "    global res1\n",
    "    res1+=num\n",
    "    return res1\n",
    "\n",
    "def add2(num) :\n",
    "    global res2\n",
    "    res2+=num\n",
    "    return res2\n",
    "\n",
    "print(add1(3))\n",
    "print(add1(4))\n",
    "print(add2(3))\n",
    "print(add2(7))\n",
    "# 매번 이렇게 만들 수 없으니 class가 필요"
   ]
  },
  {
   "cell_type": "code",
   "execution_count": 27,
   "metadata": {},
   "outputs": [],
   "source": [
    "# class 만들기\n",
    "class Calc : # 변수이름 규칙과 같음\n",
    "#     def greeting(self): # 메서드 선언 / self를 꼭 넣어줘야 함\n",
    "#         print(\"hello\")\n",
    "    def __init__(self) : # __int__ : class사용 시 호출되어지는 특별한 메서드\n",
    "                        # 객체 초기화 역할을 담당\n",
    "        self.res=0\n",
    "#         print('초기화')\n",
    "    def add(self, num):\n",
    "        self.res+=num\n",
    "        return self.res\n",
    "    def sub(self, num):\n",
    "        delf.res -= num\n",
    "        return self.res"
   ]
  },
  {
   "cell_type": "code",
   "execution_count": 26,
   "metadata": {},
   "outputs": [
    {
     "name": "stdout",
     "output_type": "stream",
     "text": [
      "3\n",
      "7\n",
      "3\n",
      "10\n"
     ]
    }
   ],
   "source": [
    "cal1 = Calc() # 객체 = 클래스() # 계산기1\n",
    "cal2 = Calc() # 계산기2\n",
    "\n",
    "print(cal1.add(3)) # . 뒤에 메서드 호출\n",
    "print(cal1.add(4))\n",
    "print(cal2.add(3))\n",
    "print(cal2.add(7))\n",
    "# cal1 과 cal2의 변수들은 같은 이름이라도 다른 변수임"
   ]
  },
  {
   "cell_type": "code",
   "execution_count": null,
   "metadata": {},
   "outputs": [],
   "source": [
    "\"\"\"\n",
    "붕어빵 기계 -> 클래스 (Class), 내용물\n",
    "붕어빵 -> 객체 (Object)\n",
    "객체마다 고유한 성격을 가질 수 있음\n",
    "\"\"\""
   ]
  },
  {
   "cell_type": "code",
   "execution_count": 28,
   "metadata": {},
   "outputs": [],
   "source": [
    "class FishBread:\n",
    "    pass\n",
    "# 클래스가 정의 되어 있으나 어떤 기능도 수행하지 않음"
   ]
  },
  {
   "cell_type": "code",
   "execution_count": 36,
   "metadata": {},
   "outputs": [],
   "source": [
    "class FourCal():\n",
    "     def setData(self, first, second):\n",
    "            # 여기서 self 는 밑의 a를 의미\n",
    "            self.first = first # self.first=4 first는 임시변수 같은 것\n",
    "            self.second = second # self.first=2\n",
    "     def add(self):\n",
    "         self.first += self.second\n",
    "         return self.first\n",
    "     def sub(self): # self에는 first와 second가 정의되어 있음\n",
    "         self.first -= self.second\n",
    "         return self.first\n",
    "     def div(self):\n",
    "         self.first /= self.second\n",
    "         return self.first\n",
    "     def mul(self):\n",
    "         self.first *= self.second\n",
    "         return self.first\n",
    "# self : 지금(현재)만들어지고 있는 객체\n",
    "# self.first : 지금 만들어지고 있는 객체의 first속성 지역변수\n",
    "# self.second : 지금 만들어지고 있는 객체의 second속성 지역변수\n"
   ]
  },
  {
   "cell_type": "code",
   "execution_count": 43,
   "metadata": {},
   "outputs": [],
   "source": [
    "class FourCal():\n",
    "     def setData(self, first, second):\n",
    "            # 여기서 self 는 밑의 a를 의미\n",
    "            self.first = first # self.first=4 first는 임시변수 같은 것\n",
    "            self.second = second # self.first=2\n",
    "     def add(self):\n",
    "         res = self.first + self.second\n",
    "         return res\n",
    "     def sub(self): # self에는 first와 second가 정의되어 있음\n",
    "         res = self.first - self.second\n",
    "         return res\n",
    "     def div(self):\n",
    "         res = self.first / self.second\n",
    "         return res\n",
    "     def mul(self):\n",
    "         res = self.first * self.second\n",
    "         return res"
   ]
  },
  {
   "cell_type": "code",
   "execution_count": 37,
   "metadata": {},
   "outputs": [
    {
     "name": "stdout",
     "output_type": "stream",
     "text": [
      "<class '__main__.FourCal'>\n"
     ]
    }
   ],
   "source": [
    "a = FourCal()\n",
    "print(type(a))"
   ]
  },
  {
   "cell_type": "code",
   "execution_count": 44,
   "metadata": {},
   "outputs": [
    {
     "name": "stdout",
     "output_type": "stream",
     "text": [
      "8\n",
      "6\n",
      "2\n",
      "2.0\n"
     ]
    }
   ],
   "source": [
    "# 사칙 연산 클래스\n",
    "a = FourCal() # FourCal 이라는 class로 부터 객체 생성(a)\n",
    "a.setData(4,2) # 숫자 4, 2를 a에 지정\n",
    "print(a.mul()) \n",
    "print(a.add()) # 4+2 = 6 리턴\n",
    "print(a.sub()) \n",
    "print(a.div())  "
   ]
  },
  {
   "cell_type": "code",
   "execution_count": 45,
   "metadata": {},
   "outputs": [],
   "source": [
    "# 상속\n",
    "# class 자식클래스명 (부모클래스명):\n",
    "# MoreFourCal 클래스는 FourCal클래스를 상속했으므로\n",
    "# FourCal 클래스의 모든 기능을 사용할 수 있음\n",
    "# class MoreFourCal(FourCal):\n",
    "#     pass"
   ]
  },
  {
   "cell_type": "code",
   "execution_count": 46,
   "metadata": {},
   "outputs": [
    {
     "name": "stdout",
     "output_type": "stream",
     "text": [
      "8\n",
      "6\n",
      "2\n",
      "2.0\n"
     ]
    }
   ],
   "source": [
    "# b= MoreFourCal()\n",
    "# b.setData(4,2)\n",
    "# print(b.mul()) \n",
    "# print(b.add())\n",
    "# print(b.sub()) \n",
    "# print(b.div())  "
   ]
  },
  {
   "cell_type": "code",
   "execution_count": 56,
   "metadata": {},
   "outputs": [],
   "source": [
    "class MoreFourCal(FourCal):\n",
    "    def setData(self, first, second):\n",
    "            # 여기서 self 는 밑의 a를 의미\n",
    "            self.first = first # self.first=4 first는 임시변수 같은 것\n",
    "            self.second = second \n",
    "    def pow(self):\n",
    "        res = self.first ** self.second # 제곱연산\n",
    "        return res"
   ]
  },
  {
   "cell_type": "code",
   "execution_count": 52,
   "metadata": {},
   "outputs": [
    {
     "name": "stdout",
     "output_type": "stream",
     "text": [
      "16\n"
     ]
    }
   ],
   "source": [
    "b= MoreFourCal()\n",
    "b.setData(4,2)\n",
    "print(b.pow())"
   ]
  },
  {
   "cell_type": "code",
   "execution_count": 53,
   "metadata": {},
   "outputs": [
    {
     "name": "stdout",
     "output_type": "stream",
     "text": [
      "2.0\n"
     ]
    }
   ],
   "source": [
    "# 메서드 오버라이딩 (overriding) : 부모클래스로 부터 상속받은\n",
    "# 메서드를 자식이 변경한 것\n",
    "\n",
    "myObj = FourCal()\n",
    "myObj.setData(4,2)\n",
    "print(myObj.div())"
   ]
  },
  {
   "cell_type": "code",
   "execution_count": 57,
   "metadata": {},
   "outputs": [
    {
     "name": "stdout",
     "output_type": "stream",
     "text": [
      "2.0\n"
     ]
    }
   ],
   "source": [
    "myObj2 = MoreFourCal()\n",
    "myObj2.setData(4,2)\n",
    "print(myObj2.div())"
   ]
  },
  {
   "cell_type": "code",
   "execution_count": 58,
   "metadata": {},
   "outputs": [],
   "source": [
    "class SafeFourCal(FourCal):\n",
    "    def div(self): # self 무조건 필수 (FourCal의 div함수를 변경)\n",
    "        if self.second == 1:\n",
    "            print(\"1로 나누지 마세요\")\n",
    "            return \n",
    "        else:\n",
    "            return self.first/self.second"
   ]
  },
  {
   "cell_type": "code",
   "execution_count": 61,
   "metadata": {},
   "outputs": [
    {
     "name": "stdout",
     "output_type": "stream",
     "text": [
      "1로 나누지 마세요\n",
      "None\n"
     ]
    }
   ],
   "source": [
    "sfc = SafeFourCal()\n",
    "sfc.setData(4,1)\n",
    "print(sfc.div())"
   ]
  },
  {
   "cell_type": "code",
   "execution_count": 71,
   "metadata": {},
   "outputs": [],
   "source": [
    "class Person():\n",
    "    def __init__(self, *args): # *args : 인수가 여러개 들어올 수 있음\n",
    "        self.name = args[0]\n",
    "        self.age = args[1]\n",
    "        self.addr = args[2]\n",
    "    def greeting(self):\n",
    "        res = \"안녕하세요. 나는 {}입니다.\".format(self.name)\n",
    "        return print(res)"
   ]
  },
  {
   "cell_type": "code",
   "execution_count": 72,
   "metadata": {},
   "outputs": [
    {
     "name": "stdout",
     "output_type": "stream",
     "text": [
      "안녕하세요. 나는 홍길동입니다.\n",
      "이름: 홍길동\n",
      "나이: 25\n",
      "사는곳: 서울시 역삼동\n"
     ]
    }
   ],
   "source": [
    "ps = Person(\"홍길동\", 25, \"서울시 역삼동\")\n",
    "ps.greeting() # 안녕하세요. 나는 홍길동입니다.\n",
    "print(\"이름:\", ps.name)\n",
    "print(\"나이:\", ps.age)\n",
    "print(\"사는곳:\", ps.addr)"
   ]
  },
  {
   "cell_type": "code",
   "execution_count": null,
   "metadata": {},
   "outputs": [],
   "source": [
    "# 내장함수 : import가 필요없음\n",
    "# 외장함수 : import가 필요있음"
   ]
  },
  {
   "cell_type": "code",
   "execution_count": 74,
   "metadata": {},
   "outputs": [
    {
     "name": "stdout",
     "output_type": "stream",
     "text": [
      "3\n"
     ]
    }
   ],
   "source": [
    "print(abs(-3))"
   ]
  },
  {
   "cell_type": "code",
   "execution_count": 76,
   "metadata": {},
   "outputs": [
    {
     "data": {
      "text/plain": [
       "False"
      ]
     },
     "execution_count": 76,
     "metadata": {},
     "output_type": "execute_result"
    }
   ],
   "source": [
    "all([-1,1,2,-2]) # 모두 참일 때 참이 됨\n",
    "# 0 :  거짓 / 0이 아닌 숫자는 모두 참\n",
    "all([-1,0,1])"
   ]
  },
  {
   "cell_type": "code",
   "execution_count": 79,
   "metadata": {},
   "outputs": [
    {
     "data": {
      "text/plain": [
       "False"
      ]
     },
     "execution_count": 79,
     "metadata": {},
     "output_type": "execute_result"
    }
   ],
   "source": [
    "any([1,2,3,0]) \n",
    "# 하나라도 참이면 참 출력\n",
    "# 모두 거짓인 경우에만 거짓 출력\n",
    "any([0,0])\n",
    "any([\"\",None])"
   ]
  },
  {
   "cell_type": "code",
   "execution_count": 81,
   "metadata": {},
   "outputs": [
    {
     "name": "stdout",
     "output_type": "stream",
     "text": [
      "1\n"
     ]
    }
   ],
   "source": [
    "chr(65)\n",
    "# 아스키 코드(7bit, 128가지)를 입력받아 해당 문자를 출력\n",
    "# ascii : 미국 표준\n",
    "\n",
    "res = divmod(6,4) # 나눈 몫과 나머지를 tuple로 출력\n",
    "print(res[0])"
   ]
  },
  {
   "cell_type": "code",
   "execution_count": 83,
   "metadata": {},
   "outputs": [
    {
     "name": "stdout",
     "output_type": "stream",
     "text": [
      "0 test\n",
      "1 text\n",
      "2 body\n"
     ]
    }
   ],
   "source": [
    "# enumerate() # 순서가 있는 자료형 (list, tuple, 문자열)을 입력받아서\n",
    "# 인덱스와 함께 있는 자료를 리턴해주는 함수\n",
    "for idx, name in enumerate( ['test','text','body']) :\n",
    "    print(idx, name)"
   ]
  },
  {
   "cell_type": "code",
   "execution_count": 84,
   "metadata": {},
   "outputs": [
    {
     "name": "stdout",
     "output_type": "stream",
     "text": [
      "(0, 'test')\n",
      "(1, 'text')\n",
      "(2, 'body')\n"
     ]
    }
   ],
   "source": [
    "for data in enumerate( ['test','text','body']) :\n",
    "    print(data) # 쌍으로 묶여서 tuple로 출력"
   ]
  },
  {
   "cell_type": "code",
   "execution_count": 90,
   "metadata": {},
   "outputs": [
    {
     "data": {
      "text/plain": [
       "(1, 2)"
      ]
     },
     "execution_count": 90,
     "metadata": {},
     "output_type": "execute_result"
    }
   ],
   "source": [
    "# eval 함수 : 실행 가능한 문자열에 대해 실행한 결과를 리턴해주는 함수\n",
    "\n",
    "1+2 # 실행 가능한 숫자\n",
    "\"1+2\" # 실행 가능한 문자열 (실행 가능하지만 문자열이라 연산이 안됨)\n",
    "\n",
    "eval(\"1+2\")\n",
    "eval(\"'hi'+'hello'\")\n",
    "eval(\"divmod(6,4)\")"
   ]
  },
  {
   "cell_type": "markdown",
   "metadata": {},
   "source": [
    "#### Q1\n",
    "다음과 같은 내용을 지닌 파일 test.txt가 있다. 이 파일의 내용 중 \"java\"라는 문자열을 \"python\"으로 바꾸어서 저장해 보자.\n",
    "\n",
    "Life is too short\n",
    "\n",
    "you need java\n",
    "\n",
    "※ replace 함수를 사용해 보자."
   ]
  },
  {
   "cell_type": "code",
   "execution_count": 35,
   "metadata": {},
   "outputs": [
    {
     "ename": "FileNotFoundError",
     "evalue": "[Errno 2] No such file or directory: 'c:/da/test1.txt'",
     "output_type": "error",
     "traceback": [
      "\u001b[0;31m---------------------------------------------------------------------------\u001b[0m",
      "\u001b[0;31mFileNotFoundError\u001b[0m                         Traceback (most recent call last)",
      "\u001b[0;32m<ipython-input-35-20443a1cb228>\u001b[0m in \u001b[0;36m<module>\u001b[0;34m\u001b[0m\n\u001b[1;32m      1\u001b[0m \u001b[0mfile\u001b[0m \u001b[0;34m=\u001b[0m \u001b[0;34m[\u001b[0m\u001b[0;34m'Life is too short'\u001b[0m\u001b[0;34m,\u001b[0m \u001b[0;34m'you need java'\u001b[0m\u001b[0;34m]\u001b[0m\u001b[0;34m\u001b[0m\u001b[0;34m\u001b[0m\u001b[0m\n\u001b[0;32m----> 2\u001b[0;31m \u001b[0;32mwith\u001b[0m \u001b[0mopen\u001b[0m\u001b[0;34m(\u001b[0m\u001b[0;34m'c:/da/test1.txt'\u001b[0m\u001b[0;34m,\u001b[0m \u001b[0;34m'w'\u001b[0m\u001b[0;34m)\u001b[0m \u001b[0;32mas\u001b[0m \u001b[0mf\u001b[0m\u001b[0;34m:\u001b[0m\u001b[0;34m\u001b[0m\u001b[0;34m\u001b[0m\u001b[0m\n\u001b[0m\u001b[1;32m      3\u001b[0m     \u001b[0;32mfor\u001b[0m \u001b[0mi\u001b[0m \u001b[0;32min\u001b[0m \u001b[0mfile\u001b[0m \u001b[0;34m:\u001b[0m\u001b[0;34m\u001b[0m\u001b[0;34m\u001b[0m\u001b[0m\n\u001b[1;32m      4\u001b[0m         \u001b[0mf\u001b[0m\u001b[0;34m.\u001b[0m\u001b[0mwrite\u001b[0m\u001b[0;34m(\u001b[0m\u001b[0mi\u001b[0m\u001b[0;34m+\u001b[0m\u001b[0;34m'\\n'\u001b[0m\u001b[0;34m)\u001b[0m\u001b[0;34m\u001b[0m\u001b[0;34m\u001b[0m\u001b[0m\n\u001b[1;32m      5\u001b[0m \u001b[0;34m\u001b[0m\u001b[0m\n",
      "\u001b[0;31mFileNotFoundError\u001b[0m: [Errno 2] No such file or directory: 'c:/da/test1.txt'"
     ]
    }
   ],
   "source": [
    "file = ['Life is too short', 'you need java']\n",
    "with open('c:/da/test1.txt', 'w') as f: # 파일 생성\n",
    "    for i in file :\n",
    "        f.write(i+'\\n')\n",
    "        \n",
    "with open('c:/da/test1.txt', 'r') as f_r: # 파일 읽은 후 java 부분 python으로 변경\n",
    "    read = f_r.readlines()\n",
    "    read[1] = read[1].replace('java','python')\n",
    "   \n",
    "with open('c:/da/test1.txt', 'w') as f:\n",
    "    for i in read:\n",
    "        f.write(i) # read list에 있는 부분 저장\n",
    "        \n",
    "print(read)"
   ]
  },
  {
   "cell_type": "markdown",
   "metadata": {},
   "source": [
    "#### Q2\n",
    "사용자의 입력을 파일(test.txt)에 저장하는 프로그램을 작성해 보자. \n",
    "(단 프로그램을 다시 실행하더라도 기존에 작성한 내용을 유지하고 새로 입력한 내용을 추가해야 한다.)"
   ]
  },
  {
   "cell_type": "code",
   "execution_count": 149,
   "metadata": {},
   "outputs": [
    {
     "name": "stdout",
     "output_type": "stream",
     "text": [
      "text : 저는 윤희라입니다\n"
     ]
    }
   ],
   "source": [
    "text = input('text : ')\n",
    "\n",
    "with open('c:/da/test.txt', 'a') as f:\n",
    "    f.write(text+'\\n')"
   ]
  },
  {
   "cell_type": "markdown",
   "metadata": {},
   "source": [
    "#### Q3\n",
    "다음은 Calculator 클래스이다."
   ]
  },
  {
   "cell_type": "code",
   "execution_count": 150,
   "metadata": {},
   "outputs": [],
   "source": [
    "class Calculator:\n",
    "    def __init__(self):\n",
    "        self.value = 0\n",
    "\n",
    "    def add(self, val):\n",
    "        self.value += val"
   ]
  },
  {
   "cell_type": "code",
   "execution_count": null,
   "metadata": {},
   "outputs": [],
   "source": [
    "위 클래스를 상속하는 UpgradeCalculator를 만들고 값을 뺄 수 있는 minus 메서드를 추가해 보자.\n",
    "즉 다음과 같이 동작하는 클래스를 만들어야 한다.\n",
    "\n",
    "cal = UpgradeCalculator()\n",
    "cal.add(10)\n",
    "cal.minus(7)\n",
    "print(cal.value) # 10에서 7을 뺀 3을 출력"
   ]
  },
  {
   "cell_type": "code",
   "execution_count": 151,
   "metadata": {},
   "outputs": [
    {
     "name": "stdout",
     "output_type": "stream",
     "text": [
      "3\n"
     ]
    }
   ],
   "source": [
    "class UpgradeCalculator(Calculator):\n",
    "    def minus(self, val): # 마이너스 부분 추가\n",
    "        self.value -= val\n",
    "\n",
    "cal = UpgradeCalculator()\n",
    "cal.add(10)\n",
    "cal.minus(7)\n",
    "print(cal.value)"
   ]
  },
  {
   "cell_type": "markdown",
   "metadata": {},
   "source": [
    "#### Q4.\n",
    "객체변수 value가 100 이상의 값은 가질 수 없도록 제한하는 MaxLimitCalculator 클래스를 만들어 보자. 즉 다음과 같이 동작해야 한다."
   ]
  },
  {
   "cell_type": "code",
   "execution_count": null,
   "metadata": {},
   "outputs": [],
   "source": [
    "cal = MaxLimitCalculator()\n",
    "cal.add(50) # 50 더하기\n",
    "cal.add(60) # 60 더하기\n",
    "\n",
    "print(cal.value) # 100 출력\n",
    "단 반드시 다음과 같은 Calculator 클래스를 상속해서 만들어야 한다.\n",
    "\n",
    "class Calculator:\n",
    "    def __init__(self):\n",
    "        self.value = 0\n",
    "\n",
    "    def add(self, val):\n",
    "        self.value += val"
   ]
  },
  {
   "cell_type": "code",
   "execution_count": 157,
   "metadata": {},
   "outputs": [
    {
     "name": "stdout",
     "output_type": "stream",
     "text": [
      "100\n"
     ]
    }
   ],
   "source": [
    "class MaxLimitCalculator(Calculator):\n",
    "    def add(self, val): # add 부분 수정\n",
    "        self.value += val # 주어진 수와 계산한 후 계산 결과가 100보다 크면 계산 결과 100으로 고정\n",
    "        if self.value >= 100:\n",
    "            self.value = 100\n",
    "            return\n",
    "        else :\n",
    "            return\n",
    "        \n",
    "cal = MaxLimitCalculator()\n",
    "cal.add(50) # 50 더하기\n",
    "cal.add(60) # 60 더하기\n",
    "\n",
    "print(cal.value) # 100 출력"
   ]
  },
  {
   "cell_type": "markdown",
   "metadata": {},
   "source": [
    "#### Q5.\n",
    "map과 lambda를 사용하여 [1, 2, 3, 4] 리스트의 각 요솟값에 3이 곱해진 리스트 [3, 6, 9, 12]를 만들어 보자."
   ]
  },
  {
   "cell_type": "code",
   "execution_count": 158,
   "metadata": {},
   "outputs": [
    {
     "name": "stdout",
     "output_type": "stream",
     "text": [
      "[3, 6, 9, 12]\n"
     ]
    }
   ],
   "source": [
    "n = [1,2,3,4]\n",
    "result = list(map(lambda x : x*3, n))\n",
    "print(result)"
   ]
  },
  {
   "cell_type": "markdown",
   "metadata": {},
   "source": [
    "#### Q6.\n",
    "지뢰찾기 게임은 M x N 매트릭스에 위치해 있는 지뢰를 찾는 게임이다.\n",
    "\n",
    "M x N 매트릭스 상의 격자(square)는 지뢰이거나 지뢰가 아니다.\n",
    "\n",
    "지뢰 격자는 *로 표시한다. 지뢰가 아닌 격자(square)는 숫자로 표시하며 그 숫자는 인접해 있는 지뢰의 수를 의미한다. (격자(sqaure)는 최대 8개의 인접한 지뢰를 가질 수 있다.)\n",
    "\n",
    "다음은 4x4 매트릭스에서 2개의 지뢰(*)를 표시하는 방법이다."
   ]
  },
  {
   "cell_type": "code",
   "execution_count": 36,
   "metadata": {},
   "outputs": [
    {
     "ename": "SyntaxError",
     "evalue": "invalid syntax (<ipython-input-36-12ce02a733a9>, line 2)",
     "output_type": "error",
     "traceback": [
      "\u001b[0;36m  File \u001b[0;32m\"<ipython-input-36-12ce02a733a9>\"\u001b[0;36m, line \u001b[0;32m2\u001b[0m\n\u001b[0;31m    ....\u001b[0m\n\u001b[0m        ^\u001b[0m\n\u001b[0;31mSyntaxError\u001b[0m\u001b[0;31m:\u001b[0m invalid syntax\n"
     ]
    }
   ],
   "source": [
    "*...\n",
    "....\n",
    ".*..\n",
    "...."
   ]
  },
  {
   "cell_type": "markdown",
   "metadata": {},
   "source": [
    "이 게임의 목표는 지뢰의 위치(*)를 제외한 나머지 격자들의 숫자를 맞추는 것이다.\n",
    "\n",
    "위 경우의 답은 아래와 같다."
   ]
  },
  {
   "cell_type": "code",
   "execution_count": null,
   "metadata": {},
   "outputs": [],
   "source": [
    "*100\n",
    "2210\n",
    "1*10\n",
    "1110\n",
    "입력"
   ]
  },
  {
   "cell_type": "code",
   "execution_count": 7,
   "metadata": {},
   "outputs": [],
   "source": [
    "import random      \n"
   ]
  },
  {
   "cell_type": "code",
   "execution_count": 34,
   "metadata": {},
   "outputs": [
    {
     "name": "stdout",
     "output_type": "stream",
     "text": [
      "행의 값을 입력해주세요 : 5\n",
      "열의 값을 입력해주세요 : 5\n",
      "\n",
      "\n",
      "..***\n",
      "*..**\n",
      "*.*..\n",
      "..**.\n",
      "..*..\n",
      "\n",
      "\n",
      "*44*0\n",
      "33*3*\n",
      "*4340\n",
      "0**0*\n"
     ]
    }
   ],
   "source": [
    "\n",
    "# n_matrix = [['*','.','.','.'],['.','.','.','.'],['.','*','.','.'],['.','.','.','.']]\n",
    "\n",
    "def make_matrix(m,n): # 주어진 행*열 m*n값을 가지고 무작위로 지뢰 만드는 함수\n",
    "    bomb = ['.','*']\n",
    "    n_matrix = []\n",
    "    for x in range(0,n):\n",
    "        n_matrix.append(['*']*m) # '*'으로 구성된 n_matrix 생성\n",
    "\n",
    "    for x in range(0,n):\n",
    "        for y in range(0,m):\n",
    "            n_matrix[x][y] = random.choice(bomb) # '*'자리에 랜덤으로 '.' 대체 후 지뢰가 있는 n_matrix 완성\n",
    "    for i in n_matrix:\n",
    "        print(\"\".join(i)) # 보기 좋은 형태로 출력\n",
    "    print('\\n')\n",
    "    return n_matrix\n",
    "\n",
    "def find_bomb(m,n,n_matrix): # m,n과 생성된 매트릭스 값을 가지고 근접한 지뢰를 찾아내는 함수\n",
    "    for x in range(0,n):\n",
    "        for y in range(0,m):\n",
    "            bomb_count = 0 # 근접한 지뢰 수 세는 변수 생성\n",
    "            if n_matrix[x][y] != '*': # 지뢰가 아니면 근접한 지뢰 수를 카운트하기 시작\n",
    "                bomb_count_li = [(x-1,y-1), (x-1,y), (x-1,y+1), (x, y-1),(x,y+1),(x+1,y-1),(x+1,y), (x+1,y+1)]\n",
    "                # 근접한 곳의 좌표\n",
    "                for i in bomb_count_li :\n",
    "                    try: # 근접한 곳 8곳이 모두 있지 않을 수 있으므로 오류문구 무시하는 try-except 문 설정\n",
    "                        a = n_matrix[i[0]][i[1]]\n",
    "                        if a == '*':\n",
    "                            bomb_count += 1 # 해당 좌표에 '*'지뢰가 있으면 bomb_count 1씩 증가\n",
    "                        else : pass\n",
    "                    except :\n",
    "                        bomb_count = 0\n",
    "                n_matrix[x][y] = str(bomb_count) # 좌표에 '.'대신 bomb_count 넣기\n",
    "            else :\n",
    "                pass\n",
    "    return n_matrix # 매트릭스 완성\n",
    "\n",
    "\n",
    "if __name__ == \"__main__\":\n",
    "    \n",
    "    M = input('행의 값을 입력해주세요 : ')\n",
    "    N = input('열의 값을 입력해주세요 : ')\n",
    "    m = int(M)\n",
    "    n = int(N)\n",
    "    \n",
    "    print('\\n')\n",
    "\n",
    "    new_matrix = make_matrix(m,n) # 랜덤 지뢰 생성 함수\n",
    "\n",
    "    last_matrix = find_bomb(m,n,new_matrix) # 근접한 지뢰 카운팅 함수\n",
    "    \n",
    "    for i in n_matrix:\n",
    "        print(\"\".join(i)) # 보기 좋게 print"
   ]
  },
  {
   "cell_type": "markdown",
   "metadata": {},
   "source": [
    "첫번째 줄은 M x N 의 M(행)과 N(열)에 해당되는 숫자이다. N과 M은 0보다 크고 100 이하이다. (0< N, M <=100) 그 다음 M개의 줄이 차례로 입력되고 각 줄은 정확하게 N개의 문자가 입력된다. 지뢰 격자는 *로 표시하며 지뢰가 아닌 격자는 .(dot)로 표시한다.\n",
    "\n",
    "출력\n",
    "\n",
    "지뢰(*)를 제외한 나머지 격자의 숫자값을 찾아서 M x N 매트릭스를 출력한다."
   ]
  },
  {
   "cell_type": "code",
   "execution_count": null,
   "metadata": {},
   "outputs": [],
   "source": [
    "ex)\n",
    "입력\n",
    "\n",
    "4 4\n",
    "*...\n",
    "....\n",
    ".*..\n",
    "....\n",
    "출력\n",
    "\n",
    "*100\n",
    "2210\n",
    "1*10\n",
    "1110\n",
    "예2)\n",
    "\n",
    "입력\n",
    "\n",
    "3 5\n",
    "**...\n",
    ".....\n",
    ".*...\n",
    "출력\n",
    "\n",
    "**100\n",
    "33200\n",
    "1*100"
   ]
  },
  {
   "cell_type": "code",
   "execution_count": null,
   "metadata": {},
   "outputs": [],
   "source": []
  }
 ],
 "metadata": {
  "kernelspec": {
   "display_name": "Python 3",
   "language": "python",
   "name": "python3"
  },
  "language_info": {
   "codemirror_mode": {
    "name": "ipython",
    "version": 3
   },
   "file_extension": ".py",
   "mimetype": "text/x-python",
   "name": "python",
   "nbconvert_exporter": "python",
   "pygments_lexer": "ipython3",
   "version": "3.7.3"
  }
 },
 "nbformat": 4,
 "nbformat_minor": 2
}
