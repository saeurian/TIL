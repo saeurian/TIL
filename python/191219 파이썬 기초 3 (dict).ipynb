{
 "cells": [
  {
   "cell_type": "code",
   "execution_count": 8,
   "metadata": {},
   "outputs": [
    {
     "data": {
      "text/plain": [
       "('john', 25, 180.5, True)"
      ]
     },
     "execution_count": 8,
     "metadata": {},
     "output_type": "execute_result"
    }
   ],
   "source": [
    "\"\"\"\n",
    "튜플은 (,,) : 리스트[]와 비슷\n",
    "리스트는 생성, 삭제, 수정 가능\n",
    "튜플은 변경을 할 수 없음\n",
    "\"\"\"\n",
    "\n",
    "a = (3,2,5,6,1) # 튜플\n",
    "a\n",
    "a = 3,2,5,6,1 # 튜플\n",
    "a\n",
    "\n",
    "a1 = ()\n",
    "a1\n",
    "\n",
    "a2 = 5 # a2는 정수값을 가지고 있는 변수\n",
    "a2 = 5, # ,를 찍으면 type이 tuple로 인식됨\n",
    "type(a2)\n",
    "# 값을 1개 저장한 튜플을 정의할 때는 컴마를 써야함\n",
    "\n",
    "a3 = ('john', 25, 180.5, True)\n",
    "a3\n",
    "# 자료형에 관계없이 저장 가능\n",
    "# a3[1]=50 에러\n",
    "# 튜플은 변경이 안되므로, 데이터가 계속 유지되어야 할 경우에 주로 사용"
   ]
  },
  {
   "cell_type": "code",
   "execution_count": 10,
   "metadata": {},
   "outputs": [
    {
     "data": {
      "text/plain": [
       "(0, 1, 2, 3, 4, 5, 6, 7, 8, 9)"
      ]
     },
     "execution_count": 10,
     "metadata": {},
     "output_type": "execute_result"
    }
   ],
   "source": [
    "a = tuple(range(10))\n",
    "a"
   ]
  },
  {
   "cell_type": "code",
   "execution_count": 14,
   "metadata": {},
   "outputs": [
    {
     "data": {
      "text/plain": [
       "[1, 2, 3]"
      ]
     },
     "execution_count": 14,
     "metadata": {},
     "output_type": "execute_result"
    }
   ],
   "source": [
    "# 튜플 <-> 리스트\n",
    "a = [1,2,3]\n",
    "a\n",
    "a = tuple(a)\n",
    "a\n",
    "a = list(a)\n",
    "a"
   ]
  },
  {
   "cell_type": "code",
   "execution_count": 15,
   "metadata": {},
   "outputs": [
    {
     "data": {
      "text/plain": [
       "['h', 'e', 'l', 'l', 'o']"
      ]
     },
     "execution_count": 15,
     "metadata": {},
     "output_type": "execute_result"
    }
   ],
   "source": [
    "list('hello')"
   ]
  },
  {
   "cell_type": "code",
   "execution_count": 17,
   "metadata": {},
   "outputs": [
    {
     "ename": "ValueError",
     "evalue": "too many values to unpack (expected 2)",
     "output_type": "error",
     "traceback": [
      "\u001b[1;31m---------------------------------------------------------------------------\u001b[0m",
      "\u001b[1;31mValueError\u001b[0m                                Traceback (most recent call last)",
      "\u001b[1;32m<ipython-input-17-65241b26e50b>\u001b[0m in \u001b[0;36m<module>\u001b[1;34m\u001b[0m\n\u001b[0;32m      2\u001b[0m \u001b[0mx\u001b[0m\u001b[1;33m\u001b[0m\u001b[1;33m\u001b[0m\u001b[0m\n\u001b[0;32m      3\u001b[0m \u001b[0my\u001b[0m\u001b[1;33m\u001b[0m\u001b[1;33m\u001b[0m\u001b[0m\n\u001b[1;32m----> 4\u001b[1;33m \u001b[0mx\u001b[0m\u001b[1;33m,\u001b[0m\u001b[0my\u001b[0m \u001b[1;33m=\u001b[0m \u001b[1;33m(\u001b[0m\u001b[1;36m1\u001b[0m\u001b[1;33m,\u001b[0m\u001b[1;36m2\u001b[0m\u001b[1;33m,\u001b[0m\u001b[1;36m3\u001b[0m\u001b[1;33m)\u001b[0m\u001b[1;33m\u001b[0m\u001b[1;33m\u001b[0m\u001b[0m\n\u001b[0m\u001b[0;32m      5\u001b[0m \u001b[0mx\u001b[0m\u001b[1;33m\u001b[0m\u001b[1;33m\u001b[0m\u001b[0m\n\u001b[0;32m      6\u001b[0m \u001b[0my\u001b[0m\u001b[1;33m\u001b[0m\u001b[1;33m\u001b[0m\u001b[0m\n",
      "\u001b[1;31mValueError\u001b[0m: too many values to unpack (expected 2)"
     ]
    }
   ],
   "source": [
    "x,y = [1,2]\n",
    "x\n",
    "y\n",
    "x,y = (1,2,3)\n",
    "x\n",
    "y\n",
    "\n",
    "# unpacking : 리스트(튜플)의 요소를 여러개의 변수에 할당하는 것\n",
    "# packing : 변수에 리스트 또는 튜플을 할당하는 것\n",
    "\n",
    "a = [1,2,3] # 리스트 패킹\n",
    "b = (1,2,3) # 튜플 패킹"
   ]
  },
  {
   "cell_type": "code",
   "execution_count": 24,
   "metadata": {},
   "outputs": [
    {
     "data": {
      "text/plain": [
       "4"
      ]
     },
     "execution_count": 24,
     "metadata": {},
     "output_type": "execute_result"
    }
   ],
   "source": [
    "t1 = (1,2,'x','y')\n",
    "t1\n",
    "# del t1[0]\n",
    "# t1[0]=5\n",
    "\n",
    "# 슬라이싱\n",
    "t1[1:]\n",
    "t2 = (3,4)\n",
    "t1+t2\n",
    "t2*3\n",
    "len(t1)"
   ]
  },
  {
   "cell_type": "code",
   "execution_count": 29,
   "metadata": {},
   "outputs": [
    {
     "data": {
      "text/plain": [
       "True"
      ]
     },
     "execution_count": 29,
     "metadata": {},
     "output_type": "execute_result"
    }
   ],
   "source": [
    "# 시퀀스형 : 리스트, 튜플, range, 문자열 데이터는 연속적으로 표현\n",
    "\n",
    "# 시퀀스형의 자료에 특정 값이 존재하는지 확인\n",
    "\n",
    "# 0~90까지 10씩 증가한 값으로 리스트 생성\n",
    "a = list(range(0,91,10))\n",
    "a\n",
    "\n",
    "# 시퀀스형에 대해 in 연산자 사용 가능\n",
    "30 in a # a 변수(시퀀스형) 안에 30이 있느냐?\n",
    "100 in a\n",
    "11 not in a"
   ]
  },
  {
   "cell_type": "code",
   "execution_count": 32,
   "metadata": {},
   "outputs": [
    {
     "data": {
      "text/plain": [
       "False"
      ]
     },
     "execution_count": 32,
     "metadata": {},
     "output_type": "execute_result"
    }
   ],
   "source": [
    "'h' in 'hello, python'\n",
    "'h' not in 'hello, python'\n",
    "7 in range(100)\n",
    "100 in range(100)"
   ]
  },
  {
   "cell_type": "code",
   "execution_count": 44,
   "metadata": {},
   "outputs": [
    {
     "data": {
      "text/plain": [
       "[0, 1, 2, 0, 1, 2, 0, 1, 2]"
      ]
     },
     "execution_count": 44,
     "metadata": {},
     "output_type": "execute_result"
    }
   ],
   "source": [
    "# + 연산자로 시퀀스형에 대한 자료 연결이 가능\n",
    "# range는 안됨\n",
    "# 다른 형태의 자료형끼리 연결 NO (ex 튜플 + 리스트 / 문자 + 숫자)\n",
    "\n",
    "a = [1,2]\n",
    "b = [3,4]\n",
    "a+b\n",
    "'hello'+'hi'\n",
    "a = (1,2)\n",
    "b = (3,4)\n",
    "a+b\n",
    "\n",
    "# range(0,3) + range(3,5) Error발생\n",
    "list(range(0,3)) + list(range(3,5))\n",
    "tuple(range(0,3)) + tuple(range(3,5))\n",
    "\n",
    "# 다른 자료형 연결 NO\n",
    "# list(range(0,3)) + tuple(range(3,5))\n",
    "# 'hi' + 7  숫자를 문자로 변경하면 가능 => 같은 type으로 맞춰주기\n",
    "'hi' + str(7)\n",
    "'hi' + str(3.14)\n",
    "\n",
    "# range(0,3)*3 에러발생\n",
    "list(range(0,3))*3"
   ]
  },
  {
   "cell_type": "code",
   "execution_count": 51,
   "metadata": {},
   "outputs": [
    {
     "data": {
      "text/plain": [
       "6"
      ]
     },
     "execution_count": 51,
     "metadata": {},
     "output_type": "execute_result"
    }
   ],
   "source": [
    "# len() : 시퀀스 자료형에 해당되는 데이터의 길이 구할 수 있음\n",
    "\n",
    "a = [1,2,3]\n",
    "len(a)\n",
    "\n",
    "a = (1,2,3)\n",
    "len(a)\n",
    "\n",
    "len(range(0,3))\n",
    "len('hello')\n",
    "\n",
    "hi = '안녕'\n",
    "len(hi) # 문자의 개수를 구하는 함수 (bite는 신경쓰지 않음)\n",
    "\n",
    "hi = '안녕'\n",
    "hi.encode('utf-8')\n",
    "len(hi.encode('utf-8'))"
   ]
  },
  {
   "cell_type": "code",
   "execution_count": 55,
   "metadata": {},
   "outputs": [
    {
     "ename": "IndexError",
     "evalue": "string index out of range",
     "output_type": "error",
     "traceback": [
      "\u001b[1;31m---------------------------------------------------------------------------\u001b[0m",
      "\u001b[1;31mIndexError\u001b[0m                                Traceback (most recent call last)",
      "\u001b[1;32m<ipython-input-55-e0c37a232afe>\u001b[0m in \u001b[0;36m<module>\u001b[1;34m\u001b[0m\n\u001b[0;32m      3\u001b[0m \u001b[1;31m# x[0] -> x.__getitem__(0)\u001b[0m\u001b[1;33m\u001b[0m\u001b[1;33m\u001b[0m\u001b[1;33m\u001b[0m\u001b[0m\n\u001b[0;32m      4\u001b[0m \u001b[0mx\u001b[0m\u001b[1;33m[\u001b[0m\u001b[1;36m0\u001b[0m\u001b[1;33m]\u001b[0m\u001b[1;33m\u001b[0m\u001b[1;33m\u001b[0m\u001b[0m\n\u001b[1;32m----> 5\u001b[1;33m \u001b[0mx\u001b[0m\u001b[1;33m[\u001b[0m\u001b[1;36m10\u001b[0m\u001b[1;33m]\u001b[0m\u001b[1;33m\u001b[0m\u001b[1;33m\u001b[0m\u001b[0m\n\u001b[0m",
      "\u001b[1;31mIndexError\u001b[0m: string index out of range"
     ]
    }
   ],
   "source": [
    "# 시퀀스형에 대한 자료 참조는 대괄호 []기호를 사용한다.\n",
    "x = 'HI HELLO'\n",
    "# x[0] -> x.__getitem__(0)\n",
    "x[0]\n",
    "x[10] -> IndexError"
   ]
  },
  {
   "cell_type": "code",
   "execution_count": 59,
   "metadata": {},
   "outputs": [
    {
     "data": {
      "text/plain": [
       "'O'"
      ]
     },
     "execution_count": 59,
     "metadata": {},
     "output_type": "execute_result"
    }
   ],
   "source": [
    "x[len(x)-1]\n",
    "x[-1]"
   ]
  },
  {
   "cell_type": "code",
   "execution_count": 73,
   "metadata": {},
   "outputs": [
    {
     "data": {
      "text/plain": [
       "[0, 2, 4, 6]"
      ]
     },
     "execution_count": 73,
     "metadata": {},
     "output_type": "execute_result"
    }
   ],
   "source": [
    "# x[2:-1]\n",
    "x\n",
    "x[2:-1]\n",
    "x[2:]\n",
    "x[1:7:2] # index1 부터 2씩 증가하면서 index 6번까지 가져옴\n",
    "x[:8:2] # 처음부터 7번까지 2씩 증가하면서 가져옴\n",
    "x[3::2] # 3번부터 끝까지 2씩 증가하면서 가져옴\n",
    "x[::2] # 처음 부터 끝까지 2씩 증가하면서 가져옴\n",
    "x[::] # = x\n",
    "\n",
    "x[5:1:-1] # 5~2번까지 하나씩 감소하면서 가져옴 5,4,3,2\n",
    "x[::-1] # 역순으로 출력\n",
    "\n",
    "x[0:len(x)]\n",
    "x[:len(x)]\n",
    "\n",
    "# 튜플도 리스트와 동일\n",
    "x=range(10)\n",
    "x[4:7]\n",
    "list(range(0,7,2))\n",
    "\n",
    "x = \"hello world\"\n",
    "x[:9:3]"
   ]
  },
  {
   "cell_type": "code",
   "execution_count": 87,
   "metadata": {},
   "outputs": [
    {
     "data": {
      "text/plain": [
       "[0, 10, 20, 30, 40, 50, 60, 70, 80, 90]"
      ]
     },
     "execution_count": 87,
     "metadata": {},
     "output_type": "execute_result"
    }
   ],
   "source": [
    "a = list(range(0,91,10))\n",
    "a"
   ]
  },
  {
   "cell_type": "code",
   "execution_count": 88,
   "metadata": {},
   "outputs": [
    {
     "data": {
      "text/plain": [
       "[0, 11, 20, 30, 40, 50, 60, 70, 80, 90]"
      ]
     },
     "execution_count": 88,
     "metadata": {},
     "output_type": "execute_result"
    }
   ],
   "source": [
    "a[1]=11\n",
    "a"
   ]
  },
  {
   "cell_type": "code",
   "execution_count": 89,
   "metadata": {},
   "outputs": [],
   "source": [
    "a[2:5] = [21,31,'x']"
   ]
  },
  {
   "cell_type": "code",
   "execution_count": 90,
   "metadata": {},
   "outputs": [
    {
     "data": {
      "text/plain": [
       "[0, 'a', 21, 'b', 'x', 'c', 60, 'd', 80, 90]"
      ]
     },
     "execution_count": 90,
     "metadata": {},
     "output_type": "execute_result"
    }
   ],
   "source": [
    "a[1:9:2] = ['a','b','c','d']\n",
    "a"
   ]
  },
  {
   "cell_type": "code",
   "execution_count": 91,
   "metadata": {},
   "outputs": [
    {
     "data": {
      "text/plain": [
       "[0, 'a', 60, 'd', 80, 90]"
      ]
     },
     "execution_count": 91,
     "metadata": {},
     "output_type": "execute_result"
    }
   ],
   "source": [
    "del a[2:6] # 2번 부터 5번까지 제거\n",
    "a"
   ]
  },
  {
   "cell_type": "code",
   "execution_count": 92,
   "metadata": {},
   "outputs": [
    {
     "data": {
      "text/plain": [
       "['a', 'd', 90]"
      ]
     },
     "execution_count": 92,
     "metadata": {},
     "output_type": "execute_result"
    }
   ],
   "source": [
    "del a[:5:2] # 0번부터 4번까지 2씩 증가하면서 제거\n",
    "a"
   ]
  },
  {
   "cell_type": "code",
   "execution_count": null,
   "metadata": {},
   "outputs": [],
   "source": [
    "# Dictionary : Key와 Value로 자료를 표현\n",
    "\"\"\"\n",
    "person = [180, 70, 'O', '서울'] << list의 경우\n",
    "person2 = {'키':180, '몸무게':70, '혈액형':'0', '사는 곳':'서울'} << dict의 경우\n",
    "list와 달리 dict에서는 그 값이 어떤 것을 의미하는지(Key) 같이 표현됨\n",
    "{}로 묶음 / key : value / ,로 구분\n",
    "\"\"\""
   ]
  },
  {
   "cell_type": "code",
   "execution_count": 109,
   "metadata": {},
   "outputs": [],
   "source": [
    "person = [180, 70, 'O', '서울']\n",
    "person2 = {'키':180, '몸무게':70, '혈액형':'0', '사는 곳':'서울', '몸무게':80,\n",
    "           False :0, 99:'구구', 3.14:[3.14,'원주율']}\n",
    "# Dict를 다른 언어에서는 맵, 해쉬라고 부름"
   ]
  },
  {
   "cell_type": "code",
   "execution_count": 110,
   "metadata": {},
   "outputs": [
    {
     "data": {
      "text/plain": [
       "{'키': 180,\n",
       " '몸무게': 80,\n",
       " '혈액형': '0',\n",
       " '사는 곳': '서울',\n",
       " False: 0,\n",
       " 99: '구구',\n",
       " 3.14: [3.14, '원주율']}"
      ]
     },
     "execution_count": 110,
     "metadata": {},
     "output_type": "execute_result"
    }
   ],
   "source": [
    "person2\n",
    "# key가 중복되면 마지막 자료가 저장됨\n",
    "# Value자리에 list 올 수 있음 (key는 NO)\n",
    "# Key 자리에 문자, 정수, 실수, bullen이 모두 올 수 있음"
   ]
  },
  {
   "cell_type": "code",
   "execution_count": 114,
   "metadata": {},
   "outputs": [
    {
     "data": {
      "text/plain": [
       "{'신장': 180,\n",
       " '몸무게': 70,\n",
       " '혈액형': '0',\n",
       " '사는 곳': '서울',\n",
       " '취미': {'오전': '수영', '오후': '공부'}}"
      ]
     },
     "execution_count": 114,
     "metadata": {},
     "output_type": "execute_result"
    }
   ],
   "source": [
    "person2 = {'신장':180, '몸무게':70, '혈액형':'0', '사는 곳':'서울'\n",
    "          , '취미':{'오전':'수영', '오후':'공부'}}\n",
    "person2"
   ]
  },
  {
   "cell_type": "code",
   "execution_count": 116,
   "metadata": {},
   "outputs": [
    {
     "ename": "AttributeError",
     "evalue": "'dict' object has no attribute 'value'",
     "output_type": "error",
     "traceback": [
      "\u001b[1;31m---------------------------------------------------------------------------\u001b[0m",
      "\u001b[1;31mAttributeError\u001b[0m                            Traceback (most recent call last)",
      "\u001b[1;32m<ipython-input-116-feec2f8e612a>\u001b[0m in \u001b[0;36m<module>\u001b[1;34m\u001b[0m\n\u001b[1;32m----> 1\u001b[1;33m \u001b[0mperson2\u001b[0m\u001b[1;33m.\u001b[0m\u001b[0mvalue\u001b[0m\u001b[1;33m\u001b[0m\u001b[1;33m\u001b[0m\u001b[0m\n\u001b[0m",
      "\u001b[1;31mAttributeError\u001b[0m: 'dict' object has no attribute 'value'"
     ]
    }
   ],
   "source": [
    "\"\"\"\n",
    "key, value가 여러 쌍으로 구성\n",
    "key는 변하지 않는 것을 사용,\n",
    "value는 변하는 값 / 변하지 않는 값 모두 사용 가능\n",
    "\"\"\""
   ]
  },
  {
   "cell_type": "code",
   "execution_count": 117,
   "metadata": {},
   "outputs": [],
   "source": [
    "# 빈 딕셔너리 생성\n",
    "\n",
    "x = {}\n",
    "x = dict()"
   ]
  },
  {
   "cell_type": "code",
   "execution_count": 126,
   "metadata": {},
   "outputs": [
    {
     "data": {
      "text/plain": [
       "{'height': 180, 'weight': 70, 'bt': 'O'}"
      ]
     },
     "execution_count": 126,
     "metadata": {},
     "output_type": "execute_result"
    }
   ],
   "source": [
    "# dict(키1:값1, 키2:값2,....)\n",
    "per = dict(height = 180, weight = 70, bt = 'O')\n",
    "per\n",
    "\n",
    "# dict(zip())\n",
    "per = dict(zip(['height', 'weight', 'bt'], [180,70,'O']))\n",
    "per\n",
    "\n",
    "# dict([(키1,값1),(키2,값2),...]) tuple\n",
    "per = dict([('height',180), ('weight',70), ('bt','O')])\n",
    "per\n",
    "\n",
    "# dict({키1:값1, 키2:값2,...}) dict key ''로 묶어줘야 함\n",
    "per = dict({'height': 180, 'weight': 70, 'bt': 'O'})\n",
    "per"
   ]
  },
  {
   "cell_type": "code",
   "execution_count": 122,
   "metadata": {},
   "outputs": [
    {
     "data": {
      "text/plain": [
       "<zip at 0x1d4a15ae588>"
      ]
     },
     "execution_count": 122,
     "metadata": {},
     "output_type": "execute_result"
    }
   ],
   "source": [
    "zip(['height', 'weight', 'bt'], [180,70,'O'])\n",
    "# (16진수) 짝을 매칭해서 합쳐줌 결과값이 저장되어 있는 메모리 상의 주소"
   ]
  },
  {
   "cell_type": "code",
   "execution_count": 129,
   "metadata": {},
   "outputs": [
    {
     "data": {
      "text/plain": [
       "{1: 'a'}"
      ]
     },
     "execution_count": 129,
     "metadata": {},
     "output_type": "execute_result"
    }
   ],
   "source": [
    "a = {1:'hi'}\n",
    "a\n",
    "a = {'a':[1,2,3]}\n",
    "b = {1:'a'}\n",
    "b"
   ]
  },
  {
   "cell_type": "code",
   "execution_count": 132,
   "metadata": {},
   "outputs": [
    {
     "name": "stdout",
     "output_type": "stream",
     "text": [
      "{'a': [1, 2, 3], 2: 'b'}\n",
      "{1: 'a'}\n"
     ]
    },
    {
     "data": {
      "text/plain": [
       "{'a': [1, 2, 3], 2: 'b', 'name': 'hgd'}"
      ]
     },
     "execution_count": 132,
     "metadata": {},
     "output_type": "execute_result"
    }
   ],
   "source": [
    "print(a)\n",
    "print(b)\n",
    "a[2] = 'b' # key:2, value:'b'\n",
    "a\n",
    "a['name'] = 'hgd'\n",
    "a"
   ]
  },
  {
   "cell_type": "code",
   "execution_count": 135,
   "metadata": {},
   "outputs": [
    {
     "data": {
      "text/plain": [
       "{'a': [1, 2, 3], 2: 'b', 'name': 'lss', 'weight': 70.5}"
      ]
     },
     "execution_count": 135,
     "metadata": {},
     "output_type": "execute_result"
    }
   ],
   "source": [
    "a['name'] = 'lss'\n",
    "a\n",
    "# 딕셔너리['Key'] = 'Value'\n",
    "a['weight'] = 70.5\n",
    "a"
   ]
  },
  {
   "cell_type": "code",
   "execution_count": 136,
   "metadata": {},
   "outputs": [
    {
     "data": {
      "text/plain": [
       "'lss'"
      ]
     },
     "execution_count": 136,
     "metadata": {},
     "output_type": "execute_result"
    }
   ],
   "source": [
    "# 특정 key의 value 가져오기\n",
    "# 딕셔너리[key]\n",
    "a['name']"
   ]
  },
  {
   "cell_type": "code",
   "execution_count": 139,
   "metadata": {},
   "outputs": [
    {
     "data": {
      "text/plain": [
       "True"
      ]
     },
     "execution_count": 139,
     "metadata": {},
     "output_type": "execute_result"
    }
   ],
   "source": [
    "# 딕셔너리 특정 key 확인\n",
    "\n",
    "'weight' in a\n",
    "'sky' in a\n",
    "'sky' not in a"
   ]
  },
  {
   "cell_type": "code",
   "execution_count": 147,
   "metadata": {},
   "outputs": [
    {
     "name": "stdout",
     "output_type": "stream",
     "text": [
      "a\n",
      "2\n",
      "name\n",
      "weight\n"
     ]
    }
   ],
   "source": [
    "## 딕셔너리 key list 확인 .keys() 함수 사용\n",
    "# dic_keys : type\n",
    "a.keys()\n",
    "\n",
    "## key 출력 방법\n",
    "\n",
    "# dict_keys => list로 변경해서 참조\n",
    "list(a.keys())\n",
    "\n",
    "# for문 이용해서 key 출력\n",
    "for k in a.keys():\n",
    "    print(k)"
   ]
  },
  {
   "cell_type": "code",
   "execution_count": 140,
   "metadata": {},
   "outputs": [
    {
     "data": {
      "text/plain": [
       "4"
      ]
     },
     "execution_count": 140,
     "metadata": {},
     "output_type": "execute_result"
    }
   ],
   "source": [
    "# 딕셔너리 길이 구하기 - key의 개수\n",
    "\n",
    "len(a)"
   ]
  },
  {
   "cell_type": "code",
   "execution_count": 149,
   "metadata": {},
   "outputs": [
    {
     "name": "stdout",
     "output_type": "stream",
     "text": [
      "[1, 2, 3]\n",
      "b\n",
      "lss\n",
      "70.5\n"
     ]
    }
   ],
   "source": [
    "# 딕셔너리 value list 확인 .keys() 함수 사용\n",
    "\n",
    "a.values()\n",
    "\n",
    "list(a.values())\n",
    "\n",
    "for v in a.values():\n",
    "    print(v)"
   ]
  },
  {
   "cell_type": "code",
   "execution_count": 150,
   "metadata": {},
   "outputs": [
    {
     "name": "stdout",
     "output_type": "stream",
     "text": [
      "('a', [1, 2, 3])\n",
      "(2, 'b')\n",
      "('name', 'lss')\n",
      "('weight', 70.5)\n"
     ]
    }
   ],
   "source": [
    "# key와 value tuple형태로 동시에 출력\n",
    "\n",
    "for i in a.items():\n",
    "    print(i)"
   ]
  },
  {
   "cell_type": "code",
   "execution_count": 156,
   "metadata": {
    "scrolled": true
   },
   "outputs": [
    {
     "name": "stdout",
     "output_type": "stream",
     "text": [
      "None\n"
     ]
    }
   ],
   "source": [
    "a['name']\n",
    "a.get('name')\n",
    "a['nn']\n",
    "a.get('nn')\n",
    "print(a.get('nn'))"
   ]
  },
  {
   "cell_type": "code",
   "execution_count": 157,
   "metadata": {},
   "outputs": [
    {
     "data": {
      "text/plain": [
       "'kim'"
      ]
     },
     "execution_count": 157,
     "metadata": {},
     "output_type": "execute_result"
    }
   ],
   "source": [
    "a.get('nn', 'kim')\n",
    "# 딕셔너리 a에 nm 키가 없다면, 'kim'을 출력하라는 의미\n",
    "# 디폴트(기본값) 설정"
   ]
  },
  {
   "cell_type": "code",
   "execution_count": 158,
   "metadata": {},
   "outputs": [
    {
     "data": {
      "text/plain": [
       "'test'"
      ]
     },
     "execution_count": 158,
     "metadata": {},
     "output_type": "execute_result"
    }
   ],
   "source": [
    "a['id'] = 'test'\n",
    "a.get('id', 'guest')"
   ]
  },
  {
   "cell_type": "code",
   "execution_count": 170,
   "metadata": {},
   "outputs": [
    {
     "data": {
      "text/plain": [
       "'m'"
      ]
     },
     "execution_count": 170,
     "metadata": {},
     "output_type": "execute_result"
    }
   ],
   "source": [
    "# set : 집합\n",
    "# x = {1,1,2,2,3} => x={1,2,3}\n",
    "# 중복을 허용하지 않는 자료구조\n",
    "\n",
    "s = set([1,2,3,1])\n",
    "s\n",
    "s2 = set('hello')\n",
    "s2\n",
    "\n",
    "# set(집합) 자료구조 특징\n",
    "# 중복 허용 X, 순서가 없음 (저장순서 보장X)\n",
    "\n",
    "# s2[1] # 1번의 값이 꼭 항상 같은 그 값이라고 보장할 수 없음\n",
    "# list로 변경해서 참조 가능 (tuple도)\n",
    "s = set(['k', 'i', 'm'])\n",
    "slist = list(s)\n",
    "slist\n",
    "slist[1]\n",
    "\n",
    "stuple = tuple(s)\n",
    "stuple\n",
    "stuple[1]"
   ]
  },
  {
   "cell_type": "code",
   "execution_count": 171,
   "metadata": {},
   "outputs": [],
   "source": [
    "s1 = set([1,2,3,4])\n",
    "s2 = set([5,6,3,4])"
   ]
  },
  {
   "cell_type": "code",
   "execution_count": 173,
   "metadata": {},
   "outputs": [
    {
     "data": {
      "text/plain": [
       "{3, 4}"
      ]
     },
     "execution_count": 173,
     "metadata": {},
     "output_type": "execute_result"
    }
   ],
   "source": [
    "# 교집합\n",
    "s1 & s2\n",
    "s1.intersection(s2) #.intersection(연산하고자 하는 set name)\n",
    "# 위치를 바꿔도 동일한 결과"
   ]
  },
  {
   "cell_type": "code",
   "execution_count": 175,
   "metadata": {},
   "outputs": [
    {
     "data": {
      "text/plain": [
       "{1, 2, 3, 4, 5, 6}"
      ]
     },
     "execution_count": 175,
     "metadata": {},
     "output_type": "execute_result"
    }
   ],
   "source": [
    "# 합집합\n",
    "s1 | s2\n",
    "s1.union(s2)"
   ]
  },
  {
   "cell_type": "code",
   "execution_count": 177,
   "metadata": {},
   "outputs": [
    {
     "data": {
      "text/plain": [
       "{1, 2}"
      ]
     },
     "execution_count": 177,
     "metadata": {},
     "output_type": "execute_result"
    }
   ],
   "source": [
    "# 차집합\n",
    "s1 - s2\n",
    "s1.difference(s2)"
   ]
  },
  {
   "cell_type": "code",
   "execution_count": 180,
   "metadata": {},
   "outputs": [
    {
     "ename": "TypeError",
     "evalue": "unhashable type: 'list'",
     "output_type": "error",
     "traceback": [
      "\u001b[1;31m---------------------------------------------------------------------------\u001b[0m",
      "\u001b[1;31mTypeError\u001b[0m                                 Traceback (most recent call last)",
      "\u001b[1;32m<ipython-input-180-d6d364c91590>\u001b[0m in \u001b[0;36m<module>\u001b[1;34m\u001b[0m\n\u001b[0;32m      4\u001b[0m \u001b[0ms\u001b[0m \u001b[1;33m=\u001b[0m \u001b[0mset\u001b[0m\u001b[1;33m(\u001b[0m\u001b[1;33m[\u001b[0m\u001b[1;36m1\u001b[0m\u001b[1;33m,\u001b[0m\u001b[1;36m2\u001b[0m\u001b[1;33m]\u001b[0m\u001b[1;33m)\u001b[0m\u001b[1;33m\u001b[0m\u001b[1;33m\u001b[0m\u001b[0m\n\u001b[0;32m      5\u001b[0m \u001b[0ms\u001b[0m\u001b[1;33m.\u001b[0m\u001b[0madd\u001b[0m\u001b[1;33m(\u001b[0m\u001b[1;36m3\u001b[0m\u001b[1;33m)\u001b[0m\u001b[1;33m\u001b[0m\u001b[1;33m\u001b[0m\u001b[0m\n\u001b[1;32m----> 6\u001b[1;33m \u001b[0ms\u001b[0m\u001b[1;33m.\u001b[0m\u001b[0madd\u001b[0m\u001b[1;33m(\u001b[0m\u001b[1;33m[\u001b[0m\u001b[1;36m4\u001b[0m\u001b[1;33m,\u001b[0m\u001b[1;36m5\u001b[0m\u001b[1;33m]\u001b[0m\u001b[1;33m)\u001b[0m\u001b[1;33m\u001b[0m\u001b[1;33m\u001b[0m\u001b[0m\n\u001b[0m",
      "\u001b[1;31mTypeError\u001b[0m: unhashable type: 'list'"
     ]
    }
   ],
   "source": [
    "#.add() : 데이터 추가 함수\n",
    "# 요소 하나만 추가 가능 / 2개 이상 추가 안됨\n",
    "# list 형식 추가 불가\n",
    "\n",
    "s = set([1,2])\n",
    "s.add(3)\n",
    "s.add([4,5])"
   ]
  },
  {
   "cell_type": "code",
   "execution_count": 182,
   "metadata": {},
   "outputs": [
    {
     "data": {
      "text/plain": [
       "{1, 2, 3, 4, 5}"
      ]
     },
     "execution_count": 182,
     "metadata": {},
     "output_type": "execute_result"
    }
   ],
   "source": [
    "# .update() : 데이터 추가 함수\n",
    "# 2개 이상도 한번에 추가 가능\n",
    "\n",
    "s.update([4,5])\n",
    "s"
   ]
  },
  {
   "cell_type": "code",
   "execution_count": 184,
   "metadata": {},
   "outputs": [
    {
     "data": {
      "text/plain": [
       "[]"
      ]
     },
     "execution_count": 184,
     "metadata": {},
     "output_type": "execute_result"
    }
   ],
   "source": [
    "\"\"\"\n",
    "무언가가 있으면 참,\n",
    "아무것도 없으면 거짓\n",
    "\n",
    "참 : \"test\", [1,2], (1,2), {1,2}, 1(0 외의 모든 수 참) \n",
    "거짓 : \"\", [], (1,2). {}, 0, None\n",
    "\n",
    "explicit programming (조건문)\n",
    "implicit programming\n",
    "\n",
    "if 고양이가 나타나면 :\n",
    "    브레이크를 밟는다\n",
    "\":\" 기호 사용\n",
    "\n",
    "if 조건 :\n",
    "종속(들여쓰기 X : if문과 다른 문장으로 봄)\n",
    "    종속절(들여쓰기 : if문에 종속된 문장으로 판단)\n",
    "\"\"\"\n"
   ]
  },
  {
   "cell_type": "code",
   "execution_count": 188,
   "metadata": {},
   "outputs": [
    {
     "name": "stdout",
     "output_type": "stream",
     "text": [
      "문장을 수행합니다\n"
     ]
    }
   ],
   "source": [
    "x = 10\n",
    "if x == 10:\n",
    "    print(\"10입니다\")\n",
    "    print(\"5보다 큽니다\")\n",
    "print(\"문장을 수행합니다\")\n",
    "\n",
    "# 비교할 때는 == 기호를 사용해줘야 함 =는 변수 지정"
   ]
  },
  {
   "cell_type": "code",
   "execution_count": 190,
   "metadata": {},
   "outputs": [
    {
     "name": "stdout",
     "output_type": "stream",
     "text": [
      "수행합니다\n"
     ]
    }
   ],
   "source": [
    "# 참 : \"test\", [1,2], (1,2), {1,2}, 1(0 외의 모든 수 참) \n",
    "# 거짓 : \"\", [], (1,2). {}, 0, None\n",
    "\n",
    "if [1,2] :\n",
    "    print('수행합니다')\n",
    "\n",
    "if None:\n",
    "    print('수행합니다')"
   ]
  },
  {
   "cell_type": "code",
   "execution_count": 194,
   "metadata": {},
   "outputs": [
    {
     "name": "stdout",
     "output_type": "stream",
     "text": [
      "안녕\n",
      "안녕\n",
      "하세요\n"
     ]
    }
   ],
   "source": [
    "# if문 작성 시 주의할 점\n",
    "\n",
    "# : 기호 생략\n",
    "# 들여쓰기\n",
    "# 실행할 문장이 없으면 pass 입력\n",
    "x = 10\n",
    "if x == 10:\n",
    "    pass\n",
    "print('안녕')\n",
    "\n",
    "# 종속절 들여쓰기 수준을 맞춰 줘야함 (indentationError)\n",
    "x = 10\n",
    "if x == 10:\n",
    "    print('안녕')\n",
    "    if x % 2 == 0:\n",
    "        print('하세요')"
   ]
  },
  {
   "cell_type": "code",
   "execution_count": 197,
   "metadata": {},
   "outputs": [
    {
     "name": "stdout",
     "output_type": "stream",
     "text": [
      "3 이상\n",
      "10 미만\n",
      "입니다\n"
     ]
    }
   ],
   "source": [
    "# if 문 중첩 사용\n",
    "\n",
    "x = 5\n",
    "if x >= 3 :\n",
    "    print('3 이상')\n",
    "    if x<10:\n",
    "        print(\"10 미만\")\n",
    "    if x<5 :\n",
    "        print(\"5 미만\")\n",
    "        \n",
    "print(\"입니다\")"
   ]
  },
  {
   "cell_type": "code",
   "execution_count": 198,
   "metadata": {},
   "outputs": [
    {
     "name": "stdout",
     "output_type": "stream",
     "text": [
      "거짓\n"
     ]
    }
   ],
   "source": [
    "if []: # 거짓이므로 else 문장 수행\n",
    "    print('참')\n",
    "else:\n",
    "    print(\"거짓\")\n",
    "    \n",
    "if [1,2]: # 참이므로 if 문장 수행\n",
    "    print('참')\n",
    "else:\n",
    "    print(\"거짓\")\n",
    "    \n",
    "if None : # 거짓이므로 else 문장 수행\n",
    "    print('참')\n",
    "else:\n",
    "    print(\"거짓\")"
   ]
  },
  {
   "cell_type": "code",
   "execution_count": 205,
   "metadata": {},
   "outputs": [
    {
     "data": {
      "text/plain": [
       "False"
      ]
     },
     "execution_count": 205,
     "metadata": {},
     "output_type": "execute_result"
    }
   ],
   "source": [
    "# bool() 참거짓 판별 시 사용하는 함수\n",
    "\n",
    "bool(0)\n",
    "bool(10)\n",
    "bool('python')\n",
    "bool('')"
   ]
  },
  {
   "cell_type": "code",
   "execution_count": 207,
   "metadata": {},
   "outputs": [
    {
     "name": "stdout",
     "output_type": "stream",
     "text": [
      "3\n"
     ]
    },
    {
     "data": {
      "text/plain": [
       "[1, 2]"
      ]
     },
     "execution_count": 207,
     "metadata": {},
     "output_type": "execute_result"
    }
   ],
   "source": [
    "a = [1,2,3]\n",
    "if a : # True\n",
    "    print(a.pop()) # pop() : 마지막에 저장된 요소 꺼내는 함수\n",
    "    \n",
    "a"
   ]
  },
  {
   "cell_type": "code",
   "execution_count": 208,
   "metadata": {},
   "outputs": [
    {
     "name": "stdout",
     "output_type": "stream",
     "text": [
      "3\n",
      "2\n",
      "1\n"
     ]
    }
   ],
   "source": [
    "a = [1,2,3]\n",
    "while a : # while(~동안) : a변수 값이 참인 동안에 계속 반복\n",
    "    print(a.pop())"
   ]
  },
  {
   "cell_type": "code",
   "execution_count": 215,
   "metadata": {},
   "outputs": [
    {
     "name": "stdout",
     "output_type": "stream",
     "text": [
      "x를 입력해주세요 :50\n",
      "10보다 커요\n"
     ]
    }
   ],
   "source": [
    "\"\"\"\n",
    "문제 #1\n",
    "데이터에 입력을 받아서 10보다 작으면 \"10보다 작아요\" 그렇지 않으면 \"10보다 커요\" 출력\n",
    "\"\"\"\n",
    "\n",
    "x = int(input(\"x를 입력해주세요 :\"))\n",
    "if x < 10 :\n",
    "    print(\"10보다 작아요\")\n",
    "else :\n",
    "    print(\"10보다 커요\")`"
   ]
  },
  {
   "cell_type": "code",
   "execution_count": null,
   "metadata": {},
   "outputs": [],
   "source": [
    "for i in range(1,5001):\n",
    "    "
   ]
  },
  {
   "cell_type": "markdown",
   "metadata": {},
   "source": [
    "## 연습문제"
   ]
  },
  {
   "cell_type": "markdown",
   "metadata": {},
   "source": [
    "#### Q1. \n",
    "\n",
    "어떤 자연수 n이 있을 때, d(n)을 n의 각 자릿수 숫자들과 n 자신을 더한 숫자라고 정의하자.\n",
    "\n",
    "예를 들어\n",
    "\n",
    "d(91) = 9 + 1 + 91 = 101\n",
    "\n",
    "이 때, n을 d(n)의 제네레이터(generator)라고 한다. 위의 예에서 91은 101의 제네레이터이다.\n",
    "\n",
    "어떤 숫자들은 하나 이상의 제네레이터를 가지고 있는데, 101의 제네레이터는 91 뿐 아니라 100도 있다. 그런데 반대로, 제네레이터가 없는 숫자들도 있으며, 이런 숫자를 인도의 수학자 Kaprekar가 셀프 넘버(self-number)라 이름 붙였다. 예를 들어 1,3,5,7,9,20,31 은 셀프 넘버 들이다.\n",
    "\n",
    "1 이상이고 5000 보다 작은 모든 셀프 넘버들의 합을 구하라."
   ]
  },
  {
   "cell_type": "code",
   "execution_count": 75,
   "metadata": {},
   "outputs": [
    {
     "name": "stdout",
     "output_type": "stream",
     "text": [
      "1227365\n",
      "[1, 3, 5, 7, 9, 20, 31, 42, 53, 64, 75, 86, 97, 108, 110, 121, 132, 143, 154, 165, 176, 187, 198, 209, 211, 222, 233, 244, 255, 266, 277, 288, 299, 310, 312, 323, 334, 345, 356, 367, 378, 389, 400, 411, 413, 424, 435, 446, 457, 468, 479, 490, 501, 512, 514, 525, 536, 547, 558, 569, 580, 591, 602, 613, 615, 626, 637, 648, 659, 670, 681, 692, 703, 714, 716, 727, 738, 749, 760, 771, 782, 793, 804, 815, 817, 828, 839, 850, 861, 872, 883, 894, 905, 916, 918, 929, 940, 951, 962, 973, 984, 995, 1006, 1021, 1032, 1043, 1054, 1065, 1076, 1087, 1098, 1109, 1111, 1122, 1133, 1144, 1155, 1166, 1177, 1188, 1199, 1210, 1212, 1223, 1234, 1245, 1256, 1267, 1278, 1289, 1300, 1311, 1313, 1324, 1335, 1346, 1357, 1368, 1379, 1390, 1401, 1412, 1414, 1425, 1436, 1447, 1458, 1469, 1480, 1491, 1502, 1513, 1515, 1526, 1537, 1548, 1559, 1570, 1581, 1592, 1603, 1614, 1616, 1627, 1638, 1649, 1660, 1671, 1682, 1693, 1704, 1715, 1717, 1728, 1739, 1750, 1761, 1772, 1783, 1794, 1805, 1816, 1818, 1829, 1840, 1851, 1862, 1873, 1884, 1895, 1906, 1917, 1919, 1930, 1941, 1952, 1963, 1974, 1985, 1996, 2007, 2022, 2033, 2044, 2055, 2066, 2077, 2088, 2099, 2110, 2112, 2123, 2134, 2145, 2156, 2167, 2178, 2189, 2200, 2211, 2213, 2224, 2235, 2246, 2257, 2268, 2279, 2290, 2301, 2312, 2314, 2325, 2336, 2347, 2358, 2369, 2380, 2391, 2402, 2413, 2415, 2426, 2437, 2448, 2459, 2470, 2481, 2492, 2503, 2514, 2516, 2527, 2538, 2549, 2560, 2571, 2582, 2593, 2604, 2615, 2617, 2628, 2639, 2650, 2661, 2672, 2683, 2694, 2705, 2716, 2718, 2729, 2740, 2751, 2762, 2773, 2784, 2795, 2806, 2817, 2819, 2830, 2841, 2852, 2863, 2874, 2885, 2896, 2907, 2918, 2920, 2931, 2942, 2953, 2964, 2975, 2986, 2997, 3008, 3023, 3034, 3045, 3056, 3067, 3078, 3089, 3100, 3111, 3113, 3124, 3135, 3146, 3157, 3168, 3179, 3190, 3201, 3212, 3214, 3225, 3236, 3247, 3258, 3269, 3280, 3291, 3302, 3313, 3315, 3326, 3337, 3348, 3359, 3370, 3381, 3392, 3403, 3414, 3416, 3427, 3438, 3449, 3460, 3471, 3482, 3493, 3504, 3515, 3517, 3528, 3539, 3550, 3561, 3572, 3583, 3594, 3605, 3616, 3618, 3629, 3640, 3651, 3662, 3673, 3684, 3695, 3706, 3717, 3719, 3730, 3741, 3752, 3763, 3774, 3785, 3796, 3807, 3818, 3820, 3831, 3842, 3853, 3864, 3875, 3886, 3897, 3908, 3919, 3921, 3932, 3943, 3954, 3965, 3976, 3987, 3998, 4009, 4024, 4035, 4046, 4057, 4068, 4079, 4090, 4101, 4112, 4114, 4125, 4136, 4147, 4158, 4169, 4180, 4191, 4202, 4213, 4215, 4226, 4237, 4248, 4259, 4270, 4281, 4292, 4303, 4314, 4316, 4327, 4338, 4349, 4360, 4371, 4382, 4393, 4404, 4415, 4417, 4428, 4439, 4450, 4461, 4472, 4483, 4494, 4505, 4516, 4518, 4529, 4540, 4551, 4562, 4573, 4584, 4595, 4606, 4617, 4619, 4630, 4641, 4652, 4663, 4674, 4685, 4696, 4707, 4718, 4720, 4731, 4742, 4753, 4764, 4775, 4786, 4797, 4808, 4819, 4821, 4832, 4843, 4854, 4865, 4876, 4887, 4898, 4909, 4920, 4922, 4933, 4944, 4955, 4966, 4977, 4988, 4999]\n"
     ]
    }
   ],
   "source": [
    "plus = []\n",
    "sn_sum = 0\n",
    "test = []\n",
    "\n",
    "for i in range(1,5001) :\n",
    "    b = 0\n",
    "    a = list(str(i))\n",
    "    for j in a :\n",
    "        b = b + int(j)\n",
    "    plus.append(b+i)\n",
    "\n",
    "plus1 = list(set(plus))\n",
    "\n",
    "# for i in range(1,5001) :\n",
    "#     if plus1.count(i) == 0 :\n",
    "#         test.append(i)\n",
    "#         sn_sum += i\n",
    "\n",
    "for i in range(1,5001) :\n",
    "    if i not in plus1:\n",
    "        test.append(i)\n",
    "        sn_sum += i\n",
    "\n",
    "print(sn_sum)\n",
    "print(test)"
   ]
  },
  {
   "cell_type": "code",
   "execution_count": 77,
   "metadata": {},
   "outputs": [
    {
     "name": "stdout",
     "output_type": "stream",
     "text": [
      "1227365\n"
     ]
    }
   ],
   "source": [
    "plus_s = set()\n",
    "sn_s = 0\n",
    "\n",
    "for i in range(1,5001) :\n",
    "    b = 0\n",
    "    for j in str(i) :\n",
    "        b += int(j)\n",
    "    plus_s.add(b+i)\n",
    "\n",
    "for i in range(1,5001) :\n",
    "    if i not in plus_s:\n",
    "        sn_s += i\n",
    "        \n",
    "print(sn_s)"
   ]
  },
  {
   "cell_type": "code",
   "execution_count": null,
   "metadata": {},
   "outputs": [],
   "source": [
    "# 1001d + 101c + 11b + 2a\n",
    "ge = set()\n",
    "\n",
    "for i in range(1,5001) :\n",
    "    if len(i) = 1 :\n",
    "        ge.add(2i)\n",
    "    if len(i) = 2 :\n",
    "        a = list(i)\n",
    "        ge.add()\n",
    "    for j in len(i) :"
   ]
  },
  {
   "cell_type": "markdown",
   "metadata": {},
   "source": [
    "#### Q2.\n",
    "\n",
    "표준 입력으로 가격(정수)과 쿠폰 이름이 각 줄에 입력됩니다. Cash3000 쿠폰은 3,000원, Cash5000 쿠폰은 5,000원을 할인합니다. 쿠폰에 따라 할인된 가격을 출력하는 프로그램을 만드세요(input에서 안내 문자열은 출력하지 않아야 합니다).\n",
    "\n",
    "입력 \n",
    "27000\n",
    "Cash3000\n",
    "\n",
    "출력\n",
    "24000"
   ]
  },
  {
   "cell_type": "code",
   "execution_count": 79,
   "metadata": {},
   "outputs": [
    {
     "name": "stdout",
     "output_type": "stream",
     "text": [
      "27000Cash5000\n"
     ]
    },
    {
     "ename": "ValueError",
     "evalue": "not enough values to unpack (expected 2, got 1)",
     "output_type": "error",
     "traceback": [
      "\u001b[1;31m---------------------------------------------------------------------------\u001b[0m",
      "\u001b[1;31mValueError\u001b[0m                                Traceback (most recent call last)",
      "\u001b[1;32m<ipython-input-79-5d2e6e940fa2>\u001b[0m in \u001b[0;36m<module>\u001b[1;34m\u001b[0m\n\u001b[1;32m----> 1\u001b[1;33m \u001b[0mprice\u001b[0m\u001b[1;33m,\u001b[0m \u001b[0mco\u001b[0m \u001b[1;33m=\u001b[0m \u001b[0minput\u001b[0m\u001b[1;33m(\u001b[0m\u001b[1;33m)\u001b[0m\u001b[1;33m.\u001b[0m\u001b[0msplit\u001b[0m\u001b[1;33m(\u001b[0m\u001b[1;33m)\u001b[0m\u001b[1;33m\u001b[0m\u001b[1;33m\u001b[0m\u001b[0m\n\u001b[0m\u001b[0;32m      2\u001b[0m \u001b[1;33m\u001b[0m\u001b[0m\n\u001b[0;32m      3\u001b[0m \u001b[0mco_n\u001b[0m \u001b[1;33m=\u001b[0m \u001b[0mco\u001b[0m\u001b[1;33m[\u001b[0m\u001b[1;36m4\u001b[0m\u001b[1;33m:\u001b[0m\u001b[1;33m]\u001b[0m\u001b[1;33m\u001b[0m\u001b[1;33m\u001b[0m\u001b[0m\n\u001b[0;32m      4\u001b[0m \u001b[0mresult\u001b[0m \u001b[1;33m=\u001b[0m \u001b[0mint\u001b[0m\u001b[1;33m(\u001b[0m\u001b[0mprice\u001b[0m\u001b[1;33m)\u001b[0m \u001b[1;33m-\u001b[0m \u001b[0mint\u001b[0m\u001b[1;33m(\u001b[0m\u001b[0mco_n\u001b[0m\u001b[1;33m)\u001b[0m\u001b[1;33m\u001b[0m\u001b[1;33m\u001b[0m\u001b[0m\n\u001b[0;32m      5\u001b[0m \u001b[1;33m\u001b[0m\u001b[0m\n",
      "\u001b[1;31mValueError\u001b[0m: not enough values to unpack (expected 2, got 1)"
     ]
    }
   ],
   "source": [
    "price, co = input().split()\n",
    "\n",
    "co_n = co[4:]\n",
    "result = int(price) - int(co_n)\n",
    "\n",
    "print(result)"
   ]
  },
  {
   "cell_type": "markdown",
   "metadata": {},
   "source": [
    "#### Q3.\n",
    "\n",
    "표준 입력으로 정수가 입력됩니다. range의 시작하는 숫자는 -10, 끝나는 숫자는 10이며 입력된 정수만큼 증가하는 숫자가 들어가도록 튜플을 만들고, 해당 튜플을 출력하는 프로그램을 만드세요(input에서 안내 문자열은 출력하지 않아야 합니다).\n",
    "입력\n",
    "2\n",
    "출력\n",
    "(-10, -8, -6, -4, -2, 0, 2, 4, 6, 8)"
   ]
  },
  {
   "cell_type": "code",
   "execution_count": 217,
   "metadata": {},
   "outputs": [
    {
     "name": "stdout",
     "output_type": "stream",
     "text": [
      "2\n",
      "(-10, -8, -6, -4, -2, 0, 2, 4, 6, 8)\n"
     ]
    }
   ],
   "source": [
    "n = int(input())\n",
    "t = tuple(range(-10,10,n))\n",
    "print(t)"
   ]
  },
  {
   "cell_type": "markdown",
   "metadata": {},
   "source": [
    "#### Q4.\n",
    "\n",
    "튜플 n에서 인덱스가 홀수인 요소들이 출력되게 만드세요.\n",
    "n = -32, 75, 97, -10, 9, 32, 4, -15, 0, 76, 14, 2"
   ]
  },
  {
   "cell_type": "code",
   "execution_count": 4,
   "metadata": {},
   "outputs": [
    {
     "name": "stdout",
     "output_type": "stream",
     "text": [
      "(75, -10, 32, -15, 76, 2)\n"
     ]
    }
   ],
   "source": [
    "n = -32, 75, 97, -10, 9, 32, 4, -15, 0, 76, 14, 2\n",
    "f = len(n) + 1\n",
    "print(n[1:f:2])"
   ]
  },
  {
   "cell_type": "code",
   "execution_count": 6,
   "metadata": {},
   "outputs": [
    {
     "name": "stdout",
     "output_type": "stream",
     "text": [
      "75\n",
      "-10\n",
      "32\n",
      "-15\n",
      "76\n",
      "2\n"
     ]
    }
   ],
   "source": [
    "for i in range(len(n)):\n",
    "    if i % 2 != 0 :\n",
    "        print(n[i])"
   ]
  },
  {
   "cell_type": "code",
   "execution_count": 7,
   "metadata": {},
   "outputs": [
    {
     "name": "stdout",
     "output_type": "stream",
     "text": [
      "(75, -10, 32, -15, 76, 2)\n"
     ]
    }
   ],
   "source": [
    "num = []\n",
    "for i in range(len(n)):\n",
    "    if i % 2 != 0 :\n",
    "        num.append(n[i])\n",
    "        \n",
    "print(tuple(num))"
   ]
  },
  {
   "cell_type": "markdown",
   "metadata": {},
   "source": [
    "#### Q5.\n",
    "\n",
    "a 리스트에서 중복 숫자를 제거해 보자.\n",
    "\n",
    "a = [1, 1, 1, 2, 2, 3, 3, 3, 4, 4, 5]"
   ]
  },
  {
   "cell_type": "code",
   "execution_count": 8,
   "metadata": {},
   "outputs": [
    {
     "name": "stdout",
     "output_type": "stream",
     "text": [
      "[1, 2, 3, 4, 5]\n"
     ]
    }
   ],
   "source": [
    "a = [1, 1, 1, 2, 2, 3, 3, 3, 4, 4, 5]\n",
    "a = list(set(a))\n",
    "print(a)"
   ]
  },
  {
   "cell_type": "code",
   "execution_count": null,
   "metadata": {},
   "outputs": [],
   "source": []
  }
 ],
 "metadata": {
  "kernelspec": {
   "display_name": "Python 3",
   "language": "python",
   "name": "python3"
  },
  "language_info": {
   "codemirror_mode": {
    "name": "ipython",
    "version": 3
   },
   "file_extension": ".py",
   "mimetype": "text/x-python",
   "name": "python",
   "nbconvert_exporter": "python",
   "pygments_lexer": "ipython3",
   "version": "3.7.4"
  }
 },
 "nbformat": 4,
 "nbformat_minor": 2
}
