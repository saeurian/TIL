{
 "cells": [
  {
   "cell_type": "code",
   "execution_count": 3,
   "metadata": {},
   "outputs": [
    {
     "name": "stdout",
     "output_type": "stream",
     "text": [
      "사 먹는다\n",
      "사 먹는다\n"
     ]
    }
   ],
   "source": [
    "money = True\n",
    "\n",
    "if money :\n",
    "    print(\"사 먹는다\")\n",
    "    print(\"사 먹는다\")\n",
    "else : \n",
    "    print(\"...\")\n",
    "\n",
    "# 들여쓰기 주의"
   ]
  },
  {
   "cell_type": "code",
   "execution_count": 8,
   "metadata": {},
   "outputs": [
    {
     "name": "stdout",
     "output_type": "stream",
     "text": [
      "택시를 탄다\n"
     ]
    }
   ],
   "source": [
    "money = 5000\n",
    "card = True\n",
    "\n",
    "# 조건식 or 조건식 : 1개 이상 참 -> 참\n",
    "# 조건식 and 조건식 : 2개 모두 참 -> 참\n",
    "# not 조건식\n",
    "\n",
    "if money >= 10000 or card : # money 부분은 거짓이지만 card부분은 참\n",
    "    print(\"택시를 탄다\")\n",
    "\n",
    "else :\n",
    "    print('버스를 탄다')"
   ]
  },
  {
   "cell_type": "code",
   "execution_count": 9,
   "metadata": {},
   "outputs": [
    {
     "name": "stdout",
     "output_type": "stream",
     "text": [
      "동전이 없다\n"
     ]
    }
   ],
   "source": [
    "# x in list # list 내부에 x가 있는지\n",
    "# x in tuple\n",
    "# x in 문자열\n",
    "\n",
    "1 in [1,2,3]\n",
    "1 not in [1,2,3]\n",
    "\n",
    "poc = ['money', 'cp', 'coin']\n",
    "if 'coin' in poc:\n",
    "    print('동전이 없다')\n",
    "\n",
    "else :\n",
    "    print('동전이 없다')"
   ]
  },
  {
   "cell_type": "code",
   "execution_count": 16,
   "metadata": {},
   "outputs": [
    {
     "name": "stdout",
     "output_type": "stream",
     "text": [
      "거짓\n"
     ]
    }
   ],
   "source": [
    "if \"\": # 0b1010(2진수): # 0xffff(16진수): # 3.14: #None:\n",
    "    print(\"참\")\n",
    "else :\n",
    "    print(\"거짓\")"
   ]
  },
  {
   "cell_type": "code",
   "execution_count": 18,
   "metadata": {},
   "outputs": [
    {
     "name": "stdout",
     "output_type": "stream",
     "text": [
      "거짓\n",
      "거짓\n"
     ]
    }
   ],
   "source": [
    "# 중첩 if\n",
    "\n",
    "x = 2\n",
    "y = 2\n",
    "\n",
    "# 1\n",
    "if x == 1 and y ==2 :\n",
    "    print('참')\n",
    "else :\n",
    "    print('거짓')\n",
    "    \n",
    "\n",
    "# 2    \n",
    "if x == 1 :\n",
    "    if y == 2 :\n",
    "        print('참')\n",
    "    else : \n",
    "        print('거짓')\n",
    "else :\n",
    "    print('거짓')\n",
    "    "
   ]
  },
  {
   "cell_type": "code",
   "execution_count": 19,
   "metadata": {},
   "outputs": [
    {
     "name": "stdout",
     "output_type": "stream",
     "text": [
      "20보다 작은 양수\n",
      "20보다 작은 양수\n"
     ]
    }
   ],
   "source": [
    "x = 10\n",
    "if x>0 and x<20 :\n",
    "    print(\"20보다 작은 양수\")\n",
    "if 0<x<20 :\n",
    "    print(\"20보다 작은 양수\")"
   ]
  },
  {
   "cell_type": "code",
   "execution_count": 20,
   "metadata": {},
   "outputs": [
    {
     "name": "stdout",
     "output_type": "stream",
     "text": [
      "택시 탄다\n"
     ]
    }
   ],
   "source": [
    "# elif\n",
    "\n",
    "poc = ['cp','paper']\n",
    "card = True\n",
    "\n",
    "if 'money' in poc :\n",
    "    print('택시탄다')\n",
    "else:\n",
    "    if card:\n",
    "            print('택시 탄다')\n",
    "    else :\n",
    "        print('걸어간다')\n",
    "\n",
    "# money가 없는데 card가 있다면 => 택시 탄다\n",
    "# 중첩 if가 너무 많아지면 코드 가독성이 많이 떨어짐"
   ]
  },
  {
   "cell_type": "code",
   "execution_count": 23,
   "metadata": {},
   "outputs": [
    {
     "name": "stdout",
     "output_type": "stream",
     "text": [
      "택시 탄다\n"
     ]
    }
   ],
   "source": [
    "poc = ['cp','paper']\n",
    "card = True\n",
    "\n",
    "if 'money' in poc :\n",
    "    print('택시탄다')\n",
    "elif card: # else if\n",
    "    print('택시 탄다')\n",
    "else : # if 및 elif 조건을 모두 만족하지 않는 경우\n",
    "    print('걸어간다')"
   ]
  },
  {
   "cell_type": "code",
   "execution_count": 25,
   "metadata": {},
   "outputs": [
    {
     "name": "stdout",
     "output_type": "stream",
     "text": [
      "카드 사용\n",
      "카드 사용\n"
     ]
    }
   ],
   "source": [
    "if 'money' in poc:\n",
    "    pass\n",
    "else:\n",
    "    print('카드 사용')\n",
    "    \n",
    "if 'money' in poc : pass\n",
    "else : print('카드 사용')\n",
    "    \n",
    "# 줄을 줄인다고 다가 아님 (오히려 무리하게 합치면 가독성이 떨어질 수 있음)"
   ]
  },
  {
   "cell_type": "code",
   "execution_count": 28,
   "metadata": {},
   "outputs": [
    {
     "name": "stdout",
     "output_type": "stream",
     "text": [
      "success\n",
      "success\n"
     ]
    }
   ],
   "source": [
    "score = 80\n",
    "\n",
    "if score >= 60:\n",
    "    msg = \"success\"\n",
    "else :\n",
    "    msg = \"failure\"\n",
    "print(msg)\n",
    "\n",
    "# 한 줄로 표현\n",
    "\n",
    "msg = 'success' if score >= 60 else \"faliure\"\n",
    "print(msg)\n",
    "\n",
    "# 조건이 참인 경우 + if 조건문 + 조건문이 거짓인 경우"
   ]
  },
  {
   "cell_type": "code",
   "execution_count": 33,
   "metadata": {},
   "outputs": [
    {
     "name": "stdout",
     "output_type": "stream",
     "text": [
      "hi\n",
      "hi\n",
      "hi\n",
      "hi\n",
      "hi\n",
      "hi\n",
      "hi\n",
      "hi\n",
      "hi\n"
     ]
    }
   ],
   "source": [
    "# for 변수 in range(범위) :\n",
    "#     반복코드\n",
    "\n",
    "for i in range(100) : # 100번 반복\n",
    "    print('hi')\n",
    "    \n",
    "for i in range(10,1,-1) :\n",
    "    print('hi')\n",
    "    \n",
    "# (1,10) i 값이 커지면서 연산하는 것 보다, 하나씩 줄어들면서 연산하는 것이 미세하게 더 빠름"
   ]
  },
  {
   "cell_type": "code",
   "execution_count": 35,
   "metadata": {},
   "outputs": [
    {
     "name": "stdout",
     "output_type": "stream",
     "text": [
      "반복횟수 입력? : 5\n",
      "hello 0\n",
      "hello 1\n",
      "hello 2\n",
      "hello 3\n",
      "hello 4\n"
     ]
    }
   ],
   "source": [
    "cnt = input('반복횟수 입력? : ')\n",
    "for i in range(int(cnt)):\n",
    "    print(\"hello\",i)"
   ]
  },
  {
   "cell_type": "code",
   "execution_count": 46,
   "metadata": {},
   "outputs": [
    {
     "name": "stdout",
     "output_type": "stream",
     "text": [
      "Python\n",
      "\n",
      "nohtyP"
     ]
    }
   ],
   "source": [
    "# for 변수 in 리스트, 튜플, 문자열 :\n",
    "a = [1,2,3]\n",
    "a2 = 1,2,3\n",
    "a3 = 'Python'\n",
    "\n",
    "for i in a3:\n",
    "    print(i, end = \"\")\n",
    "\n",
    "print('\\n')\n",
    "\n",
    "for i in reversed(a3) :\n",
    "    print(i, end = \"\")"
   ]
  },
  {
   "cell_type": "code",
   "execution_count": 48,
   "metadata": {},
   "outputs": [
    {
     "name": "stdout",
     "output_type": "stream",
     "text": [
      "hi 0\n",
      "hi 1\n",
      "hi 2\n",
      "hi 3\n",
      "hi 4\n",
      "hi 5\n",
      "hi 6\n",
      "hi 7\n",
      "hi 8\n",
      "hi 9\n"
     ]
    }
   ],
   "source": [
    "# while 조건식 :\n",
    "#  수행문장1\n",
    "#  수행문장2\n",
    "#  수행문장...\n",
    "\n",
    "i = 0\n",
    "while i<10: # i가 10보다 작다는 조건을 만족하는 동안에 수행 문장을 수행해라\n",
    "    print('hi', i)\n",
    "    i += 1 # 이 문장이 없으면 수행이 끝나지 않음"
   ]
  },
  {
   "cell_type": "code",
   "execution_count": 50,
   "metadata": {},
   "outputs": [],
   "source": [
    "prompt = \"\"\"\n",
    "1. add\n",
    "2. del\n",
    "3. list\n",
    "4. quit\n",
    "\n",
    "enter number:   \"\"\""
   ]
  },
  {
   "cell_type": "code",
   "execution_count": 51,
   "metadata": {},
   "outputs": [
    {
     "name": "stdout",
     "output_type": "stream",
     "text": [
      "\n",
      "1. add\n",
      "2. del\n",
      "3. list\n",
      "4. quit\n",
      "\n",
      "enter number:   \n"
     ]
    }
   ],
   "source": [
    "print(prompt)"
   ]
  },
  {
   "cell_type": "code",
   "execution_count": 53,
   "metadata": {},
   "outputs": [
    {
     "name": "stdout",
     "output_type": "stream",
     "text": [
      "\n",
      "1. add\n",
      "2. del\n",
      "3. list\n",
      "4. quit\n",
      "\n",
      "enter number:   \n",
      "1\n",
      "\n",
      "1. add\n",
      "2. del\n",
      "3. list\n",
      "4. quit\n",
      "\n",
      "enter number:   \n",
      "4\n"
     ]
    }
   ],
   "source": [
    "number = 0 # 초기값 필요\n",
    "while number != 4: # number 값이 4와 같지 않은 동안에 수행문장을 수행해라\n",
    "    print(prompt)\n",
    "    number = int(input())"
   ]
  },
  {
   "cell_type": "code",
   "execution_count": 7,
   "metadata": {},
   "outputs": [
    {
     "name": "stdout",
     "output_type": "stream",
     "text": [
      "44\n",
      "33\n",
      "2\n",
      "27\n",
      "13\n",
      "7\n"
     ]
    }
   ],
   "source": [
    "# 난수 (random number) : 컴퓨터 임의의 수\n",
    "# 모듈(파일) : 함수들의 묶음 (.py or .ipynb)\n",
    "# 패키지(폴더) : 모듈 또는 서브 패키지(하위폴더)\n",
    "# Anaconda3 > lib에서 확인가능\n",
    "\n",
    "import random # random 모듈(random.py)을 가져옴\n",
    "random.random() # 모듈 이름 . 함수 이름\n",
    "\n",
    "i = 0\n",
    "while i!=6 :\n",
    "    print(random.randint(1,45)) # () 안에 난수의 범위 설정 > 정수(int)형태의 난수 출력\n",
    "    i += 1"
   ]
  },
  {
   "cell_type": "markdown",
   "metadata": {},
   "source": [
    "#### 오후 동일한 수가 발생하지 않도록 로또생성기 만들기"
   ]
  },
  {
   "cell_type": "code",
   "execution_count": 9,
   "metadata": {},
   "outputs": [
    {
     "data": {
      "text/plain": [
       "18"
      ]
     },
     "execution_count": 9,
     "metadata": {},
     "output_type": "execute_result"
    }
   ],
   "source": [
    "# choice 함수 choice(시퀀스형)\n",
    "# 무작위로 추출\n",
    "random.choice([1,2,3,4,5,6])\n",
    "random.choice(\"hello\")\n",
    "random.choice(range(10,20))"
   ]
  },
  {
   "cell_type": "code",
   "execution_count": 11,
   "metadata": {},
   "outputs": [
    {
     "name": "stdout",
     "output_type": "stream",
     "text": [
      "0\n",
      "1\n",
      "2\n",
      "3\n",
      "4\n",
      "5\n",
      "6\n",
      "7\n",
      "8\n",
      "9\n"
     ]
    }
   ],
   "source": [
    "# break, continue 문은 반복문에서 제어하는 역할을 함\n",
    "# break : 반복문 종료\n",
    "# continue : 특정 반복문장을 건너뛸 때 사용\n",
    "\n",
    "i=0\n",
    "while True : # 무한 반복\n",
    "    print(i)\n",
    "    i += 1\n",
    "    if i == 10 :\n",
    "        break # while문 종료"
   ]
  },
  {
   "cell_type": "code",
   "execution_count": 13,
   "metadata": {},
   "outputs": [
    {
     "name": "stdout",
     "output_type": "stream",
     "text": [
      "0\n",
      "1\n",
      "2\n",
      "3\n",
      "4\n",
      "5\n",
      "6\n",
      "7\n",
      "8\n",
      "9\n"
     ]
    }
   ],
   "source": [
    "for i in range(100) :\n",
    "    print(i)\n",
    "    if i == 9 :\n",
    "        break # for문 종료"
   ]
  },
  {
   "cell_type": "code",
   "execution_count": 15,
   "metadata": {},
   "outputs": [
    {
     "name": "stdout",
     "output_type": "stream",
     "text": [
      "1\n",
      "3\n",
      "5\n",
      "7\n",
      "9\n",
      "11\n",
      "13\n",
      "15\n",
      "17\n",
      "19\n",
      "21\n",
      "23\n",
      "25\n",
      "27\n",
      "29\n",
      "31\n",
      "33\n",
      "35\n",
      "37\n",
      "39\n",
      "41\n",
      "43\n",
      "45\n",
      "47\n",
      "49\n",
      "51\n",
      "53\n",
      "55\n",
      "57\n",
      "59\n",
      "61\n",
      "63\n",
      "65\n",
      "67\n",
      "69\n",
      "71\n",
      "73\n",
      "75\n",
      "77\n",
      "79\n",
      "81\n",
      "83\n",
      "85\n",
      "87\n",
      "89\n",
      "91\n",
      "93\n",
      "95\n",
      "97\n",
      "99\n"
     ]
    }
   ],
   "source": [
    "for i in range(100) :\n",
    "    if i % 2 == 0: # 짝수\n",
    "        continue # 반복문의 시작위치로 이동 (print문장 수행X)\n",
    "    print(i) # 홀수만 출력됨"
   ]
  },
  {
   "cell_type": "code",
   "execution_count": 18,
   "metadata": {},
   "outputs": [
    {
     "name": "stdout",
     "output_type": "stream",
     "text": [
      "2\n",
      "4\n",
      "6\n",
      "8\n",
      "10\n",
      "12\n",
      "14\n",
      "16\n",
      "18\n",
      "20\n",
      "22\n",
      "24\n",
      "26\n",
      "28\n",
      "30\n",
      "32\n",
      "34\n",
      "36\n",
      "38\n",
      "40\n",
      "42\n",
      "44\n",
      "46\n",
      "48\n",
      "50\n",
      "52\n",
      "54\n",
      "56\n",
      "58\n",
      "60\n",
      "62\n",
      "64\n",
      "66\n",
      "68\n",
      "70\n",
      "72\n",
      "74\n",
      "76\n",
      "78\n",
      "80\n",
      "82\n",
      "84\n",
      "86\n",
      "88\n",
      "90\n",
      "92\n",
      "94\n",
      "96\n",
      "98\n",
      "100\n"
     ]
    }
   ],
   "source": [
    "# 1~100사이의 수에 대해 짝수만 출력(while문, continue)\n",
    "\n",
    "i = 0\n",
    "while i <= 100:\n",
    "    i+= 1\n",
    "    if i % 2 != 0 :\n",
    "        continue\n",
    "    print(i)"
   ]
  },
  {
   "cell_type": "code",
   "execution_count": 25,
   "metadata": {},
   "outputs": [
    {
     "name": "stdout",
     "output_type": "stream",
     "text": [
      "커피가 나옵니다\n",
      "남은 커피는 9잔 입니다\n",
      "남은 잔액은 900원 입니다\n",
      "커피가 나옵니다\n",
      "남은 커피는 8잔 입니다\n",
      "남은 잔액은 700원 입니다\n",
      "커피가 나옵니다\n",
      "남은 커피는 7잔 입니다\n",
      "남은 잔액은 500원 입니다\n",
      "커피가 나옵니다\n",
      "남은 커피는 6잔 입니다\n",
      "남은 잔액은 300원 입니다\n",
      "커피가 나옵니다\n",
      "남은 커피는 5잔 입니다\n",
      "남은 잔액은 100원 입니다\n",
      "커피가 나옵니다\n",
      "남은 커피는 4잔 입니다\n",
      "남은 잔액은 -100원 입니다\n",
      "커피가 나옵니다\n",
      "남은 커피는 3잔 입니다\n",
      "남은 잔액은 -300원 입니다\n",
      "커피가 나옵니다\n",
      "남은 커피는 2잔 입니다\n",
      "남은 잔액은 -500원 입니다\n",
      "커피가 나옵니다\n",
      "남은 커피는 1잔 입니다\n",
      "남은 잔액은 -700원 입니다\n",
      "커피가 나옵니다\n",
      "남은 커피는 0잔 입니다\n",
      "남은 잔액은 -900원 입니다\n",
      "커피가 떨어졌습니다 [판매중지]\n"
     ]
    }
   ],
   "source": [
    "coffee = 10 # 10잔 커피, 1잔 200원\n",
    "money = 1100 # 1000원\n",
    "\n",
    "# 잔액이 200원 미만이면 판매가 안되도록...\n",
    "\n",
    "while money :\n",
    "    print(\"커피가 나옵니다\")\n",
    "    coffee = coffee - 1\n",
    "    money = money - 200\n",
    "    print(\"남은 커피는 %d잔 입니다\" % coffee)\n",
    "    print(\"남은 잔액은 %d원 입니다\" % money)\n",
    "    if coffee == 0:\n",
    "        print(\"커피가 떨어졌습니다 [판매중지]\")\n",
    "        break"
   ]
  },
  {
   "cell_type": "code",
   "execution_count": 3,
   "metadata": {},
   "outputs": [
    {
     "name": "stdout",
     "output_type": "stream",
     "text": [
      "1\n",
      "3\n"
     ]
    }
   ],
   "source": [
    "# 리스트 안의 튜플을 하나씩 뽑아 연산하고 싶을 때는 밑과 같은 표현을 사용할 수 있다.\n",
    "a = [(1,2), (3,4)]\n",
    "for (data1, data2) in a :\n",
    "    print(data1)"
   ]
  },
  {
   "cell_type": "code",
   "execution_count": null,
   "metadata": {},
   "outputs": [],
   "source": []
  },
  {
   "cell_type": "code",
   "execution_count": 7,
   "metadata": {},
   "outputs": [
    {
     "name": "stdout",
     "output_type": "stream",
     "text": [
      "2 4 6 8 10 12 14 16 18 2 4 6 8 10 12 14 16 18 "
     ]
    }
   ],
   "source": [
    "# 구구단 2단\n",
    "\n",
    "# while문사용\n",
    "i = 1\n",
    "while i < 10 :\n",
    "    result = 2*i\n",
    "    print(result, end = ' ')\n",
    "    i += 1\n",
    "    \n",
    "# for문 사용\n",
    "j = 2\n",
    "for i in range(1,10):\n",
    "    print(i*j, end = ' ')"
   ]
  },
  {
   "cell_type": "code",
   "execution_count": 9,
   "metadata": {},
   "outputs": [
    {
     "name": "stdout",
     "output_type": "stream",
     "text": [
      "2 4 6 8 10 12 14 16 18 \n",
      "3 6 9 12 15 18 21 24 27 \n",
      "4 8 12 16 20 24 28 32 36 \n",
      "5 10 15 20 25 30 35 40 45 \n",
      "6 12 18 24 30 36 42 48 54 \n",
      "7 14 21 28 35 42 49 56 63 \n",
      "8 16 24 32 40 48 56 64 72 \n",
      "9 18 27 36 45 54 63 72 81 \n"
     ]
    }
   ],
   "source": [
    "# 9단까지 모두 출력\n",
    "j = 2\n",
    "while j < 10 :\n",
    "    for i in range(1,10):\n",
    "        print(i*j, end = ' ')\n",
    "    print()\n",
    "    j += 1\n",
    "    \n",
    "for i in range(2,10):\n",
    "    for j in range(1,10):\n",
    "        print(i*j, end = \" \")\n",
    "    print() # 자동으로 줄 변경"
   ]
  },
  {
   "cell_type": "code",
   "execution_count": 26,
   "metadata": {},
   "outputs": [
    {
     "name": "stdout",
     "output_type": "stream",
     "text": [
      "*\n",
      "**\n",
      "***\n",
      "****\n",
      "* \n",
      "* * \n",
      "* * * \n",
      "* * * * \n",
      "* \n",
      "* \n",
      "* \n",
      "* \n"
     ]
    }
   ],
   "source": [
    "\"\"\"\n",
    "*\n",
    "**\n",
    "***\n",
    "****\n",
    "\"\"\"\n",
    "for i in range(1,5) :\n",
    "    print('*'*i)\n",
    "\n",
    "for i in range(4): # 줄\n",
    "    for j in range(i+1) : # 별의 개수\n",
    "        print('*', end = \" \")\n",
    "    print()\n",
    "    \n",
    "# 강사님\n",
    "for i in range(4): # 줄\n",
    "    for j in range(4) : # 별의 개수\n",
    "        if j <= i :\n",
    "            print('*', end = \" \")\n",
    "            break\n",
    "    print()"
   ]
  },
  {
   "cell_type": "code",
   "execution_count": 35,
   "metadata": {},
   "outputs": [
    {
     "name": "stdout",
     "output_type": "stream",
     "text": [
      "*   \n",
      " *  \n",
      "  * \n",
      "   *\n"
     ]
    }
   ],
   "source": [
    "\"\"\"\n",
    "*\n",
    " *\n",
    "  *\n",
    "   *\n",
    "\"\"\"\n",
    "for i in range(4):\n",
    "    for j in range(4):\n",
    "        if i == j :\n",
    "            print('*', end = '')\n",
    "        else :\n",
    "            print(' ', end = '')\n",
    "    print()"
   ]
  },
  {
   "cell_type": "code",
   "execution_count": 42,
   "metadata": {},
   "outputs": [
    {
     "name": "stdout",
     "output_type": "stream",
     "text": [
      "[4]\n"
     ]
    }
   ],
   "source": [
    "# 리스트 내포\n",
    "# 리스트 내부에 for 문을 포함\n",
    "\n",
    "x = [1,2,3]\n",
    "res = []\n",
    "\n",
    "# 일반적인 for문\n",
    "# for n in x:\n",
    "#     res.append(2*n)\n",
    "# print(res)\n",
    "\n",
    "# list내포\n",
    "# res = [n for n in x]\n",
    "# [표현식 for 변수 in 반복가능형 if 조건문]\n",
    "res = [n*2 for n in x]\n",
    "# x에서 데이터를 n으로 읽어들인 후\n",
    "# n에 2를 곱한 값으로 리스트에 저장\n",
    "\n",
    "# 조건문 추가\n",
    "res = [n*2 for n in x if n%2 == 0]\n",
    "# x에서 데이터를 n으로 읽어들인 후, 만약에 n이 짝수이면\n",
    "# n에 2를 곱한 값으로 리스트에 저장\n",
    "print(res)"
   ]
  },
  {
   "cell_type": "code",
   "execution_count": 48,
   "metadata": {},
   "outputs": [
    {
     "name": "stdout",
     "output_type": "stream",
     "text": [
      "[2, 4, 6, 8, 10, 12, 14, 16, 18, 3, 6, 9, 12, 15, 18, 21, 24, 27, 4, 8, 12, 16, 20, 24, 28, 32, 36, 5, 10, 15, 20, 25, 30, 35, 40, 45, 6, 12, 18, 24, 30, 36, 42, 48, 54, 7, 14, 21, 28, 35, 42, 49, 56, 63, 8, 16, 24, 32, 40, 48, 56, 64, 72, 9, 18, 27, 36, 45, 54, 63, 72, 81]\n"
     ]
    }
   ],
   "source": [
    "res = [ x*y for y in range(2,10) for x in range(1,10) ]\n",
    "print(res)\n",
    "# list comprehension\n",
    "# 출력 = [2,4,6,8,....,81]"
   ]
  },
  {
   "cell_type": "markdown",
   "metadata": {},
   "source": [
    "#### sub Q1.\n",
    "오후 동일한 수가 발생하지 않도록 로또생성기 만들기"
   ]
  },
  {
   "cell_type": "code",
   "execution_count": 30,
   "metadata": {},
   "outputs": [
    {
     "name": "stdout",
     "output_type": "stream",
     "text": [
      "{32, 35, 8, 41, 18, 22, 25}\n"
     ]
    }
   ],
   "source": [
    "i = set() # 중복을 방지 위해서 빈 set 생성\n",
    "while len(i) <= 6 : # i 요소 개수가 6개가 될 때까지 실행\n",
    "    r_int = random.randint(1,45)\n",
    "    i.add(r_int) # 1~45 에서 생성된 난수를 set에 add\n",
    "print(i)"
   ]
  },
  {
   "cell_type": "markdown",
   "metadata": {},
   "source": [
    "#### sub Q2.\n",
    "잔액이 200원 미만이면 판매가 안되도록..."
   ]
  },
  {
   "cell_type": "code",
   "execution_count": 33,
   "metadata": {},
   "outputs": [
    {
     "name": "stdout",
     "output_type": "stream",
     "text": [
      "커피가 나옵니다\n",
      "남은 커피는 9잔 입니다\n",
      "남은 잔액은 900원 입니다\n",
      "커피가 나옵니다\n",
      "남은 커피는 8잔 입니다\n",
      "남은 잔액은 700원 입니다\n",
      "커피가 나옵니다\n",
      "남은 커피는 7잔 입니다\n",
      "남은 잔액은 500원 입니다\n",
      "커피가 나옵니다\n",
      "남은 커피는 6잔 입니다\n",
      "남은 잔액은 300원 입니다\n",
      "커피가 나옵니다\n",
      "남은 커피는 5잔 입니다\n",
      "남은 잔액은 100원 입니다\n",
      "돈이 부족합니다 [구매불가]\n"
     ]
    }
   ],
   "source": [
    "coffee = 10 # 10잔 커피, 1잔 200원\n",
    "money = 1100 # 1000원\n",
    "\n",
    "while money :\n",
    "    print(\"커피가 나옵니다\")\n",
    "    coffee = coffee - 1\n",
    "    money = money - 200\n",
    "    print(\"남은 커피는 %d잔 입니다\" % coffee)\n",
    "    print(\"남은 잔액은 %d원 입니다\" % money)\n",
    "    if coffee == 0:\n",
    "        print(\"커피가 떨어졌습니다 [판매중지]\")\n",
    "        break\n",
    "    if money < 200: # money가 200 미만으로 떨어지면 break걸기\n",
    "        print(\"돈이 부족합니다 [구매불가]\")\n",
    "        break"
   ]
  },
  {
   "cell_type": "markdown",
   "metadata": {},
   "source": [
    "#### sub Q3. \n",
    "밑의 모양 출력"
   ]
  },
  {
   "cell_type": "code",
   "execution_count": null,
   "metadata": {},
   "outputs": [],
   "source": [
    "\"\"\"\n",
    "  *\n",
    " ***\n",
    "*****\n",
    "\"\"\""
   ]
  },
  {
   "cell_type": "code",
   "execution_count": 2,
   "metadata": {},
   "outputs": [
    {
     "name": "stdout",
     "output_type": "stream",
     "text": [
      "층 수 : 3\n",
      "  *\n",
      " ***\n",
      "*****\n"
     ]
    }
   ],
   "source": [
    "k = int(input('층 수 : '))\n",
    "\n",
    "for i in range(1,k+1):\n",
    "    print(' '*(k-i) + '*'*(2*i-1))\n",
    "    \n",
    "# 각각의 층은 전체 층 수에서 별 갯수를 제외한 만큼 공백이 필요 = ' '* (k-i)\n",
    "# for 문의 i는 각각의 층 수를 의미 k는 전체 층 수 의미\n",
    "# *은 각각의 층에서 2n-1 일반식 계산을 한 것 만큼 출력"
   ]
  },
  {
   "cell_type": "markdown",
   "metadata": {},
   "source": [
    "#### Q1.\n",
    "밑의 모양 출력 1차원의 점들이 주어졌을 때, 그 중 가장 거리가 짧은 것의 쌍을 출력하는 함수를 작성하시오. (단 점들의 배열은 모두 정렬되어있다고 가정한다.)\n",
    "예를들어 S={1, 3, 4, 8, 13, 17, 20} 이 주어졌다면, 결과값은 (3, 4)가 될 것이다."
   ]
  },
  {
   "cell_type": "code",
   "execution_count": 7,
   "metadata": {},
   "outputs": [
    {
     "name": "stdout",
     "output_type": "stream",
     "text": [
      "(3, 4)\n"
     ]
    }
   ],
   "source": [
    "# lambda 쓰는 방식\n",
    "\n",
    "# 기초 작업 (빈 리스트 생성, 주어진 점 배열 list로 변경)\n",
    "S={1, 3, 4, 8, 13, 17, 20}\n",
    "dis_l = []\n",
    "S_list = list(S)\n",
    "\n",
    "# 점 배열 list에서 거리(dis) 계산하여 tuple형태로 dis_l 리스트에 추가\n",
    "for i in range(len(S_list)):\n",
    "    for j in range(len(S_list)):\n",
    "        if i == j : pass\n",
    "        else : \n",
    "            dis = abs(S_list[i] - S_list[j])\n",
    "            dis_l.append((S_list[i], S_list[j], dis))\n",
    "\n",
    "# dis_l 리스트에서 index 2에 있는 거리 값으로 오름차순 정렬\n",
    "dis_l.sort(key = lambda element:element[2])\n",
    "\n",
    "# 정렬된 리스트의 맨 앞 index 0 번째가 가장 거리가 짧은 쌍이므로 점 배열을 (3,4)형태로 출력\n",
    "dis_l[0]\n",
    "print((dis_l[0][0],dis_l[0][1]))"
   ]
  },
  {
   "cell_type": "code",
   "execution_count": 4,
   "metadata": {},
   "outputs": [
    {
     "name": "stdout",
     "output_type": "stream",
     "text": [
      "(3, 4)\n"
     ]
    }
   ],
   "source": [
    "# lambda 안 쓰는 방식\n",
    "\n",
    "# 기초 작업 (빈 리스트생성, 주어진 점 배열 list 로 변경)\n",
    "S={1, 3, 4, 8, 13, 17, 20}\n",
    "dis_l = [] # 점 사이의 거리 리스트\n",
    "point = [] # 두 점\n",
    "S_list = list(S)\n",
    "\n",
    "for i in range(len(S_list)):\n",
    "    for j in range(len(S_list)):\n",
    "        if i == j : # 자기자신끼리 계산은 pass\n",
    "            pass\n",
    "        elif (i == 0) and (j == 1): # 맨 첫번째 계산은 비교하지 않고 점 사이의 거리, 두 점 리스트에 append\n",
    "            dis = abs(S_list[i] - S_list[j])\n",
    "            dis_l.append(dis)\n",
    "            point.append((S_list[i],S_list[j]))\n",
    "        else :\n",
    "            vs_dis = abs(S_list[i] - S_list[j]) # dis_l[0]에 있는 거리와 비교하여 더 작으면 dis_l[0] 자리에 대신 들어감 / 점 쌍은 point[0]에 대신 들어감\n",
    "            if vs_dis < dis_l[0]:\n",
    "                dis_l[0] = vs_dis\n",
    "                point[0] = ((S_list[i],S_list[j]))\n",
    "\n",
    "# 즉, dis_l[0], point[0]에는 점 사이의 거리를 비교해서 작으면 넣고 아니면 넣지 않았기 때문에 항상 가장 작은거리와 그에 해당하는 점이 남아있게 됨\n",
    "print(point[0])"
   ]
  },
  {
   "cell_type": "markdown",
   "metadata": {},
   "source": [
    "#### Q2.\n",
    "주어진 문자열(공백 없이 쉼표로 구분되어 있음)을 가지고 아래 문제에 대한 프로그램을 작성하세요.\n",
    "data=\"이유덕,이재영,권종표,이재영,박민호,강상희,이재영,김지완,최승혁,이성연,박영서,박민호,전경헌,송정환,김재성,이유덕,전경헌\"\n",
    "\n",
    "김씨와 이씨는 각각 몇 명 인가요?\n",
    "\"이재영\"이란 이름이 몇 번 반복되나요?\n",
    "중복을 제거한 이름을 출력하세요.\n",
    "중복을 제거한 이름을 오름차순으로 정렬하여 출력하세요."
   ]
  },
  {
   "cell_type": "code",
   "execution_count": 75,
   "metadata": {},
   "outputs": [
    {
     "name": "stdout",
     "output_type": "stream",
     "text": [
      "A1. 김씨는 2명, 이씨는 6명 입니다.\n"
     ]
    }
   ],
   "source": [
    "data=\"이유덕,이재영,권종표,이재영,박민호,강상희,이재영,김지완,최승혁,이성연,박영서,박민호,전경헌,송정환,김재성,이유덕,전경헌\"\n",
    "\n",
    "# 김씨와 이씨 list 생성, str형태의 data를 컴마 기준으로 split하여 list로 변경\n",
    "kim = []\n",
    "lee = []\n",
    "data_list = data.split(',')\n",
    "\n",
    "# for 문 이용하여 이름을 하나하나 뽑은 후 그 이름을 list로 만들어 j[0]으로 '성'추출\n",
    "# 성이 '김', '이'냐에 따라 각각의 리스트에 append 되도록 함\n",
    "for i in data_list:\n",
    "    j = list(i)\n",
    "    if j[0] == '김':\n",
    "        kim.append(i)\n",
    "    elif j[0] == '이' :\n",
    "        lee.append(i)\n",
    "        \n",
    "# 답변 출력\n",
    "print('A1. 김씨는 {0}명, 이씨는 {1}명 입니다.'. format(len(kim), len(lee))"
   ]
  },
  {
   "cell_type": "code",
   "execution_count": 78,
   "metadata": {},
   "outputs": [
    {
     "name": "stdout",
     "output_type": "stream",
     "text": [
      "A2. \"이재영\"이라는 이름은 3번 반복됩니다.\n"
     ]
    }
   ],
   "source": [
    "# 이재영이라는 이름이 몇번 반복되나요?\n",
    "\n",
    "# str형태의 data를 컴마 기준으로 split하여 list로 변경\n",
    "# 리스트에 이재영 이름을 기준으로 count하여 그 결과를 출력\n",
    "data_list = data.split(',')\n",
    "lee_c = data_list.count('이재영')\n",
    "print('A2. \"이재영\"이라는 이름은 {}번 반복됩니다.'.format(lee_c))"
   ]
  },
  {
   "cell_type": "code",
   "execution_count": 79,
   "metadata": {},
   "outputs": [
    {
     "name": "stdout",
     "output_type": "stream",
     "text": [
      "{'박영서', '최승혁', '송정환', '강상희', '전경헌', '김재성', '박민호', '이재영', '권종표', '이유덕', '이성연', '김지완'}\n"
     ]
    }
   ],
   "source": [
    "# 중복을 제거한 이름을 출력하세요.\n",
    "# set() 자료형을 이용하여 중복 제거\n",
    "data_s = set(data_list)\n",
    "print(data_s)"
   ]
  },
  {
   "cell_type": "code",
   "execution_count": 125,
   "metadata": {},
   "outputs": [
    {
     "name": "stdout",
     "output_type": "stream",
     "text": [
      "['강상희', '권종표', '김재성', '김지완', '박민호', '박영서', '송정환', '이성연', '이유덕', '이재영', '전경헌', '최승혁']\n"
     ]
    }
   ],
   "source": [
    "# 중복을 제거한 이름을 오름차순으로 정렬하여 출력하세요.\n",
    "\n",
    "# sorted 함수를 이용하여 오름차순으로 정렬하여 출력\n",
    "data_sort = sorted(data_s)\n",
    "print(data_sort)"
   ]
  },
  {
   "cell_type": "markdown",
   "metadata": {},
   "source": [
    "#### Q3.\n",
    "10미만의 자연수에서 3과 5의 배수를 구하면 3,5,6,9이다. 이들의 총합은 23이다.\n",
    "1000미만의 자연수에서 3,5의 배수의 총합을 구하라."
   ]
  },
  {
   "cell_type": "code",
   "execution_count": 87,
   "metadata": {},
   "outputs": [
    {
     "name": "stdout",
     "output_type": "stream",
     "text": [
      "233168\n"
     ]
    }
   ],
   "source": [
    "total = 0\n",
    "\n",
    "# 3,5의 배수를 구하여 total 변수에 더해주는 과정\n",
    "for i in range(1,1000) :\n",
    "    if i % 3 == 0 : # 3의 배수를 구하는 과정\n",
    "        total += i\n",
    "    elif i % 5 == 0 : # 5의 배수를 구하는 과정\n",
    "        total += i\n",
    "    else:\n",
    "        pass\n",
    "    \n",
    "print(total)"
   ]
  },
  {
   "cell_type": "markdown",
   "metadata": {},
   "source": [
    "#### Q4.\n",
    "자기 자신을 제외한 모든 양의 약수들의 합이 자기 자신이 되는 자연수를 완전수라고 한다. 예를 들면, 6과 28은 완전수이다. 6=1+2+3 // 1,2,3은 각각 6의 약수 28=1+2+4+7+14 // 1,2,4,7,14는 각각 28의 약수\n",
    "입력으로 자연수 N을 받고, 출력으로 N 이하의 모든 완전수를 출력하는 코드를 작성하라."
   ]
  },
  {
   "cell_type": "code",
   "execution_count": 107,
   "metadata": {},
   "outputs": [
    {
     "name": "stdout",
     "output_type": "stream",
     "text": [
      "자연수를 입력하세요 : 1000\n",
      "[6, 28, 496]\n"
     ]
    }
   ],
   "source": [
    "# 기초 작업 (input, 빈 리스트 생성)\n",
    "N = int(input('자연수를 입력하세요 : ' ))\n",
    "div = []\n",
    "num = []\n",
    "\n",
    "# 약수들의 리스트 div를 만들고 그것을 모두 더한 값(total)을 자기 자신과 비교하여 같으면 완전수 리스트(num)에 추가\n",
    "for j in range(1,N+1):\n",
    "    total = 0\n",
    "    div = []\n",
    "    for i in range(1,j):\n",
    "        if j%i == 0 :\n",
    "            div.append(i) # j 의 약수 리스트\n",
    "    for a in div: # 약수 리스트의 수 모두 더함 = total\n",
    "        total+=a\n",
    "    if total == j : # 약수의 합과 자기자신(j)가 같은지 확인 후 완전수 리스트에 추가\n",
    "        num.append(j)\n",
    "    \n",
    "\n",
    "print(num)"
   ]
  },
  {
   "cell_type": "markdown",
   "metadata": {},
   "source": [
    "#### Q5.\n",
    "'0-9'까지의 문자로 된 숫자를 입력 받았을 때,\n",
    "이 입력 값이 '0-9'까지의 숫자가 각각 한번 씩만 사용된 것인지 확인하는 함수를 구하시오.\n",
    "\n",
    "sample inputs: 0123456789 01234 01234567890 6789012345 012322456789\n",
    "sample outputs: true false false true false"
   ]
  },
  {
   "cell_type": "code",
   "execution_count": 183,
   "metadata": {},
   "outputs": [
    {
     "name": "stdout",
     "output_type": "stream",
     "text": [
      "0-9 숫자입력 ; 012322456789\n",
      "False\n"
     ]
    }
   ],
   "source": [
    "num = input('0-9 숫자입력 ; ')\n",
    "\n",
    "# 0~9까지의 수 중 입력 받은 수 num에서 count 했을 때, 없거나 중복이 생기면 False출력하고 break 이외의 경우 True출력\n",
    "for i in range(0,10) :\n",
    "    if num.count(str(i)) > 1 or num.count(str(i)) == 0:\n",
    "        print('False')\n",
    "        break\n",
    "    elif i == 9:\n",
    "        print('True')"
   ]
  },
  {
   "cell_type": "markdown",
   "metadata": {},
   "source": [
    "6번 문제 =>  run length\n",
    "문자열을 입력받아서, 같은 문자가 연속적으로 반복되는 경우에 그 반복 횟수를 표시하여 문자열을 압축하기."
   ]
  },
  {
   "cell_type": "code",
   "execution_count": 12,
   "metadata": {},
   "outputs": [
    {
     "name": "stdout",
     "output_type": "stream",
     "text": [
      "문자열 입력 : dkdfiiwkdaaa\n",
      "a3d3f1i2k2w1"
     ]
    }
   ],
   "source": [
    "# 문자열 입력 받은 후 중복이 없는 리스트와 중복이 있는 원본 리스트 생성\n",
    "text = input('문자열 입력 : ')\n",
    "text_l = list(text)\n",
    "text_s = sorted(list(set(text_l))) # 오름차순으로 리스트를 정리하여 출력 시 깔끔해보이게..\n",
    "\n",
    "\n",
    "# 중복이 없는 리스트가 기준이 되어 원본 리스트에 count해보고 결과를 해당 문자와 합쳐 출력\n",
    "for i in text_s :\n",
    "    ct = text_l.count(i)\n",
    "    ct_n = i + str(ct)\n",
    "    print(ct_n, end = '')\n"
   ]
  },
  {
   "cell_type": "code",
   "execution_count": null,
   "metadata": {},
   "outputs": [],
   "source": []
  }
 ],
 "metadata": {
  "kernelspec": {
   "display_name": "Python 3",
   "language": "python",
   "name": "python3"
  },
  "language_info": {
   "codemirror_mode": {
    "name": "ipython",
    "version": 3
   },
   "file_extension": ".py",
   "mimetype": "text/x-python",
   "name": "python",
   "nbconvert_exporter": "python",
   "pygments_lexer": "ipython3",
   "version": "3.7.3"
  }
 },
 "nbformat": 4,
 "nbformat_minor": 2
}
