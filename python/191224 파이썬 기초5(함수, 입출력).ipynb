{
 "cells": [
  {
   "cell_type": "markdown",
   "metadata": {},
   "source": [
    "# 191224 파이썬 기초"
   ]
  },
  {
   "cell_type": "code",
   "execution_count": 6,
   "metadata": {},
   "outputs": [
    {
     "name": "stdout",
     "output_type": "stream",
     "text": [
      "7\n"
     ]
    }
   ],
   "source": [
    "# 함수\n",
    "# def 함수명(매개변수):\n",
    "#     수행문장\n",
    "#     수행문장\n",
    "#     ...\n",
    "#     return\n",
    "\n",
    "# 함수명(10)\n",
    "\n",
    "def add(a,b):\n",
    "    return a+b\n",
    "a = 3\n",
    "b = 4\n",
    "sum = add(a,b)\n",
    "print(sum)"
   ]
  },
  {
   "cell_type": "code",
   "execution_count": 7,
   "metadata": {},
   "outputs": [],
   "source": [
    "def say():\n",
    "    return 'bye'"
   ]
  },
  {
   "cell_type": "code",
   "execution_count": 9,
   "metadata": {},
   "outputs": [
    {
     "name": "stdout",
     "output_type": "stream",
     "text": [
      "bye\n"
     ]
    }
   ],
   "source": [
    "print(say())"
   ]
  },
  {
   "cell_type": "code",
   "execution_count": 10,
   "metadata": {},
   "outputs": [],
   "source": [
    "# return문이 없어도 가능\n",
    "def add(a,b):\n",
    "    print('%d %d 합은 %d입니다' % (a,b,a+b))"
   ]
  },
  {
   "cell_type": "code",
   "execution_count": 13,
   "metadata": {},
   "outputs": [
    {
     "name": "stdout",
     "output_type": "stream",
     "text": [
      "3 4 합은 7입니다\n"
     ]
    }
   ],
   "source": [
    "add(3,4)"
   ]
  },
  {
   "cell_type": "code",
   "execution_count": 14,
   "metadata": {},
   "outputs": [],
   "source": [
    "def add(a,b):\n",
    "    return a+b"
   ]
  },
  {
   "cell_type": "code",
   "execution_count": 17,
   "metadata": {},
   "outputs": [
    {
     "name": "stdout",
     "output_type": "stream",
     "text": [
      "10\n"
     ]
    }
   ],
   "source": [
    "res = add(b=3, a=7)\n",
    "print(res)"
   ]
  },
  {
   "cell_type": "code",
   "execution_count": 18,
   "metadata": {},
   "outputs": [],
   "source": [
    "# 전달해줘야 하는 입력값 수를 정확히 모를 경우\n",
    "# 여러 개의 입력값을 전달 받는 함수 사용\n",
    "def 함수명(*매개변수):\n",
    "    수행문장\n",
    "    ...\n",
    "    return "
   ]
  },
  {
   "cell_type": "code",
   "execution_count": 24,
   "metadata": {},
   "outputs": [
    {
     "name": "stdout",
     "output_type": "stream",
     "text": [
      "6\n",
      "21\n"
     ]
    }
   ],
   "source": [
    "# args = arguments 의 약자로 관례적으로 많이 사용\n",
    "def add_many(*args):\n",
    "    res = 0\n",
    "    for i in args :\n",
    "        res += i\n",
    "    return res\n",
    "    \n",
    "print(add_many(1,2,3))\n",
    "\n",
    "res = add_many(1,2,3,4,5,6)\n",
    "print(res)"
   ]
  },
  {
   "cell_type": "code",
   "execution_count": 27,
   "metadata": {},
   "outputs": [
    {
     "name": "stdout",
     "output_type": "stream",
     "text": [
      "6\n",
      "6\n"
     ]
    }
   ],
   "source": [
    "def add_mul(ch, *args): # ch : 어떤 연산을 할 것인지 지정 / args : 피연산자\n",
    "    if ch == 'add' :\n",
    "        res = 0\n",
    "        for i in args :\n",
    "            res += i\n",
    "    elif ch == 'mul':\n",
    "        res = 1\n",
    "        for i in args :\n",
    "            res *= i\n",
    "    return res\n",
    "\n",
    "print(add_mul('add', 1,2,3))\n",
    "\n",
    "print(add_mul('mul', 1,2,3))"
   ]
  },
  {
   "cell_type": "code",
   "execution_count": 29,
   "metadata": {},
   "outputs": [],
   "source": [
    "# ** 편하게 딕트 타입을 만들 수 있음 -> keyword 파라미터를 사용할 때는 ** 사용\n",
    "def dict_args(**args):\n",
    "    print(args)"
   ]
  },
  {
   "cell_type": "code",
   "execution_count": 31,
   "metadata": {},
   "outputs": [
    {
     "name": "stdout",
     "output_type": "stream",
     "text": [
      "{'height': 180, 'weight': 70}\n"
     ]
    }
   ],
   "source": [
    "dict_args(height = 180, weight = 70)"
   ]
  },
  {
   "cell_type": "code",
   "execution_count": 36,
   "metadata": {},
   "outputs": [
    {
     "name": "stdout",
     "output_type": "stream",
     "text": [
      "7\n",
      "12\n"
     ]
    }
   ],
   "source": [
    "def a_and_m(a,b):\n",
    "    return a+b, a*b\n",
    "\n",
    "res = a_and_m(3,4) # tuple로 출력\n",
    "\n",
    "res, res1 = a_and_m(3,4)\n",
    "print(res)\n",
    "print(res1)"
   ]
  },
  {
   "cell_type": "code",
   "execution_count": 33,
   "metadata": {},
   "outputs": [
    {
     "data": {
      "text/plain": [
       "7"
      ]
     },
     "execution_count": 33,
     "metadata": {},
     "output_type": "execute_result"
    }
   ],
   "source": [
    "res"
   ]
  },
  {
   "cell_type": "code",
   "execution_count": 37,
   "metadata": {},
   "outputs": [],
   "source": [
    "def a_and_m(a,b):\n",
    "    return a+b\n",
    "    return a*b"
   ]
  },
  {
   "cell_type": "code",
   "execution_count": 39,
   "metadata": {},
   "outputs": [],
   "source": [
    "res = a_and_m(2,3)"
   ]
  },
  {
   "cell_type": "code",
   "execution_count": 40,
   "metadata": {},
   "outputs": [
    {
     "name": "stdout",
     "output_type": "stream",
     "text": [
      "5\n"
     ]
    }
   ],
   "source": [
    "print(res)"
   ]
  },
  {
   "cell_type": "code",
   "execution_count": 45,
   "metadata": {},
   "outputs": [],
   "source": [
    "def sn(nick):\n",
    "    if nick == '바보':\n",
    "        return # 함수를 호출한 위치로 되돌아 가라\n",
    "    print(\"별명은 %s 입니다\" % nick)\n"
   ]
  },
  {
   "cell_type": "code",
   "execution_count": 48,
   "metadata": {},
   "outputs": [
    {
     "name": "stdout",
     "output_type": "stream",
     "text": [
      "별명은 천재 입니다\n"
     ]
    }
   ],
   "source": [
    "sn('천재')\n",
    "sn('바보')"
   ]
  },
  {
   "cell_type": "code",
   "execution_count": 50,
   "metadata": {},
   "outputs": [
    {
     "name": "stdout",
     "output_type": "stream",
     "text": [
      "홍길동 20 True\n",
      "홍갑순 20 False\n"
     ]
    }
   ],
   "source": [
    "# 초기값을 가져야 하는 변수가 있으면 그 변수는 가장 끝에 기재\n",
    "def test(name, old, man = True): # man자리는 default로 true\n",
    "    print(name, old, man)\n",
    "\n",
    "test(\"홍길동\", 20)\n",
    "test(\"홍갑순\", 20, False)"
   ]
  },
  {
   "cell_type": "code",
   "execution_count": 2,
   "metadata": {},
   "outputs": [],
   "source": [
    "import turtle as t\n",
    "t.shape('turtle')\n",
    "\n",
    "# forward\n",
    "# backward\n",
    "# right\n",
    "# left"
   ]
  },
  {
   "cell_type": "code",
   "execution_count": 69,
   "metadata": {},
   "outputs": [],
   "source": [
    "t.forward(100) # 앞으로 100픽셀만큼 이동"
   ]
  },
  {
   "cell_type": "code",
   "execution_count": 54,
   "metadata": {},
   "outputs": [],
   "source": [
    "t.backward(100) # 뒤으로 100픽셀만큼 이동"
   ]
  },
  {
   "cell_type": "code",
   "execution_count": 68,
   "metadata": {},
   "outputs": [],
   "source": [
    "t.right(90) # 오른쪽으로 90도"
   ]
  },
  {
   "cell_type": "code",
   "execution_count": 59,
   "metadata": {},
   "outputs": [],
   "source": [
    "t.left(90) # 왼쪽으로 90도"
   ]
  },
  {
   "cell_type": "code",
   "execution_count": 70,
   "metadata": {},
   "outputs": [],
   "source": [
    "t.shape('turtle')\n",
    "for i in range(4):\n",
    "    t.forward(100)\n",
    "    t.right(90)"
   ]
  },
  {
   "cell_type": "code",
   "execution_count": 18,
   "metadata": {},
   "outputs": [
    {
     "name": "stdout",
     "output_type": "stream",
     "text": [
      "n = : 7\n"
     ]
    }
   ],
   "source": [
    "t.shape('turtle')\n",
    "n = int(input('n = : '))\n",
    "for i in range(n):\n",
    "    t.right(360/n)\n",
    "    t.forward(100)"
   ]
  },
  {
   "cell_type": "code",
   "execution_count": 17,
   "metadata": {},
   "outputs": [],
   "source": [
    "t.clear()"
   ]
  },
  {
   "cell_type": "code",
   "execution_count": 19,
   "metadata": {},
   "outputs": [
    {
     "name": "stdout",
     "output_type": "stream",
     "text": [
      "15\n"
     ]
    }
   ],
   "source": [
    "# lambda 익명 함수 / def는 함수 이름 필요\n",
    "# lambda 함수 형식 => lambda 매개변수들 : 식\n",
    "def p_ten(x):\n",
    "    return x + 10\n",
    "\n",
    "print(p_ten(5))"
   ]
  },
  {
   "cell_type": "code",
   "execution_count": 29,
   "metadata": {},
   "outputs": [
    {
     "name": "stdout",
     "output_type": "stream",
     "text": [
      "15\n",
      "7\n"
     ]
    }
   ],
   "source": [
    "p_ten2 = lambda x : x+10\n",
    "print(p_ten2(5))\n",
    "\n",
    "(lambda x:x+10)(5)\n",
    "#(lambda 매개변수들:식) => 식 자체를 사용해서 호출 가능\n",
    "\n",
    "# 람다표현식 내부에는 변수를 선언할 수 없음\n",
    "# print((lambda x: y=2: x+y)(5))\n",
    "\n",
    "y =2\n",
    "print((lambda x: x+y)(5))"
   ]
  },
  {
   "cell_type": "code",
   "execution_count": 42,
   "metadata": {},
   "outputs": [
    {
     "name": "stdout",
     "output_type": "stream",
     "text": [
      "[3]\n",
      "[11, 12, 13]\n",
      "[11, 12, 13]\n"
     ]
    }
   ],
   "source": [
    "# map(함수, 자료) # 자료에 대해서 함수를 수행된 결과가 나오게 됨\n",
    "# 이 함수 자리에 lambda사용하는 경우 많음\n",
    "# list로 변환해야 출력 가능\n",
    "print(list(map(int, [3.14])))\n",
    "\n",
    "def pten(x):\n",
    "    return x+10\n",
    "\n",
    "data = [1,2,3] # 다음 데이터에 대해서 모두 10을 더해서 출력하기\n",
    "\n",
    "# pten(data) # 는 할 수 없음, for문없이 표현 불가\n",
    "res = list(map(pten,[1,2,3]))\n",
    "print(res)\n",
    "\n",
    "res2 = list(map(lambda x: x+10, data))\n",
    "print(res2)"
   ]
  },
  {
   "cell_type": "code",
   "execution_count": 46,
   "metadata": {},
   "outputs": [
    {
     "name": "stdout",
     "output_type": "stream",
     "text": [
      "1\n",
      "5\n"
     ]
    }
   ],
   "source": [
    "# print((lambda x:x+1)(5))\n",
    "# 인수 없이 lambda 함수 호출\n",
    "print((lambda : 1)())\n",
    "\n",
    "x = 5\n",
    "print((lambda : x)())"
   ]
  },
  {
   "cell_type": "code",
   "execution_count": 49,
   "metadata": {},
   "outputs": [
    {
     "name": "stdout",
     "output_type": "stream",
     "text": [
      "5\n",
      "5\n"
     ]
    }
   ],
   "source": [
    "def add(x,y):\n",
    "    return x+y\n",
    "res = add(2,3)\n",
    "print(res)\n",
    "\n",
    "# 람다 표현식으로 변경\n",
    "\n",
    "# 람다 표현식으로 정의한 add 함수\n",
    "add2 = lambda x, y : x+y\n",
    "res_l = add2(2,3)\n",
    "print(res_l)"
   ]
  },
  {
   "cell_type": "code",
   "execution_count": 64,
   "metadata": {},
   "outputs": [
    {
     "name": "stdout",
     "output_type": "stream",
     "text": [
      "[1, 2, 103, 4, 5, 106, 7, 8, 109, 10]\n"
     ]
    }
   ],
   "source": [
    "# 람다 표현식에 조건부 표현식 적용\n",
    "a = list(range(1,11))\n",
    "\n",
    "# a에 저장된 요소값들 중에서 3의 배수는 100을 더해서 출력\n",
    "# [1, 2, 103, 4, 5, 106, 7, 8, 1099, 10]\n",
    "\n",
    "# for i in range(len(a)):\n",
    "#     if a[i] % 3 == 0 :\n",
    "#         a[i] += 100\n",
    "# print(a)\n",
    "\n",
    "# map(람다표현식, a)\n",
    "print(list(map(lambda x : x+100 if x%3 == 0 else x , a)))\n",
    "# lambda 매개변수:식1 if 조건식 else 식2\n",
    "# 식1 : 조건식이 참일때\n",
    "# 식2 : 조건식이 거짓일때\n",
    "# if문 사용 후 반드시 else 사용!"
   ]
  },
  {
   "cell_type": "code",
   "execution_count": 65,
   "metadata": {},
   "outputs": [
    {
     "ename": "SyntaxError",
     "evalue": "invalid syntax (<ipython-input-65-de88dd5d32e5>, line 1)",
     "output_type": "error",
     "traceback": [
      "\u001b[1;36m  File \u001b[1;32m\"<ipython-input-65-de88dd5d32e5>\"\u001b[1;36m, line \u001b[1;32m1\u001b[0m\n\u001b[1;33m    print(list(map(lambda x : x+100 if x%3 == 0 , a)))\u001b[0m\n\u001b[1;37m                                                ^\u001b[0m\n\u001b[1;31mSyntaxError\u001b[0m\u001b[1;31m:\u001b[0m invalid syntax\n"
     ]
    }
   ],
   "source": [
    "# else가 없으므로 에러발생\n",
    "# print(list(map(lambda x : x+100 if x%3 == 0 , a)))"
   ]
  },
  {
   "cell_type": "code",
   "execution_count": 73,
   "metadata": {},
   "outputs": [
    {
     "name": "stdout",
     "output_type": "stream",
     "text": [
      "['1', 2.0, 13, 14, 15, 16, 17, 18, 19, 20]\n",
      "['1', 2.0, 13, 14, 15, 16, 17, 18, 19, 20]\n"
     ]
    }
   ],
   "source": [
    "# 람다식에는 elif가 없음\n",
    "# 조건이 여러개 있을 때는\n",
    "# 식1 if 조건식1 else 식2 if 조건식2 else 식3\n",
    "\n",
    "# a에 저장되어 있는 데이터에 대해, 1은 문자열로 변환, 2는 실수로 변환\n",
    "# 나머지 3 이상은 모두 10을 더해서 출력\n",
    "\n",
    "a = list(range(1,11))\n",
    "\n",
    "def fun(x) :\n",
    "    if x == 1:\n",
    "        return str(x)\n",
    "    elif x == 2:\n",
    "        return float(x)\n",
    "    else :\n",
    "        return x+10\n",
    "print(list(map(fun, a)))\n",
    "\n",
    "result = list(map(lambda x : str(x) if x == 1 else float(x) if x == 2 else x + 10, a))\n",
    "print(result)"
   ]
  },
  {
   "cell_type": "code",
   "execution_count": 83,
   "metadata": {},
   "outputs": [
    {
     "name": "stdout",
     "output_type": "stream",
     "text": [
      "[6, 14, 24, 36, 50]\n"
     ]
    }
   ],
   "source": [
    "# 람다함수의 매개변수가 여러개인 경우\n",
    "a = [1,2,3,4,5]\n",
    "b = [6,7,8,9,10]\n",
    "\n",
    "# a*b\n",
    "result = list(map(lambda x,y : x*y, a,b))\n",
    "print(result)"
   ]
  },
  {
   "cell_type": "code",
   "execution_count": null,
   "metadata": {},
   "outputs": [],
   "source": [
    "a = [7,3,1,4,9,6,2]"
   ]
  },
  {
   "cell_type": "code",
   "execution_count": 86,
   "metadata": {},
   "outputs": [
    {
     "name": "stdout",
     "output_type": "stream",
     "text": [
      "[False, False, False, True, True]\n",
      "[4, 5]\n"
     ]
    }
   ],
   "source": [
    "def fun2(x) :\n",
    "    return x>3 and x<10\n",
    "print(list(map(fun2,a))) # 출력결과가 불린형으로 나옴\n",
    "print(list(filter(fun2, a)))\n",
    "\n",
    "# 필터는 조건에 만족하는 데이터만 추출\n",
    "# 즉, filter로 지정한 함수의 리턴값이 True일 때만 해당 요소를 추출"
   ]
  },
  {
   "cell_type": "code",
   "execution_count": 87,
   "metadata": {},
   "outputs": [],
   "source": [
    "# reduce()\n",
    "from functools import reduce"
   ]
  },
  {
   "cell_type": "code",
   "execution_count": 91,
   "metadata": {},
   "outputs": [],
   "source": [
    "def fun3(x,y):\n",
    "    return x+y"
   ]
  },
  {
   "cell_type": "code",
   "execution_count": 92,
   "metadata": {},
   "outputs": [
    {
     "name": "stdout",
     "output_type": "stream",
     "text": [
      "15\n"
     ]
    }
   ],
   "source": [
    "a = [1,2,3,4,5]\n",
    "print(reduce(fun3, a))"
   ]
  },
  {
   "cell_type": "code",
   "execution_count": 94,
   "metadata": {},
   "outputs": [
    {
     "name": "stdout",
     "output_type": "stream",
     "text": [
      "15\n",
      "15\n"
     ]
    }
   ],
   "source": [
    "# 람다식으로 변환하면...\n",
    "print(reduce(lambda x, y : x+y , a))\n",
    "\n",
    "# 위 구문과 같음\n",
    "a = [1,2,3,4,5]\n",
    "x = a[0]\n",
    "for i in range(len(a)-1) : # range(4) = 0~3\n",
    "    x=x+a[i+1]\n",
    "print(x)"
   ]
  },
  {
   "cell_type": "code",
   "execution_count": 95,
   "metadata": {},
   "outputs": [
    {
     "name": "stdout",
     "output_type": "stream",
     "text": [
      "1\n",
      "1\n"
     ]
    }
   ],
   "source": [
    "x=1 # 전역변수 : 함수 바깥에 선언된 변수\n",
    "    # 함수 내/외부에서 모두 접근 가능 변수, 전역 변수\n",
    "def f():\n",
    "    print(x)\n",
    "f()\n",
    "print(x)"
   ]
  },
  {
   "cell_type": "code",
   "execution_count": 100,
   "metadata": {},
   "outputs": [
    {
     "name": "stdout",
     "output_type": "stream",
     "text": [
      "2\n"
     ]
    },
    {
     "ename": "NameError",
     "evalue": "name 'x2' is not defined",
     "output_type": "error",
     "traceback": [
      "\u001b[1;31m---------------------------------------------------------------------------\u001b[0m",
      "\u001b[1;31mNameError\u001b[0m                                 Traceback (most recent call last)",
      "\u001b[1;32m<ipython-input-100-16a7f76ce844>\u001b[0m in \u001b[0;36m<module>\u001b[1;34m\u001b[0m\n\u001b[0;32m      5\u001b[0m \u001b[1;33m\u001b[0m\u001b[0m\n\u001b[0;32m      6\u001b[0m \u001b[0mf2\u001b[0m\u001b[1;33m(\u001b[0m\u001b[1;33m)\u001b[0m\u001b[1;33m\u001b[0m\u001b[1;33m\u001b[0m\u001b[0m\n\u001b[1;32m----> 7\u001b[1;33m \u001b[0mprint\u001b[0m\u001b[1;33m(\u001b[0m\u001b[0mx2\u001b[0m\u001b[1;33m)\u001b[0m\u001b[1;33m\u001b[0m\u001b[1;33m\u001b[0m\u001b[0m\n\u001b[0m",
      "\u001b[1;31mNameError\u001b[0m: name 'x2' is not defined"
     ]
    }
   ],
   "source": [
    "# 함수 내부에서 변수를 선언\n",
    "def f2():\n",
    "    x2=2\n",
    "    print(x2)\n",
    "    \n",
    "f2()\n",
    "print(x2)"
   ]
  },
  {
   "cell_type": "code",
   "execution_count": 103,
   "metadata": {},
   "outputs": [
    {
     "name": "stdout",
     "output_type": "stream",
     "text": [
      "20\n",
      "20\n"
     ]
    }
   ],
   "source": [
    "x=10 # 전역변수\n",
    "def f3():\n",
    "    # global : 함수 내부에서 전역변수 값을 변경하고자 하는 경우\n",
    "    # global 뒤에 전역변수 이름 지정\n",
    "    global x\n",
    "    x=20 # 지역변수\n",
    "    print(x)\n",
    "\n",
    "f3() # 지역변수값 출력\n",
    "print(x) # 전역변수값 출력 => 전역변수값을 20으로 출력하고 싶다면?"
   ]
  },
  {
   "cell_type": "code",
   "execution_count": 107,
   "metadata": {},
   "outputs": [
    {
     "name": "stdout",
     "output_type": "stream",
     "text": [
      "20\n",
      "20\n"
     ]
    }
   ],
   "source": [
    "def f4():\n",
    "    global x4\n",
    "    x4=20\n",
    "    print(x4)\n",
    "f4()\n",
    "print(x4)\n",
    "\n",
    "# 지역변수 x4가 global을 사용하여 전역변수로 인식\n",
    "# 함수 밖에서도 x4를 출력할 수 있음"
   ]
  },
  {
   "cell_type": "code",
   "execution_count": 110,
   "metadata": {},
   "outputs": [
    {
     "name": "stdout",
     "output_type": "stream",
     "text": [
      "hello\n"
     ]
    }
   ],
   "source": [
    "# 함수 내부에 함수 정의\n",
    "\"\"\"\n",
    "def 함수1():\n",
    "    문장\n",
    "    def 함수2():\n",
    "    문장\n",
    "\"\"\"\n",
    "\n",
    "def outer():\n",
    "    msg=\"hello\"\n",
    "    def inner():\n",
    "        print(msg)\n",
    "    inner()\n",
    "outer()"
   ]
  },
  {
   "cell_type": "code",
   "execution_count": 116,
   "metadata": {},
   "outputs": [
    {
     "name": "stdout",
     "output_type": "stream",
     "text": [
      "10\n"
     ]
    }
   ],
   "source": [
    "def f5():\n",
    "    x=10 # 전역변수\n",
    "    def f6():\n",
    "        x=20 # 지역변수\n",
    "    f6()\n",
    "    print(x)\n",
    "f5()"
   ]
  },
  {
   "cell_type": "code",
   "execution_count": 120,
   "metadata": {},
   "outputs": [],
   "source": [
    "\n",
    "f =open('c:/da/newFile.txt', \"w\") # 열기 모드 (쓰기(w)/읽기(r))\n",
    "# 경로지정 안하면 작업하는 파이썬 파일이 있는 곳에 저장\n",
    "# 파일 내용 작성\n",
    "for i in range(1, 11):\n",
    "    data = \"%d번 줄 입니다 \\n\" % i\n",
    "    f.write(data)\n",
    "f.close()\n",
    "# 파일을 쓰기 모드로 열게 되면, 기존에 파일이 존재한 경우\n",
    "# 기존 내용이 사라짐"
   ]
  },
  {
   "cell_type": "code",
   "execution_count": 5,
   "metadata": {},
   "outputs": [
    {
     "name": "stdout",
     "output_type": "stream",
     "text": [
      "1번 줄 입니다 \n",
      "\n"
     ]
    }
   ],
   "source": [
    "# readline 함수\n",
    "f = open('c:/da/newFile.txt', \"r\")\n",
    "line = f.readline()\n",
    "print(line)\n",
    "f.close()"
   ]
  },
  {
   "cell_type": "code",
   "execution_count": 1,
   "metadata": {},
   "outputs": [
    {
     "name": "stdout",
     "output_type": "stream",
     "text": [
      "1번 줄 입니다 \n",
      "\n",
      "2번 줄 입니다 \n",
      "\n",
      "3번 줄 입니다 \n",
      "\n",
      "4번 줄 입니다 \n",
      "\n",
      "5번 줄 입니다 \n",
      "\n",
      "6번 줄 입니다 \n",
      "\n",
      "7번 줄 입니다 \n",
      "\n",
      "8번 줄 입니다 \n",
      "\n",
      "9번 줄 입니다 \n",
      "\n",
      "10번 줄 입니다 \n",
      "\n"
     ]
    }
   ],
   "source": [
    "f = open('c:/da/newFile.txt', \"r\")\n",
    "while True :\n",
    "    line = f.readline()\n",
    "    if not line : break\n",
    "    print(line)\n",
    "f.close()"
   ]
  },
  {
   "cell_type": "code",
   "execution_count": 2,
   "metadata": {},
   "outputs": [
    {
     "name": "stdout",
     "output_type": "stream",
     "text": [
      "['1번 줄 입니다 \\n', '2번 줄 입니다 \\n', '3번 줄 입니다 \\n', '4번 줄 입니다 \\n', '5번 줄 입니다 \\n', '6번 줄 입니다 \\n', '7번 줄 입니다 \\n', '8번 줄 입니다 \\n', '9번 줄 입니다 \\n', '10번 줄 입니다 \\n']\n"
     ]
    }
   ],
   "source": [
    "# readlines 함수\n",
    "f = open('c:/da/newFile.txt', \"r\")\n",
    "lines = f.readlines()\n",
    "print(lines) # 리스트로 출력"
   ]
  },
  {
   "cell_type": "code",
   "execution_count": 18,
   "metadata": {},
   "outputs": [
    {
     "name": "stdout",
     "output_type": "stream",
     "text": [
      "Life is too short\n"
     ]
    }
   ],
   "source": [
    "f = open('c:/da/newFile.txt', \"r\")\n",
    "data = f.read()\n",
    "print(data)\n",
    "f.close()"
   ]
  },
  {
   "cell_type": "code",
   "execution_count": 12,
   "metadata": {},
   "outputs": [],
   "source": [
    "#파일에 새로운 내용 추가 - 추가모드(append)\n",
    "f = open(\"c:/da/newFile.txt\", 'a')\n",
    "for i in range(11,20):\n",
    "    data = \"%d번째 줄입니다\\n\" % i\n",
    "    f.write(data)\n",
    "f.close()"
   ]
  },
  {
   "cell_type": "code",
   "execution_count": 17,
   "metadata": {},
   "outputs": [],
   "source": [
    "# 파일을 닫기 위한 구문 없이 생성\n",
    "with open('c:/da/newFile.txt', 'w') as f :\n",
    "    f.write(\"Life is too short\")\n",
    "# with 구문은 함수를 벗어났을 때 자동으로 close를 해줌"
   ]
  },
  {
   "cell_type": "markdown",
   "metadata": {},
   "source": [
    "#### Q1.\n",
    "회문 판별하기 (앞으로 읽어도, 뒤로 읽어도 같은 단어)\n",
    "\n",
    "단어 입력: level(입력)\n",
    "True\n",
    "단어 입력: hello(입력)\n",
    "False"
   ]
  },
  {
   "cell_type": "code",
   "execution_count": 144,
   "metadata": {},
   "outputs": [
    {
     "name": "stdout",
     "output_type": "stream",
     "text": [
      "word : level\n",
      "True\n"
     ]
    }
   ],
   "source": [
    "word = input(\"word : \")\n",
    "\n",
    "reword = word[::-1] # 단어배열 반대로 저장\n",
    "\n",
    "if word == reword : # 뒤집은 단어와 원 단어가같으면 True 출력\n",
    "    print('True')\n",
    "else :\n",
    "    print('False')"
   ]
  },
  {
   "cell_type": "markdown",
   "metadata": {},
   "source": [
    "#### Q2.\n",
    "n-gram 만들기 (두 글자씩 자르는 것)\n",
    "\n",
    "입력 : hello\n",
    "\n",
    "he\n",
    "el\n",
    "ll\n",
    "lo"
   ]
  },
  {
   "cell_type": "code",
   "execution_count": 6,
   "metadata": {},
   "outputs": [
    {
     "name": "stdout",
     "output_type": "stream",
     "text": [
      "word : noproblem\n",
      "['no', 'op', 'pr', 'ro', 'ob', 'bl', 'le', 'em']\n"
     ]
    }
   ],
   "source": [
    "in_word = input('word : ')\n",
    "word_list = []\n",
    "n = len(in_word)\n",
    "\n",
    "for i in range(n-1):\n",
    "    word_p = in_word[i] + in_word[i+1] # 0,1/1,2/...으로 word_p에 저장하여 word_list에 추가\n",
    "    word_list.append(word_p)\n",
    "    \n",
    "print(word_list)"
   ]
  },
  {
   "cell_type": "markdown",
   "metadata": {},
   "source": [
    "#### Q3.\n",
    "\n",
    "파일명 포매팅\n",
    "\n",
    "입력:\n",
    "1.jpg 10.jpg 2.jpg (input)\n",
    "\n",
    "출력:\n",
    "['001.jpg', '010.jpg', '002.jpg'] (list, str, 세자리 구성)"
   ]
  },
  {
   "cell_type": "code",
   "execution_count": 27,
   "metadata": {},
   "outputs": [
    {
     "name": "stdout",
     "output_type": "stream",
     "text": [
      "file name : 1.jpg 10.jpg 2.jpg 5.jpg\n",
      "['001.jpg', '010.jpg', '002.jpg', '005.jpg']\n"
     ]
    }
   ],
   "source": [
    "file = input('file name : ')\n",
    "\n",
    "def rename(x):\n",
    "    file_nm = list(x.split('.jpg ')) # .jpg 로 split\n",
    "    file_nm_li = []\n",
    "    for i in range(len(file_nm)):\n",
    "        if i == (len(file_nm)-1) : # 마지막 이름은 .jpg가 지워지지 않기 때문에 따로 지워줌\n",
    "            name, form = file_nm[i].split('.')\n",
    "            rename = \"%03d\" % int(name)\n",
    "        else :\n",
    "            rename = \"%03d\" % int(file_nm[i])\n",
    "        file_nm_li.append(str(rename) + '.jpg') # rename 변수에 저장해서 file_nm_li에 저장\n",
    "    return file_nm_li\n",
    "    \n",
    "print(rename(file))\n",
    "    "
   ]
  },
  {
   "cell_type": "code",
   "execution_count": null,
   "metadata": {},
   "outputs": [],
   "source": []
  },
  {
   "cell_type": "markdown",
   "metadata": {},
   "source": [
    "#### Q4.\n",
    "약 2,000년 전에는 전쟁에서 병사들이 적들에 의해 동굴에 갇히게 되는 경우가 종종 있었다고 한다.\n",
    "\n",
    "그들은 포로가 되는것을 방지하기 위해 동그랗게 서서 마지막 한 사람이 남을 때 까지 순서대로 돌아가며 세번째에 해당되는 사람을 죽여 나갔다고 한다.\n",
    "\n",
    "\n",
    "마지막으로 남게되는 사람은 자살하기로 약속되어 있었지만 보통 적들에게 항복을 하는 경우가 많았다고 한다.\n",
    "\n",
    "\n",
    "여러분이 풀어야 할 문제는 총 인원수(N)와 간격(K)이 주어졌을 때 가장 마지막에 살아남는 병사의 위치(the safe position)를 알아내는 것이다.\n",
    "\n",
    "\n",
    "예를 들어 병사수가 총 10명이고 돌아가며 세번째에 해당되는 병사를 제거하는 경우는 다음과 같다:\n",
    "\n",
    "\n",
    "N = 10, K = 3 (고정)\n",
    "\n",
    "\n",
    "위의 경우 다음과 같은 순서로 병사들이 제거된다. (괄호는 제거되는 병사를 의미한다)\n",
    "\n",
    "\n",
    "1st round: 1 2 (3) 4 5 (6) 7 8 (9) 10\n",
    "\n",
    "2nd round:                            1 (2) 4 5 (7) 8 10\n",
    "\n",
    "3rd round:                                                (1) 4 5 (8) 10\n",
    "\n",
    "4th round:                                                               4 (5) 10\n",
    "\n",
    "5th round:                                                                        4 (10)\n",
    "\n",
    "위 예에서 끝가지 살아남는 병사는 4, 즉 4번째 병사이다.\n",
    "\n",
    "\n",
    "입력 데이터는 총 병사수 N과 간격 K이다.\n",
    "\n",
    "출력 데이터는 마지막까지 살아남는 병사의 위치이다.\n",
    "\n",
    "\n",
    "(단, 최초 시작은 1번 병사부터이다.)\n",
    "\n",
    "\n",
    "입출력 예는 다음과 같다:\n",
    "\n",
    "\n",
    "initial data:\n",
    "\n",
    "10 3\n",
    "\n",
    "\n",
    "answer:\n",
    "\n",
    "4"
   ]
  },
  {
   "cell_type": "code",
   "execution_count": 143,
   "metadata": {
    "scrolled": true
   },
   "outputs": [
    {
     "name": "stdout",
     "output_type": "stream",
     "text": [
      "N&K : 10 3\n",
      "[1, 2, 3, 4, 5, 6, 7, 8, 9, 10]\n",
      "[1, 2, 4, 5, 7, 8, 10]\n",
      "[1, 4, 5, 8, 10]\n",
      "[4, 5, 10]\n",
      "[4, 10]\n",
      "[4]\n",
      "[4]\n"
     ]
    }
   ],
   "source": [
    "N_k = input('N&K : ')\n",
    "N, k = N_k.split(' ')\n",
    "N = int(N)\n",
    "k = int(k)\n",
    "live = list(range(1,N+1))\n",
    "print(live)\n",
    "i = 0+k-1\n",
    "\n",
    "while len(live) > 1:\n",
    "    die = live[i::k] # 지워야 할 리스트를 die로 저장\n",
    "    for j in range(len(die)):\n",
    "        if live.count(die[j]) != 0: # die 리스트에 있는 요소가 live에 있는지 count함수로 확인 -> 있는 경우\n",
    "            a=live.index(die[j]) # 최종적으로 die 리스트 마지막 요소의 인덱스가 저장됨\n",
    "            if a != len(live)-1 :\n",
    "                last_num = live[a+1]\n",
    "            else :\n",
    "                last_num = live[0] # die 리스트의 마지막 요소 바로 다음 인덱스에 해당하는 요소가 last_num로 저장\n",
    "            live.remove(die[j]) # die 리스트에 있는요소들이 live에서 삭제됨\n",
    "    print(live)\n",
    "           \n",
    "    num = live.index(last_num) # last_num에 저장된 요소가 현재 live에서 어디 위치에 있는지 -> 다음 라운드 시작 넘버\n",
    "    if num+k > len(live):\n",
    "        i = k - (len(live) - num) -1\n",
    "    elif num == 0:\n",
    "        i = num +(k-1)\n",
    "    # k만큼 증가했을 때 len(live)를 넘는 경우와 시작넘버가 0인 경우로 나눠서 die 리스트 구성할 첫 시작 인덱스 결정\n",
    "    \n",
    "print(live)"
   ]
  },
  {
   "cell_type": "code",
   "execution_count": null,
   "metadata": {},
   "outputs": [],
   "source": []
  },
  {
   "cell_type": "code",
   "execution_count": null,
   "metadata": {},
   "outputs": [],
   "source": []
  }
 ],
 "metadata": {
  "kernelspec": {
   "display_name": "Python 3",
   "language": "python",
   "name": "python3"
  },
  "language_info": {
   "codemirror_mode": {
    "name": "ipython",
    "version": 3
   },
   "file_extension": ".py",
   "mimetype": "text/x-python",
   "name": "python",
   "nbconvert_exporter": "python",
   "pygments_lexer": "ipython3",
   "version": "3.7.3"
  }
 },
 "nbformat": 4,
 "nbformat_minor": 2
}
